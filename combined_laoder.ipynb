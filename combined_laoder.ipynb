{
 "cells": [
  {
   "cell_type": "code",
   "execution_count": 2,
   "id": "55f291b2",
   "metadata": {},
   "outputs": [
    {
     "name": "stdout",
     "output_type": "stream",
     "text": [
      "Files already downloaded and verified\n",
      "Files already downloaded and verified\n"
     ]
    }
   ],
   "source": [
    "import torch\n",
    "from matplotlib import pyplot as plt\n",
    "import torch.nn as nn\n",
    "import torch.optim as optim\n",
    "import torchvision\n",
    "import torchvision.transforms as transforms\n",
    "from torchvision.models import resnet18\n",
    "from tqdm.notebook import tqdm\n",
    "import numpy as np\n",
    "import torch.nn.functional as F\n",
    "import os\n",
    "import pickle\n",
    "from attack_pgd import pgd\n",
    "from torch.nn.parallel import DataParallel\n",
    "import logging\n",
    "from torch.utils.tensorboard import SummaryWriter\n",
    "from torchcontrib.optim import SWA\n",
    "# Set the device\n",
    "os.environ[\"CUDA_VISIBLE_DEVICES\"] = \"0,1,2,3\"\n",
    "device = torch.device(\"cuda\" if torch.cuda.is_available() else \"cpu\")\n",
    "\n",
    "# Set the random seed for reproducibility\n",
    "torch.manual_seed(42)\n",
    "\n",
    "# Define constants\n",
    "UNLABELED_BS = 50\n",
    "TRAIN_BS = 50\n",
    "TEST_BS = 128\n",
    "num_train_samples = 5000\n",
    "samples_per_class = int(num_train_samples / 10)\n",
    "\n",
    "num_validation_samples = int(num_train_samples * 0.1)\n",
    "\n",
    "\n",
    "# Define transformations for data augmentation\n",
    "transform_train = transforms.Compose([\n",
    "    transforms.RandomCrop(32, padding=4),\n",
    "    transforms.RandomHorizontalFlip(),\n",
    "    transforms.ToTensor(),\n",
    "    transforms.Normalize((0.4914, 0.4822, 0.4465), (0.2023, 0.1994, 0.2010))\n",
    "])\n",
    "\n",
    "transform_test = transforms.Compose([\n",
    "    transforms.ToTensor(),\n",
    "    transforms.Normalize((0.4914, 0.4822, 0.4465), (0.2023, 0.1994, 0.2010))\n",
    "])\n",
    "\n",
    "# Load CIFAR-10 dataset\n",
    "trainset = torchvision.datasets.CIFAR10(root='./data', train=True, download=True, transform=transform_train)\n",
    "testset = torchvision.datasets.CIFAR10(root='./data', train=False, download=True, transform=transform_test)\n",
    "\n",
    "train_loader = torch.utils.data.DataLoader(trainset, batch_size=TRAIN_BS, shuffle=True, num_workers=2)\n",
    "test_loader = torch.utils.data.DataLoader(testset, batch_size=TEST_BS, shuffle=False, num_workers=2)\n",
    "\n",
    "# Create labeled and unlabeled datasets\n",
    "labeled_indices = []\n",
    "unlabeled_indices = []\n",
    "\n",
    "# Split the trainset into labeled and unlabeled data\n",
    "for class_index in range(10):\n",
    "    class_indices = torch.where(torch.Tensor(trainset.targets) == class_index)[0]\n",
    "    labeled_indices.extend(class_indices[:samples_per_class])\n",
    "    unlabeled_indices.extend(class_indices[samples_per_class:])\n",
    "\n",
    "labeled_dataset = torch.utils.data.Subset(trainset, labeled_indices)\n",
    "unlabeled_dataset = torch.utils.data.Subset(trainset, unlabeled_indices)\n",
    "\n",
    "# Create data loaders for labeled and unlabeled data\n",
    "labeled_loader = torch.utils.data.DataLoader(labeled_dataset, batch_size=TRAIN_BS, shuffle=True, num_workers=2)\n",
    "unlabeled_loader = torch.utils.data.DataLoader(unlabeled_dataset, batch_size=UNLABELED_BS, shuffle=True, num_workers=2)\n",
    "\n",
    "#labeled_train_subset, labeled_validation_subset = torch.utils.data.random_split(\n",
    "#    labeled_dataset, [num_train_samples - num_validation_samples, num_validation_samples])\n",
    "\n",
    "#labeled_loader = torch.utils.data.DataLoader(\n",
    "#    labeled_train_subset, batch_size=TRAIN_BS, shuffle=True, num_workers=2)\n",
    "\n",
    "#labeled_validation_loader = torch.utils.data.DataLoader(\n",
    "#    labeled_validation_subset, batch_size=TEST_BS, shuffle=False, num_workers=2)\n"
   ]
  },
  {
   "cell_type": "code",
   "execution_count": 3,
   "id": "65e0cbdb",
   "metadata": {},
   "outputs": [],
   "source": [
    "import torch\n",
    "import torch.nn as nn\n",
    "import torchvision.transforms as transforms\n",
    "from torch.nn import functional as F\n",
    "from torchvision.datasets import CIFAR10\n",
    "from torch.utils.data import DataLoader\n",
    "from torch.nn.utils import weight_norm\n",
    "\n",
    "import sys\n",
    "import math\n",
    "import itertools\n",
    "from torch.autograd import Variable, Function"
   ]
  },
  {
   "cell_type": "code",
   "execution_count": 4,
   "id": "d2eaad57",
   "metadata": {},
   "outputs": [],
   "source": [
    "# For cifar_cnn\n",
    "class CNN(nn.Module):\n",
    "    \"\"\"\n",
    "    CNN from Mean Teacher paper\n",
    "    \"\"\"\n",
    "\n",
    "    def __init__(self, num_classes=10, isL2 = False, dropRatio = 0.0):\n",
    "        super(CNN, self).__init__()\n",
    "\n",
    "        self.isL2 = isL2\n",
    "\n",
    "        self.activation = nn.LeakyReLU(0.1)\n",
    "        self.conv1a = weight_norm(nn.Conv2d(3, 128, 3, padding=1))\n",
    "        self.bn1a = nn.BatchNorm2d(128)\n",
    "        self.conv1b = weight_norm(nn.Conv2d(128, 128, 3, padding=1))\n",
    "        self.bn1b = nn.BatchNorm2d(128)\n",
    "        self.conv1c = weight_norm(nn.Conv2d(128, 128, 3, padding=1))\n",
    "        self.bn1c = nn.BatchNorm2d(128)\n",
    "        self.mp1 = nn.MaxPool2d(2, stride=2, padding=0)\n",
    "        # self.drop1  = nn.Dropout(0.5)\n",
    "        # self.drop1  = nn.Dropout(dropRatio)\n",
    "        self.drop  = nn.Dropout(dropRatio)\n",
    "\n",
    "        self.conv2a = weight_norm(nn.Conv2d(128, 256, 3, padding=1))\n",
    "        self.bn2a = nn.BatchNorm2d(256)\n",
    "        self.conv2b = weight_norm(nn.Conv2d(256, 256, 3, padding=1))\n",
    "        self.bn2b = nn.BatchNorm2d(256)\n",
    "        self.conv2c = weight_norm(nn.Conv2d(256, 256, 3, padding=1))\n",
    "        self.bn2c = nn.BatchNorm2d(256)\n",
    "        self.mp2 = nn.MaxPool2d(2, stride=2, padding=0)\n",
    "        # self.drop2  = nn.Dropout(0.5)\n",
    "        # self.drop2  = nn.Dropout(dropRatio)\n",
    "\n",
    "        self.conv3a = weight_norm(nn.Conv2d(256, 512, 3, padding=0))\n",
    "        self.bn3a = nn.BatchNorm2d(512)\n",
    "        self.conv3b = weight_norm(nn.Conv2d(512, 256, 1, padding=0))\n",
    "        self.bn3b = nn.BatchNorm2d(256)\n",
    "        self.conv3c = weight_norm(nn.Conv2d(256, 128, 1, padding=0))\n",
    "        self.bn3c = nn.BatchNorm2d(128)\n",
    "        self.ap3 = nn.AvgPool2d(6, stride=2, padding=0)\n",
    "\n",
    "        self.fc1 =  weight_norm(nn.Linear(128, num_classes))\n",
    "        self.fc2 =  weight_norm(nn.Linear(128, num_classes))\n",
    "\n",
    "    def forward(self, x, debug=False):\n",
    "        x = self.activation(self.bn1a(self.conv1a(x)))\n",
    "        x = self.activation(self.bn1b(self.conv1b(x)))\n",
    "        x = self.activation(self.bn1c(self.conv1c(x)))\n",
    "        x = self.mp1(x)\n",
    "        x = self.drop(x)\n",
    "\n",
    "        x = self.activation(self.bn2a(self.conv2a(x)))\n",
    "        x = self.activation(self.bn2b(self.conv2b(x)))\n",
    "        x = self.activation(self.bn2c(self.conv2c(x)))\n",
    "        x = self.mp2(x)\n",
    "        x = self.drop(x)\n",
    "\n",
    "        x = self.activation(self.bn3a(self.conv3a(x)))\n",
    "        x = self.activation(self.bn3b(self.conv3b(x)))\n",
    "        x = self.activation(self.bn3c(self.conv3c(x)))\n",
    "        x = self.ap3(x)\n",
    "\n",
    "        x = x.view(-1, 128)\n",
    "        if self.isL2:\n",
    "            x = F.normalize(x)\n",
    "        # return self.fc1(x), self.fc2(x), x\n",
    "        return self.fc1(x)#, self.fc2(x), x\n",
    "\n",
    "        "
   ]
  },
  {
   "cell_type": "code",
   "execution_count": null,
   "id": "d7d87c6d",
   "metadata": {},
   "outputs": [],
   "source": [
    "\"\"\"\n",
    "from models.wideresnet import WideResNet\n",
    "import torch\n",
    "from torch.nn import Sequential, Module\n",
    "\n",
    "def get_model(name, num_classes=10, normalize_input=False):\n",
    "    name_parts = name.split('-')\n",
    "    if name_parts[0] == 'wrn':\n",
    "        depth = int(name_parts[1])\n",
    "        widen = int(name_parts[2])\n",
    "        model = WideResNet(\n",
    "            depth=depth, num_classes=num_classes, widen_factor=widen)\n",
    "    if normalize_input:\n",
    "        model = Sequential(NormalizeInput(), model)\n",
    "\n",
    "    return model\n",
    "\n",
    "class NormalizeInput(Module):\n",
    "    def __init__(self, mean=(0.4914, 0.4822, 0.4465),\n",
    "                 std=(0.2023, 0.1994, 0.2010)):\n",
    "        super().__init__()\n",
    "\n",
    "        self.register_buffer('mean', torch.Tensor(mean).reshape(1, -1, 1, 1))\n",
    "        self.register_buffer('std', torch.Tensor(std).reshape(1, -1, 1, 1))\n",
    "\n",
    "    def forward(self, x):\n",
    "        return (x - self.mean) / self.std\n",
    "\"\"\""
   ]
  },
  {
   "cell_type": "code",
   "execution_count": null,
   "id": "a5e049e1",
   "metadata": {},
   "outputs": [],
   "source": []
  },
  {
   "cell_type": "code",
   "execution_count": 5,
   "id": "2efe3f19",
   "metadata": {},
   "outputs": [],
   "source": [
    "from __future__ import print_function\n",
    "import os\n",
    "import argparse\n",
    "import torch\n",
    "import torch.nn as nn\n",
    "import torch.nn.functional as F\n",
    "import torchvision\n",
    "import torch.optim as optim\n",
    "from torchvision import datasets, transforms\n",
    "\n",
    "#from models.wideresnet import *\n",
    "#from models.resnet import *\n",
    "#from losses import trades_loss"
   ]
  },
  {
   "cell_type": "code",
   "execution_count": 6,
   "id": "46b374b2",
   "metadata": {},
   "outputs": [],
   "source": [
    "model_dir = './rst_adv/combined_loader/13CNN/mixup'\n",
    "if not os.path.exists(model_dir):\n",
    "    os.makedirs(model_dir)\n",
    "\n",
    "logging.basicConfig(\n",
    "    level=logging.INFO,\n",
    "    format=\"%(asctime)s | %(message)s\",\n",
    "    handlers=[\n",
    "        logging.FileHandler(os.path.join(model_dir, 'fly_soft_SWA70_CNN_lowBS_50_50_50k_training.log')),\n",
    "        logging.StreamHandler()\n",
    "    ])\n",
    "logger = logging.getLogger()"
   ]
  },
  {
   "cell_type": "code",
   "execution_count": 7,
   "id": "d042a6cf",
   "metadata": {},
   "outputs": [],
   "source": [
    "##############################################################################\n",
    "\n",
    "def loss_soft_reg_ep(preds, labels, soft_labels, device):\n",
    "    num_classes = 10\n",
    "    prob = F.softmax(preds, dim=1)\n",
    "    prob_avg = torch.mean(prob, dim=0)\n",
    "    p = torch.ones(num_classes).to(device) / args.num_classes\n",
    "\n",
    "    L_c = -torch.mean(torch.sum(soft_labels * F.log_softmax(preds, dim=1), dim=1))   # Soft labels\n",
    "    L_p = -torch.sum(torch.log(prob_avg) * p)\n",
    "    L_e = -torch.mean(torch.sum(prob * F.log_softmax(preds, dim=1), dim=1))\n",
    "\n",
    "    loss = L_c + 0.8 * L_p + 0.4 * L_e\n",
    "    return prob, loss\n",
    "\n",
    "##############################################################################\n",
    "def mixup_data(x, y, alpha=1.0, device='cuda'):\n",
    "    '''Returns mixed inputs, pairs of targets, and lambda'''\n",
    "    if alpha > 0:\n",
    "        lam = np.random.beta(alpha, alpha)\n",
    "    else:\n",
    "        lam = 1\n",
    "\n",
    "    batch_size = x.size()[0]\n",
    "    if device=='cuda':\n",
    "        index = torch.randperm(batch_size).to(device)\n",
    "    else:\n",
    "        index = torch.randperm(batch_size)\n",
    "\n",
    "    mixed_x = lam * x + (1 - lam) * x[index, :]\n",
    "    y_a, y_b = y, y[index]\n",
    "    return mixed_x, y_a, y_b, lam\n",
    "\n",
    "\n",
    "\n"
   ]
  },
  {
   "cell_type": "code",
   "execution_count": 8,
   "id": "275ca0d3",
   "metadata": {},
   "outputs": [],
   "source": [
    "\"\"\"\n",
    "def loss_mixup_reg_ep(preds, labels, targets_a, targets_b, device, lam):\n",
    "    num_classes = 10\n",
    "    prob = F.softmax(preds, dim=1)\n",
    "    prob_avg = torch.mean(prob, dim=0)\n",
    "    p = torch.ones(num_classes).to(device) / num_classes\n",
    "\n",
    "    mixup_loss_a = -torch.mean(torch.sum(targets_a * F.log_softmax(preds, dim=1), dim=1))\n",
    "    mixup_loss_b = -torch.mean(torch.sum(targets_b * F.log_softmax(preds, dim=1), dim=1))\n",
    "    mixup_loss = lam * mixup_loss_a + (1 - lam) * mixup_loss_b\n",
    "\n",
    "    L_p = -torch.sum(torch.log(prob_avg) * p)\n",
    "    L_e = -torch.mean(torch.sum(prob * F.log_softmax(preds, dim=1), dim=1))\n",
    "\n",
    "    loss = mixup_loss + 0.8 * L_p + 0.4 * L_e\n",
    "    return prob, loss\n",
    "\"\"\""
   ]
  },
  {
   "cell_type": "code",
   "execution_count": 12,
   "id": "eec3b75a",
   "metadata": {},
   "outputs": [],
   "source": [
    "\n",
    "def loss_mixup_reg_ep(preds, labels, targets_a, targets_b, device, lam):\n",
    "    num_classes = preds.size(1)  # Get the number of classes from preds\n",
    "    prob = F.softmax(preds, dim=1)\n",
    "    prob_avg = torch.mean(prob, dim=0)\n",
    "    p = torch.ones(num_classes).to(device) / num_classes\n",
    "\n",
    "    # Ensure that targets_a and targets_b have the correct shape\n",
    "    targets_a_onehot = F.one_hot(targets_a, num_classes=num_classes).float()\n",
    "    targets_b_onehot = F.one_hot(targets_b, num_classes=num_classes).float()\n",
    "\n",
    "    mixup_loss_a = -torch.mean(torch.sum(targets_a_onehot * F.log_softmax(preds, dim=1), dim=1))\n",
    "    mixup_loss_b = -torch.mean(torch.sum(targets_b_onehot * F.log_softmax(preds, dim=1), dim=1))\n",
    "    mixup_loss = lam * mixup_loss_a + (1 - lam) * mixup_loss_b\n",
    "\n",
    "    L_p = -torch.sum(torch.log(prob_avg) * p)\n",
    "    L_e = -torch.mean(torch.sum(prob * F.log_softmax(preds, dim=1), dim=1))\n",
    "\n",
    "    loss = mixup_loss + 0.8 * L_p + 0.4 * L_e\n",
    "    return prob, loss\n"
   ]
  },
  {
   "cell_type": "code",
   "execution_count": 13,
   "id": "83f4229c",
   "metadata": {},
   "outputs": [],
   "source": [
    "\n",
    "step_size= 0.007\n",
    "beta = 6\n",
    "num_steps = 10\n",
    "epsilon=0.031\n",
    "#lr = 0.1\n",
    "batch_size= 128\n",
    "test_batch_size= 128\n",
    "epochs = 150\n",
    "weight_decay= 2e-4\n",
    "momentum = 0.9\n",
    "seed = 1\n",
    "log_interval= 100\n",
    "#model_dir= './rst_adv/trades'\n",
    "distance = 'l_inf'\n",
    "eval_attack_batches = 1\n",
    "pgd_num_steps = 10\n",
    "pgd_step_size = 0.007\n",
    "\n",
    "swa_start = 70\n",
    "swa_freq = 5\n",
    "\n",
    "\n",
    "def train_new(model, device, labeled_loader, unlabeled_loader, optimizer, swa_optimizer, epoch):    \n",
    "\n",
    "    #loss_ema = 0.\n",
    "    alpha=1\n",
    "    labeled_iter = iter(labeled_loader)    \n",
    "    num_iter = (len(unlabeled_loader.dataset)//TRAIN_BS)+1\n",
    "    for batch_idx, (x_unlabeled, _) in enumerate(unlabeled_loader):      \n",
    "        try:\n",
    "            x_labeled, y_labeled = next(labeled_iter)\n",
    "        except StopIteration:\n",
    "            labeled_iter = iter(labeled_loader)\n",
    "            x_labeled, y_labeled = next(labeled_iter) \n",
    "        model.eval()\n",
    "        with torch.no_grad():\n",
    "            x_unlabeled = x_unlabeled.to(device)\n",
    "            #pseudo_labels = model(x_unlabeled.to(device)).argmax(dim=1)\n",
    "            #logits_unlabeled = model(x_unlabeled.to(device))\n",
    "            # Softmax normalization to obtain probabilities for each class\n",
    "            #pseudo_labels = F.softmax(logits_unlabeled, dim=1)\n",
    "            \n",
    "            logits_pseudo_labels = model(x_unlabeled.to(device))\n",
    "            pseudo_labels = F.softmax(logits_pseudo_labels, dim=1)\n",
    "            \n",
    "        \n",
    "        model.train()\n",
    "        \n",
    "        # concatenate (x_labeled, y_labeled) and (x_unlabeled, pseudo_labels)\n",
    "        x_labeled = x_labeled.to(device)\n",
    "        y_labeled = y_labeled.to(device)\n",
    "        #print(y_labeled.shape)\n",
    "        #print(y_labeled[0])\n",
    "        # Add a new dimension to y_labeled to make it compatible for concatenation\n",
    "        num_classes = 10\n",
    "        y_labeled_onehot = F.one_hot(y_labeled, num_classes).float()\n",
    "        #print(y_labeled_onehot.shape)\n",
    "        #print(y_labeled_onehot[0])\n",
    "        pseudo_labels = pseudo_labels.to(device)\n",
    "        y_labeled_onehot = y_labeled_onehot.to(device)\n",
    "        #print(pseudo_labels.shape)\n",
    "        \n",
    "        data = torch.cat([x_labeled,x_unlabeled],dim=0)\n",
    "        target = torch.cat([y_labeled_onehot,pseudo_labels],dim=0)\n",
    "        #target = torch.cat([y_labeled,pseudo_labels],dim=0)\n",
    "        \n",
    "        #if epoch < swa_start:\n",
    "            #current_optimizer = optimizer\n",
    "        #else:\n",
    "            #current_optimizer = swa_optimizer\n",
    "        \n",
    "        optimizer.zero_grad()\n",
    "        #output_x1 = model(data)\n",
    "        #output_x1.detach_()\n",
    "        #optimizer.zero_grad()\n",
    "        \n",
    "        images, targets_a, targets_b, lam = mixup_data(data, target, alpha, device)\n",
    "        \n",
    "        # calculate robust loss\n",
    "        loss_trades = trades_loss(model=model,\n",
    "                           x_natural=images,\n",
    "                           y=target,\n",
    "                           optimizer=optimizer,\n",
    "                           step_size=0.007,\n",
    "                           epsilon=0.031,\n",
    "                           perturb_steps=10,\n",
    "                           beta=6.0)\n",
    "        \n",
    "        outputs = model(images)\n",
    "        #prob = F.softmax(output_x1, dim=1)\n",
    "        prob_mixup, loss_reg = loss_mixup_reg_ep(outputs, target, targets_a, targets_b, device, lam)\n",
    "        \n",
    "        loss=loss_trades+loss_reg\n",
    "        optimizer.zero_grad()\n",
    "        loss.backward()\n",
    "        optimizer.step()\n",
    "        #loss_ema = loss_ema * 0.9 + float(loss) * 0.1\n",
    "\n",
    "        # print progress\n",
    "        if batch_idx % log_interval == 0:\n",
    "            logging.info('Train Epoch:{}\\tLoss: {:.6f}'.format(epoch,loss.item()))\n",
    "        #logging.info('Train Epoch: {} [{}/{} ({:.0f}%)]\\tLoss: {:.6f}'.format(\n",
    "                #epoch, batch_idx * len(data), len(train_loader.dataset),\n",
    "                       #100. * batch_idx / len(train_loader), loss.item()))\n",
    "    if epoch > swa_start and epoch%swa_freq == 0 :\n",
    "        swa_optimizer.update_swa()\n",
    "    if epoch >= swa_start:\n",
    "        swa_optimizer.bn_update(train_loader, model, device)\n",
    "\n",
    "\n",
    "def train(model, device, train_loader, optimizer, swa_optimizer, epoch):\n",
    "    alpha=1\n",
    "    model.train()\n",
    "    for batch_idx, (data, target) in enumerate(train_loader):\n",
    "        data, target = data.to(device), target.to(device)\n",
    "\n",
    "        optimizer.zero_grad()\n",
    "        \n",
    "        images, targets_a, targets_b, lam = mixup_data(data, target, alpha, device)\n",
    "\n",
    "        # calculate robust loss\n",
    "        loss_trades = trades_loss(model=model,\n",
    "                           x_natural=data,\n",
    "                           y=target,\n",
    "                           optimizer=optimizer,\n",
    "                           step_size=step_size,\n",
    "                           epsilon=epsilon,\n",
    "                           perturb_steps=num_steps,\n",
    "                           beta=beta)\n",
    "        \n",
    "        outputs = model(images)\n",
    "        prob_mixup, loss_reg = loss_mixup_reg_ep(outputs, target, targets_a, targets_b, device, lam)\n",
    "        \n",
    "        loss=loss_trades+loss_reg\n",
    "        \n",
    "        loss.backward()\n",
    "        optimizer.step()\n",
    "        \n",
    "        \n",
    "        # print progress\n",
    "        if batch_idx % log_interval == 0:\n",
    "            logging.info('Train Epoch: {} [{}/{} ({:.0f}%)]\\tLoss: {:.6f}'.format(\n",
    "                epoch, batch_idx * len(data), len(train_loader.dataset), 100. * batch_idx / len(train_loader), loss.item()))\n",
    "        \n",
    "    if epoch > swa_start and epoch%swa_freq == 0 :\n",
    "        swa_optimizer.update_swa()\n",
    "    if epoch >= swa_start:\n",
    "        swa_optimizer.bn_update(train_loader, model, device)\n",
    "\n",
    "        \n",
    "            \n",
    "\"\"\"\n",
    "def eval_train(model, device, train_loader):\n",
    "    model.eval()\n",
    "    train_loss = 0\n",
    "    correct = 0\n",
    "    with torch.no_grad():\n",
    "        for data, target in train_loader:\n",
    "            data, target = data.to(device), target.to(device)\n",
    "            output = model(data)\n",
    "            train_loss += F.cross_entropy(output, target, size_average=False).item()\n",
    "            pred = output.max(1, keepdim=True)[1]\n",
    "            correct += pred.eq(target.view_as(pred)).sum().item()\n",
    "    train_loss /= len(train_loader.dataset)\n",
    "    print('Training: Average loss: {:.4f}, Accuracy: {}/{} ({:.0f}%)'.format(\n",
    "        train_loss, correct, len(train_loader.dataset),\n",
    "        100. * correct / len(train_loader.dataset)))\n",
    "    training_accuracy = correct / len(train_loader.dataset)\n",
    "    return train_loss, training_accuracy\n",
    "\"\"\"\n",
    "def eval_train(model, device, train_loader):\n",
    "    model.eval()\n",
    "    train_loss = 0\n",
    "    correct = 0\n",
    "    loss = 0\n",
    "    total = 0\n",
    "    correct = 0\n",
    "    adv_correct = 0\n",
    "    adv_correct_clean = 0\n",
    "    adv_total = 0\n",
    "    print_freq = 25\n",
    "    \n",
    "    with torch.no_grad():\n",
    "        for batch_idx, (data, target) in enumerate(train_loader):\n",
    "            data, target = data.to(device), target.to(device)\n",
    "            output = model(data)\n",
    "            train_loss += F.cross_entropy(output, target, reduction='sum').item()\n",
    "            pred = output.max(1, keepdim=True)[1]\n",
    "            correct += pred.eq(target.view_as(pred)).sum().item()\n",
    "            \n",
    "            if batch_idx < eval_attack_batches:\n",
    "                is_correct_clean, is_correct_rob = pgd(model, data, target,epsilon=epsilon,num_steps=2 * pgd_num_steps,step_size= pgd_step_size,random_start=False)\n",
    "                incorrect_clean = (1-is_correct_clean).sum()\n",
    "                incorrect_rob = (1-np.prod(is_correct_rob, axis=1)).sum()\n",
    "            \n",
    "                adv_correct_clean += (len(data) - int(incorrect_clean))\n",
    "                adv_correct += (len(data) - int(incorrect_rob))\n",
    "                adv_total += len(data)\n",
    "            total += len(data)\n",
    "    train_loss /= len(train_loader.dataset)\n",
    "    if adv_total > 0:\n",
    "        robust_clean_accuracy = adv_correct_clean / adv_total\n",
    "        robust_accuracy = adv_correct / adv_total\n",
    "    else:\n",
    "        robust_accuracy = robust_clean_accuracy = 0.\n",
    "    logging.info('Training: Average loss: {:.4f}, Accuracy: {}/{} ({:.0f}%),'\n",
    "        'PDG clean accuracy: {}/{} ({:.2f}%), Robust accuracy {}/{} ({:.2f}%)'.format(\n",
    "        train_loss, correct, len(train_loader.dataset),\n",
    "        100. * correct / len(train_loader.dataset),\n",
    "        adv_correct_clean, adv_total, 100.0 * robust_clean_accuracy,\n",
    "        adv_correct, adv_total, 100.0 * robust_accuracy))\n",
    "    training_accuracy = correct / len(train_loader.dataset)\n",
    "    return train_loss, training_accuracy, robust_accuracy\n",
    "\n",
    "\n",
    "\n",
    "def eval_test(model, device, test_loader):\n",
    "    model.eval()\n",
    "    test_loss = 0\n",
    "    correct = 0\n",
    "    total = 0\n",
    "    correct = 0\n",
    "    adv_correct = 0\n",
    "    adv_correct_clean = 0\n",
    "    adv_total = 0\n",
    "    with torch.no_grad():\n",
    "        for batch_idx, (data, target) in enumerate(test_loader):\n",
    "            data, target = data.to(device), target.to(device)\n",
    "            output = model(data)\n",
    "            test_loss += F.cross_entropy(output, target, reduction='sum').item()\n",
    "            pred = output.max(1, keepdim=True)[1]\n",
    "            correct += pred.eq(target.view_as(pred)).sum().item()\n",
    "            \n",
    "            if batch_idx < eval_attack_batches:\n",
    "                is_correct_clean, is_correct_rob = pgd(\n",
    "                    model, data, target,\n",
    "                    epsilon=epsilon,\n",
    "                    num_steps=2 * pgd_num_steps,\n",
    "                    step_size= pgd_step_size,\n",
    "                    random_start=False)\n",
    "                incorrect_clean = (1-is_correct_clean).sum()\n",
    "                incorrect_rob = (1-np.prod(is_correct_rob, axis=1)).sum()\n",
    "            \n",
    "                adv_correct_clean += (len(data) - int(incorrect_clean))\n",
    "                adv_correct += (len(data) - int(incorrect_rob))\n",
    "                adv_total += len(data)\n",
    "            total += len(data)\n",
    "            \n",
    "    test_loss /= len(test_loader.dataset)\n",
    "    if adv_total > 0:\n",
    "        robust_clean_accuracy = adv_correct_clean / adv_total\n",
    "        robust_accuracy = adv_correct / adv_total\n",
    "    else:\n",
    "        robust_accuracy = robust_clean_accuracy = 0.\n",
    "    logging.info('Test: Average loss: {:.4f}, Accuracy: {}/{} ({:.0f}%),'\n",
    "        'PDG clean accuracy: {}/{} ({:.2f}%), Robust accuracy {}/{} ({:.2f}%)'.format(\n",
    "        test_loss, correct, len(test_loader.dataset),\n",
    "        100. * correct / len(test_loader.dataset),\n",
    "        adv_correct_clean, adv_total, 100.0 * robust_clean_accuracy,\n",
    "        adv_correct, adv_total, 100.0 * robust_accuracy))\n",
    "    test_accuracy = correct / len(test_loader.dataset)\n",
    "    return test_loss, test_accuracy, robust_accuracy\n",
    "\n",
    "\n",
    "def adjust_learning_rate(optimizer, epoch):\n",
    "    \"\"\"decrease the learning rate\"\"\"\n",
    "    lr = 0.01\n",
    "    if epoch >= 90:\n",
    "        lr = lr * 0.1\n",
    "    if epoch >= 130:\n",
    "        lr = lr * 0.01\n",
    "    if epoch >= 140:\n",
    "        lr = lr * 0.001\n",
    "    for param_group in optimizer.param_groups:\n",
    "        param_group['lr'] = lr\n",
    "\n",
    "        \n",
    "        \n",
    "def my_collate(batch):\n",
    "    \"\"\"Define collate_fn myself because the default_collate_fn throws errors like crazy\"\"\"\n",
    "    # item: a tuple of (img, label)\n",
    "    data = [item[0] for item in batch]\n",
    "    target = [item[1] for item in batch]\n",
    "    data = torch.stack(data)\n",
    "    target = torch.LongTensor(target)\n",
    "    return [data, target]"
   ]
  },
  {
   "cell_type": "code",
   "execution_count": 14,
   "id": "e80822c0",
   "metadata": {},
   "outputs": [],
   "source": [
    "import torch\n",
    "import torch.nn as nn\n",
    "import torch.nn.functional as F\n",
    "from torch.autograd import Variable\n",
    "import torch.optim as optim\n",
    "\n",
    "\n",
    "def squared_l2_norm(x):\n",
    "    flattened = x.view(x.unsqueeze(0).shape[0], -1)\n",
    "    return (flattened ** 2).sum(1)\n",
    "\n",
    "\n",
    "def l2_norm(x):\n",
    "    return squared_l2_norm(x).sqrt()\n",
    "\n",
    "\n",
    "def trades_loss(model,\n",
    "                x_natural,\n",
    "                y,\n",
    "                optimizer,\n",
    "                step_size=0.003,\n",
    "                epsilon=0.031,\n",
    "                perturb_steps=10,\n",
    "                beta=6,\n",
    "                distance='l_inf'):\n",
    "    # define KL-loss\n",
    "    criterion_kl = nn.KLDivLoss(reduction='sum')\n",
    "    model.eval()\n",
    "    batch_size = len(x_natural)\n",
    "    # generate adversarial example\n",
    "    x_adv = x_natural.detach() + 0.001 * torch.randn(x_natural.shape).cuda().detach()\n",
    "    if distance == 'l_inf':\n",
    "        for _ in range(perturb_steps):\n",
    "            x_adv.requires_grad_()\n",
    "            with torch.enable_grad():\n",
    "                loss_kl = criterion_kl(F.log_softmax(model(x_adv), dim=1),\n",
    "                                       F.softmax(model(x_natural), dim=1))\n",
    "            grad = torch.autograd.grad(loss_kl, [x_adv])[0]\n",
    "            x_adv = x_adv.detach() + step_size * torch.sign(grad.detach())\n",
    "            x_adv = torch.min(torch.max(x_adv, x_natural - epsilon), x_natural + epsilon)\n",
    "            x_adv = torch.clamp(x_adv, 0.0, 1.0)\n",
    "    elif distance == 'l_2':\n",
    "        delta = 0.001 * torch.randn(x_natural.shape).cuda().detach()\n",
    "        delta = Variable(delta.data, requires_grad=True)\n",
    "\n",
    "        # Setup optimizers\n",
    "        optimizer_delta = optim.SGD([delta], lr=epsilon / perturb_steps * 2)\n",
    "\n",
    "        for _ in range(perturb_steps):\n",
    "            adv = x_natural + delta\n",
    "\n",
    "            # optimize\n",
    "            optimizer_delta.zero_grad()\n",
    "            with torch.enable_grad():\n",
    "                loss = (-1) * criterion_kl(F.log_softmax(model(adv), dim=1),\n",
    "                                           F.softmax(model(x_natural), dim=1))\n",
    "            loss.backward()\n",
    "            # renorming gradient\n",
    "            grad_norms = delta.grad.view(batch_size, -1).norm(p=2, dim=1)\n",
    "            delta.grad.div_(grad_norms.view(-1, 1, 1, 1))\n",
    "            # avoid nan or inf if gradient is 0\n",
    "            if (grad_norms == 0).any():\n",
    "                delta.grad[grad_norms == 0] = torch.randn_like(delta.grad[grad_norms == 0])\n",
    "            optimizer_delta.step()\n",
    "\n",
    "            # projection\n",
    "            delta.data.add_(x_natural)\n",
    "            delta.data.clamp_(0, 1).sub_(x_natural)\n",
    "            delta.data.renorm_(p=2, dim=0, maxnorm=epsilon)\n",
    "        x_adv = Variable(x_natural + delta, requires_grad=False)\n",
    "    else:\n",
    "        x_adv = torch.clamp(x_adv, 0.0, 1.0)\n",
    "    model.train()\n",
    "\n",
    "    x_adv = Variable(torch.clamp(x_adv, 0.0, 1.0), requires_grad=False)\n",
    "    # zero gradient\n",
    "    optimizer.zero_grad()\n",
    "    # calculate robust loss\n",
    "    logits = model(x_natural)\n",
    "    loss_natural = F.cross_entropy(logits, y)\n",
    "    loss_robust = (1.0 / batch_size) * criterion_kl(F.log_softmax(model(x_adv), dim=1),\n",
    "                                                    F.softmax(model(x_natural), dim=1))\n",
    "    loss = loss_natural + beta * loss_robust\n",
    "    return loss"
   ]
  },
  {
   "cell_type": "code",
   "execution_count": 15,
   "id": "6269c42f",
   "metadata": {
    "scrolled": true
   },
   "outputs": [
    {
     "name": "stdout",
     "output_type": "stream",
     "text": [
      "Using 4 GPUs!\n"
     ]
    },
    {
     "data": {
      "application/vnd.jupyter.widget-view+json": {
       "model_id": "b621d039f8be44a8a7202dc211d2e17a",
       "version_major": 2,
       "version_minor": 0
      },
      "text/plain": [
       "  0%|          | 0/150 [00:00<?, ?it/s]"
      ]
     },
     "metadata": {},
     "output_type": "display_data"
    },
    {
     "name": "stderr",
     "output_type": "stream",
     "text": [
      "2023-10-23 13:16:38,200 | Train Epoch: 0 [0/50000 (0%)]\tLoss: 7.490875\n",
      "2023-10-23 13:17:32,375 | Train Epoch: 0 [5000/50000 (10%)]\tLoss: 6.968800\n",
      "2023-10-23 13:18:24,781 | Train Epoch: 0 [10000/50000 (20%)]\tLoss: 6.572667\n",
      "2023-10-23 13:19:18,119 | Train Epoch: 0 [15000/50000 (30%)]\tLoss: 6.183801\n",
      "2023-10-23 13:20:11,511 | Train Epoch: 0 [20000/50000 (40%)]\tLoss: 5.898573\n",
      "2023-10-23 13:21:03,844 | Train Epoch: 0 [25000/50000 (50%)]\tLoss: 5.615528\n",
      "2023-10-23 13:21:57,295 | Train Epoch: 0 [30000/50000 (60%)]\tLoss: 6.399069\n",
      "2023-10-23 13:22:50,037 | Train Epoch: 0 [35000/50000 (70%)]\tLoss: 6.042807\n",
      "2023-10-23 13:23:42,565 | Train Epoch: 0 [40000/50000 (80%)]\tLoss: 6.387190\n",
      "2023-10-23 13:24:34,643 | Train Epoch: 0 [45000/50000 (90%)]\tLoss: 6.129626\n"
     ]
    },
    {
     "name": "stdout",
     "output_type": "stream",
     "text": [
      "================================================================\n"
     ]
    },
    {
     "name": "stderr",
     "output_type": "stream",
     "text": [
      "2023-10-23 13:25:30,205 | Test: Average loss: 1.2049, Accuracy: 5673/10000 (57%),PDG clean accuracy: 70/128 (54.69%), Robust accuracy 29/128 (22.66%)\n"
     ]
    },
    {
     "name": "stdout",
     "output_type": "stream",
     "text": [
      "================================================================\n"
     ]
    },
    {
     "name": "stderr",
     "output_type": "stream",
     "text": [
      "2023-10-23 13:25:30,970 | Train Epoch: 1 [0/50000 (0%)]\tLoss: 5.764554\n",
      "2023-10-23 13:26:23,933 | Train Epoch: 1 [5000/50000 (10%)]\tLoss: 6.337267\n",
      "2023-10-23 13:27:16,803 | Train Epoch: 1 [10000/50000 (20%)]\tLoss: 5.667315\n",
      "2023-10-23 13:28:09,464 | Train Epoch: 1 [15000/50000 (30%)]\tLoss: 5.993816\n",
      "2023-10-23 13:29:03,213 | Train Epoch: 1 [20000/50000 (40%)]\tLoss: 5.252282\n",
      "2023-10-23 13:29:55,933 | Train Epoch: 1 [25000/50000 (50%)]\tLoss: 6.298725\n",
      "2023-10-23 13:30:48,030 | Train Epoch: 1 [30000/50000 (60%)]\tLoss: 5.292431\n",
      "2023-10-23 13:31:41,699 | Train Epoch: 1 [35000/50000 (70%)]\tLoss: 5.850338\n",
      "2023-10-23 13:32:34,047 | Train Epoch: 1 [40000/50000 (80%)]\tLoss: 5.502298\n",
      "2023-10-23 13:33:27,577 | Train Epoch: 1 [45000/50000 (90%)]\tLoss: 5.272674\n"
     ]
    },
    {
     "name": "stdout",
     "output_type": "stream",
     "text": [
      "================================================================\n"
     ]
    },
    {
     "name": "stderr",
     "output_type": "stream",
     "text": [
      "2023-10-23 13:34:23,353 | Test: Average loss: 1.0019, Accuracy: 6554/10000 (66%),PDG clean accuracy: 85/128 (66.41%), Robust accuracy 49/128 (38.28%)\n"
     ]
    },
    {
     "name": "stdout",
     "output_type": "stream",
     "text": [
      "================================================================\n"
     ]
    },
    {
     "name": "stderr",
     "output_type": "stream",
     "text": [
      "2023-10-23 13:34:24,037 | Train Epoch: 2 [0/50000 (0%)]\tLoss: 6.089922\n",
      "2023-10-23 13:35:16,241 | Train Epoch: 2 [5000/50000 (10%)]\tLoss: 5.893568\n",
      "2023-10-23 13:36:09,761 | Train Epoch: 2 [10000/50000 (20%)]\tLoss: 4.969187\n",
      "2023-10-23 13:37:03,347 | Train Epoch: 2 [15000/50000 (30%)]\tLoss: 5.357637\n",
      "2023-10-23 13:37:56,778 | Train Epoch: 2 [20000/50000 (40%)]\tLoss: 5.243918\n",
      "2023-10-23 13:38:50,066 | Train Epoch: 2 [25000/50000 (50%)]\tLoss: 5.295359\n",
      "2023-10-23 13:39:43,628 | Train Epoch: 2 [30000/50000 (60%)]\tLoss: 4.759356\n",
      "2023-10-23 13:40:36,829 | Train Epoch: 2 [35000/50000 (70%)]\tLoss: 5.780751\n",
      "2023-10-23 13:41:29,254 | Train Epoch: 2 [40000/50000 (80%)]\tLoss: 5.200945\n",
      "2023-10-23 13:42:22,309 | Train Epoch: 2 [45000/50000 (90%)]\tLoss: 5.469167\n"
     ]
    },
    {
     "name": "stdout",
     "output_type": "stream",
     "text": [
      "================================================================\n"
     ]
    },
    {
     "name": "stderr",
     "output_type": "stream",
     "text": [
      "2023-10-23 13:43:17,117 | Test: Average loss: 0.9152, Accuracy: 6948/10000 (69%),PDG clean accuracy: 93/128 (72.66%), Robust accuracy 63/128 (49.22%)\n"
     ]
    },
    {
     "name": "stdout",
     "output_type": "stream",
     "text": [
      "================================================================\n"
     ]
    },
    {
     "name": "stderr",
     "output_type": "stream",
     "text": [
      "2023-10-23 13:43:17,814 | Train Epoch: 3 [0/50000 (0%)]\tLoss: 5.735304\n",
      "2023-10-23 13:44:11,432 | Train Epoch: 3 [5000/50000 (10%)]\tLoss: 5.482143\n",
      "2023-10-23 13:45:04,425 | Train Epoch: 3 [10000/50000 (20%)]\tLoss: 5.572330\n",
      "2023-10-23 13:45:56,829 | Train Epoch: 3 [15000/50000 (30%)]\tLoss: 5.504192\n",
      "2023-10-23 13:46:50,607 | Train Epoch: 3 [20000/50000 (40%)]\tLoss: 5.876917\n",
      "2023-10-23 13:47:42,741 | Train Epoch: 3 [25000/50000 (50%)]\tLoss: 5.401134\n",
      "2023-10-23 13:48:35,077 | Train Epoch: 3 [30000/50000 (60%)]\tLoss: 4.550860\n",
      "2023-10-23 13:49:28,812 | Train Epoch: 3 [35000/50000 (70%)]\tLoss: 4.742239\n",
      "2023-10-23 13:50:22,792 | Train Epoch: 3 [40000/50000 (80%)]\tLoss: 5.189610\n",
      "2023-10-23 13:51:15,779 | Train Epoch: 3 [45000/50000 (90%)]\tLoss: 5.061831\n"
     ]
    },
    {
     "name": "stdout",
     "output_type": "stream",
     "text": [
      "================================================================\n"
     ]
    },
    {
     "name": "stderr",
     "output_type": "stream",
     "text": [
      "2023-10-23 13:52:11,133 | Test: Average loss: 0.8509, Accuracy: 7155/10000 (72%),PDG clean accuracy: 100/128 (78.12%), Robust accuracy 46/128 (35.94%)\n"
     ]
    },
    {
     "name": "stdout",
     "output_type": "stream",
     "text": [
      "================================================================\n"
     ]
    },
    {
     "name": "stderr",
     "output_type": "stream",
     "text": [
      "2023-10-23 13:52:11,820 | Train Epoch: 4 [0/50000 (0%)]\tLoss: 4.700500\n",
      "2023-10-23 13:53:04,083 | Train Epoch: 4 [5000/50000 (10%)]\tLoss: 5.256065\n",
      "2023-10-23 13:53:57,758 | Train Epoch: 4 [10000/50000 (20%)]\tLoss: 4.999963\n",
      "2023-10-23 13:54:50,621 | Train Epoch: 4 [15000/50000 (30%)]\tLoss: 4.448104\n",
      "2023-10-23 13:55:43,840 | Train Epoch: 4 [20000/50000 (40%)]\tLoss: 4.871121\n",
      "2023-10-23 13:56:37,604 | Train Epoch: 4 [25000/50000 (50%)]\tLoss: 5.214304\n",
      "2023-10-23 13:57:30,693 | Train Epoch: 4 [30000/50000 (60%)]\tLoss: 5.543367\n",
      "2023-10-23 13:58:24,426 | Train Epoch: 4 [35000/50000 (70%)]\tLoss: 5.643411\n",
      "2023-10-23 13:59:18,075 | Train Epoch: 4 [40000/50000 (80%)]\tLoss: 5.576399\n",
      "2023-10-23 14:00:12,301 | Train Epoch: 4 [45000/50000 (90%)]\tLoss: 5.090610\n"
     ]
    },
    {
     "name": "stdout",
     "output_type": "stream",
     "text": [
      "================================================================\n"
     ]
    },
    {
     "name": "stderr",
     "output_type": "stream",
     "text": [
      "2023-10-23 14:01:07,191 | Test: Average loss: 0.7914, Accuracy: 7281/10000 (73%),PDG clean accuracy: 93/128 (72.66%), Robust accuracy 57/128 (44.53%)\n"
     ]
    },
    {
     "name": "stdout",
     "output_type": "stream",
     "text": [
      "================================================================\n"
     ]
    },
    {
     "name": "stderr",
     "output_type": "stream",
     "text": [
      "2023-10-23 14:01:07,860 | Train Epoch: 5 [0/50000 (0%)]\tLoss: 5.418550\n",
      "2023-10-23 14:02:01,403 | Train Epoch: 5 [5000/50000 (10%)]\tLoss: 5.090117\n",
      "2023-10-23 14:02:54,951 | Train Epoch: 5 [10000/50000 (20%)]\tLoss: 4.512588\n",
      "2023-10-23 14:03:48,411 | Train Epoch: 5 [15000/50000 (30%)]\tLoss: 5.523921\n",
      "2023-10-23 14:04:41,834 | Train Epoch: 5 [20000/50000 (40%)]\tLoss: 5.019881\n",
      "2023-10-23 14:05:35,382 | Train Epoch: 5 [25000/50000 (50%)]\tLoss: 5.172434\n",
      "2023-10-23 14:06:28,644 | Train Epoch: 5 [30000/50000 (60%)]\tLoss: 5.121592\n",
      "2023-10-23 14:07:21,940 | Train Epoch: 5 [35000/50000 (70%)]\tLoss: 5.297740\n",
      "2023-10-23 14:08:14,561 | Train Epoch: 5 [40000/50000 (80%)]\tLoss: 5.022190\n",
      "2023-10-23 14:09:08,105 | Train Epoch: 5 [45000/50000 (90%)]\tLoss: 4.617982\n"
     ]
    },
    {
     "name": "stdout",
     "output_type": "stream",
     "text": [
      "================================================================\n"
     ]
    },
    {
     "name": "stderr",
     "output_type": "stream",
     "text": [
      "2023-10-23 14:10:03,902 | Test: Average loss: 0.7366, Accuracy: 7516/10000 (75%),PDG clean accuracy: 102/128 (79.69%), Robust accuracy 68/128 (53.12%)\n"
     ]
    },
    {
     "name": "stdout",
     "output_type": "stream",
     "text": [
      "================================================================\n"
     ]
    },
    {
     "name": "stderr",
     "output_type": "stream",
     "text": [
      "2023-10-23 14:10:04,617 | Train Epoch: 6 [0/50000 (0%)]\tLoss: 5.734532\n",
      "2023-10-23 14:10:58,228 | Train Epoch: 6 [5000/50000 (10%)]\tLoss: 5.518039\n",
      "2023-10-23 14:11:50,792 | Train Epoch: 6 [10000/50000 (20%)]\tLoss: 4.777054\n",
      "2023-10-23 14:12:44,063 | Train Epoch: 6 [15000/50000 (30%)]\tLoss: 4.811445\n",
      "2023-10-23 14:13:38,389 | Train Epoch: 6 [20000/50000 (40%)]\tLoss: 5.841822\n",
      "2023-10-23 14:14:31,143 | Train Epoch: 6 [25000/50000 (50%)]\tLoss: 5.876389\n",
      "2023-10-23 14:15:24,495 | Train Epoch: 6 [30000/50000 (60%)]\tLoss: 4.473854\n",
      "2023-10-23 14:16:17,528 | Train Epoch: 6 [35000/50000 (70%)]\tLoss: 4.423591\n",
      "2023-10-23 14:17:10,795 | Train Epoch: 6 [40000/50000 (80%)]\tLoss: 5.697711\n",
      "2023-10-23 14:18:04,684 | Train Epoch: 6 [45000/50000 (90%)]\tLoss: 5.948861\n"
     ]
    },
    {
     "name": "stdout",
     "output_type": "stream",
     "text": [
      "================================================================\n"
     ]
    },
    {
     "name": "stderr",
     "output_type": "stream",
     "text": [
      "2023-10-23 14:19:00,431 | Test: Average loss: 0.7080, Accuracy: 7586/10000 (76%),PDG clean accuracy: 101/128 (78.91%), Robust accuracy 64/128 (50.00%)\n"
     ]
    },
    {
     "name": "stdout",
     "output_type": "stream",
     "text": [
      "================================================================\n"
     ]
    },
    {
     "name": "stderr",
     "output_type": "stream",
     "text": [
      "2023-10-23 14:19:01,147 | Train Epoch: 7 [0/50000 (0%)]\tLoss: 4.329124\n",
      "2023-10-23 14:19:53,987 | Train Epoch: 7 [5000/50000 (10%)]\tLoss: 5.414417\n",
      "2023-10-23 14:20:47,445 | Train Epoch: 7 [10000/50000 (20%)]\tLoss: 5.256486\n",
      "2023-10-23 14:21:41,230 | Train Epoch: 7 [15000/50000 (30%)]\tLoss: 4.655413\n",
      "2023-10-23 14:22:34,611 | Train Epoch: 7 [20000/50000 (40%)]\tLoss: 5.559203\n",
      "2023-10-23 14:23:27,652 | Train Epoch: 7 [25000/50000 (50%)]\tLoss: 5.326760\n",
      "2023-10-23 14:24:20,935 | Train Epoch: 7 [30000/50000 (60%)]\tLoss: 4.521209\n",
      "2023-10-23 14:25:14,689 | Train Epoch: 7 [35000/50000 (70%)]\tLoss: 4.399496\n",
      "2023-10-23 14:26:08,538 | Train Epoch: 7 [40000/50000 (80%)]\tLoss: 5.362658\n",
      "2023-10-23 14:27:02,152 | Train Epoch: 7 [45000/50000 (90%)]\tLoss: 5.307424\n"
     ]
    },
    {
     "name": "stdout",
     "output_type": "stream",
     "text": [
      "================================================================\n"
     ]
    },
    {
     "name": "stderr",
     "output_type": "stream",
     "text": [
      "2023-10-23 14:27:57,612 | Test: Average loss: 0.7047, Accuracy: 7611/10000 (76%),PDG clean accuracy: 101/128 (78.91%), Robust accuracy 70/128 (54.69%)\n"
     ]
    },
    {
     "name": "stdout",
     "output_type": "stream",
     "text": [
      "================================================================\n"
     ]
    },
    {
     "name": "stderr",
     "output_type": "stream",
     "text": [
      "2023-10-23 14:27:58,321 | Train Epoch: 8 [0/50000 (0%)]\tLoss: 5.077369\n",
      "2023-10-23 14:28:51,672 | Train Epoch: 8 [5000/50000 (10%)]\tLoss: 5.518520\n",
      "2023-10-23 14:29:44,358 | Train Epoch: 8 [10000/50000 (20%)]\tLoss: 5.427387\n",
      "2023-10-23 14:30:36,986 | Train Epoch: 8 [15000/50000 (30%)]\tLoss: 4.784081\n",
      "2023-10-23 14:31:29,183 | Train Epoch: 8 [20000/50000 (40%)]\tLoss: 3.999228\n",
      "2023-10-23 14:32:22,252 | Train Epoch: 8 [25000/50000 (50%)]\tLoss: 4.765441\n",
      "2023-10-23 14:33:15,966 | Train Epoch: 8 [30000/50000 (60%)]\tLoss: 4.722510\n",
      "2023-10-23 14:34:08,452 | Train Epoch: 8 [35000/50000 (70%)]\tLoss: 5.177606\n",
      "2023-10-23 14:35:01,769 | Train Epoch: 8 [40000/50000 (80%)]\tLoss: 4.129383\n",
      "2023-10-23 14:35:55,062 | Train Epoch: 8 [45000/50000 (90%)]\tLoss: 5.824392\n"
     ]
    },
    {
     "name": "stdout",
     "output_type": "stream",
     "text": [
      "================================================================\n"
     ]
    },
    {
     "name": "stderr",
     "output_type": "stream",
     "text": [
      "2023-10-23 14:36:50,808 | Test: Average loss: 0.6815, Accuracy: 7755/10000 (78%),PDG clean accuracy: 108/128 (84.38%), Robust accuracy 75/128 (58.59%)\n"
     ]
    },
    {
     "name": "stdout",
     "output_type": "stream",
     "text": [
      "================================================================\n"
     ]
    },
    {
     "name": "stderr",
     "output_type": "stream",
     "text": [
      "2023-10-23 14:36:51,538 | Train Epoch: 9 [0/50000 (0%)]\tLoss: 4.141533\n",
      "2023-10-23 14:37:45,724 | Train Epoch: 9 [5000/50000 (10%)]\tLoss: 5.100435\n",
      "2023-10-23 14:38:38,402 | Train Epoch: 9 [10000/50000 (20%)]\tLoss: 5.108892\n",
      "2023-10-23 14:39:32,397 | Train Epoch: 9 [15000/50000 (30%)]\tLoss: 5.734767\n",
      "2023-10-23 14:40:25,505 | Train Epoch: 9 [20000/50000 (40%)]\tLoss: 5.492826\n",
      "2023-10-23 14:41:18,915 | Train Epoch: 9 [25000/50000 (50%)]\tLoss: 5.044086\n",
      "2023-10-23 14:42:11,736 | Train Epoch: 9 [30000/50000 (60%)]\tLoss: 4.768190\n",
      "2023-10-23 14:43:05,476 | Train Epoch: 9 [35000/50000 (70%)]\tLoss: 4.678331\n",
      "2023-10-23 14:43:57,849 | Train Epoch: 9 [40000/50000 (80%)]\tLoss: 4.822049\n",
      "2023-10-23 14:44:50,768 | Train Epoch: 9 [45000/50000 (90%)]\tLoss: 4.937100\n"
     ]
    },
    {
     "name": "stdout",
     "output_type": "stream",
     "text": [
      "================================================================\n"
     ]
    },
    {
     "name": "stderr",
     "output_type": "stream",
     "text": [
      "2023-10-23 14:45:46,494 | Test: Average loss: 0.6437, Accuracy: 7893/10000 (79%),PDG clean accuracy: 104/128 (81.25%), Robust accuracy 73/128 (57.03%)\n"
     ]
    },
    {
     "name": "stdout",
     "output_type": "stream",
     "text": [
      "================================================================\n"
     ]
    },
    {
     "name": "stderr",
     "output_type": "stream",
     "text": [
      "2023-10-23 14:45:47,326 | Train Epoch: 10 [0/50000 (0%)]\tLoss: 5.143257\n",
      "2023-10-23 14:46:40,649 | Train Epoch: 10 [5000/50000 (10%)]\tLoss: 4.994324\n",
      "2023-10-23 14:47:32,707 | Train Epoch: 10 [10000/50000 (20%)]\tLoss: 5.358370\n",
      "2023-10-23 14:48:27,363 | Train Epoch: 10 [15000/50000 (30%)]\tLoss: 4.842376\n",
      "2023-10-23 14:49:21,194 | Train Epoch: 10 [20000/50000 (40%)]\tLoss: 3.898395\n",
      "2023-10-23 14:50:13,921 | Train Epoch: 10 [25000/50000 (50%)]\tLoss: 4.927124\n",
      "2023-10-23 14:51:06,895 | Train Epoch: 10 [30000/50000 (60%)]\tLoss: 4.544977\n",
      "2023-10-23 14:52:00,305 | Train Epoch: 10 [35000/50000 (70%)]\tLoss: 4.818859\n",
      "2023-10-23 14:52:54,282 | Train Epoch: 10 [40000/50000 (80%)]\tLoss: 5.288950\n",
      "2023-10-23 14:53:48,699 | Train Epoch: 10 [45000/50000 (90%)]\tLoss: 4.597426\n"
     ]
    },
    {
     "name": "stdout",
     "output_type": "stream",
     "text": [
      "================================================================\n"
     ]
    },
    {
     "name": "stderr",
     "output_type": "stream",
     "text": [
      "2023-10-23 14:54:45,791 | Test: Average loss: 0.6431, Accuracy: 7887/10000 (79%),PDG clean accuracy: 107/128 (83.59%), Robust accuracy 73/128 (57.03%)\n"
     ]
    },
    {
     "name": "stdout",
     "output_type": "stream",
     "text": [
      "================================================================\n"
     ]
    },
    {
     "name": "stderr",
     "output_type": "stream",
     "text": [
      "2023-10-23 14:54:46,504 | Train Epoch: 11 [0/50000 (0%)]\tLoss: 4.459974\n",
      "2023-10-23 14:55:40,308 | Train Epoch: 11 [5000/50000 (10%)]\tLoss: 4.686825\n",
      "2023-10-23 14:56:33,695 | Train Epoch: 11 [10000/50000 (20%)]\tLoss: 4.139548\n",
      "2023-10-23 14:57:26,763 | Train Epoch: 11 [15000/50000 (30%)]\tLoss: 4.949725\n",
      "2023-10-23 14:58:19,764 | Train Epoch: 11 [20000/50000 (40%)]\tLoss: 5.252903\n",
      "2023-10-23 14:59:13,235 | Train Epoch: 11 [25000/50000 (50%)]\tLoss: 5.074149\n",
      "2023-10-23 15:00:06,811 | Train Epoch: 11 [30000/50000 (60%)]\tLoss: 4.840158\n",
      "2023-10-23 15:00:59,834 | Train Epoch: 11 [35000/50000 (70%)]\tLoss: 5.304181\n",
      "2023-10-23 15:01:52,933 | Train Epoch: 11 [40000/50000 (80%)]\tLoss: 4.847673\n",
      "2023-10-23 15:02:45,886 | Train Epoch: 11 [45000/50000 (90%)]\tLoss: 5.103590\n"
     ]
    },
    {
     "name": "stdout",
     "output_type": "stream",
     "text": [
      "================================================================\n"
     ]
    },
    {
     "name": "stderr",
     "output_type": "stream",
     "text": [
      "2023-10-23 15:03:40,861 | Test: Average loss: 0.6195, Accuracy: 7902/10000 (79%),PDG clean accuracy: 102/128 (79.69%), Robust accuracy 71/128 (55.47%)\n"
     ]
    },
    {
     "name": "stdout",
     "output_type": "stream",
     "text": [
      "================================================================\n"
     ]
    },
    {
     "name": "stderr",
     "output_type": "stream",
     "text": [
      "2023-10-23 15:03:41,564 | Train Epoch: 12 [0/50000 (0%)]\tLoss: 5.477603\n",
      "2023-10-23 15:04:34,980 | Train Epoch: 12 [5000/50000 (10%)]\tLoss: 4.263291\n",
      "2023-10-23 15:05:27,151 | Train Epoch: 12 [10000/50000 (20%)]\tLoss: 5.053960\n",
      "2023-10-23 15:06:20,615 | Train Epoch: 12 [15000/50000 (30%)]\tLoss: 5.105198\n",
      "2023-10-23 15:07:13,575 | Train Epoch: 12 [20000/50000 (40%)]\tLoss: 4.495108\n",
      "2023-10-23 15:08:05,916 | Train Epoch: 12 [25000/50000 (50%)]\tLoss: 4.143605\n",
      "2023-10-23 15:08:59,320 | Train Epoch: 12 [30000/50000 (60%)]\tLoss: 4.300385\n",
      "2023-10-23 15:09:52,651 | Train Epoch: 12 [35000/50000 (70%)]\tLoss: 5.393718\n",
      "2023-10-23 15:10:46,350 | Train Epoch: 12 [40000/50000 (80%)]\tLoss: 5.161478\n",
      "2023-10-23 15:11:39,302 | Train Epoch: 12 [45000/50000 (90%)]\tLoss: 4.517479\n"
     ]
    },
    {
     "name": "stdout",
     "output_type": "stream",
     "text": [
      "================================================================\n"
     ]
    },
    {
     "name": "stderr",
     "output_type": "stream",
     "text": [
      "2023-10-23 15:12:35,293 | Test: Average loss: 0.5973, Accuracy: 8019/10000 (80%),PDG clean accuracy: 108/128 (84.38%), Robust accuracy 84/128 (65.62%)\n"
     ]
    },
    {
     "name": "stdout",
     "output_type": "stream",
     "text": [
      "================================================================\n"
     ]
    },
    {
     "name": "stderr",
     "output_type": "stream",
     "text": [
      "2023-10-23 15:12:35,992 | Train Epoch: 13 [0/50000 (0%)]\tLoss: 4.275343\n",
      "2023-10-23 15:13:28,901 | Train Epoch: 13 [5000/50000 (10%)]\tLoss: 5.276097\n",
      "2023-10-23 15:14:22,472 | Train Epoch: 13 [10000/50000 (20%)]\tLoss: 4.884556\n",
      "2023-10-23 15:15:16,212 | Train Epoch: 13 [15000/50000 (30%)]\tLoss: 5.334444\n",
      "2023-10-23 15:16:09,372 | Train Epoch: 13 [20000/50000 (40%)]\tLoss: 4.231753\n",
      "2023-10-23 15:17:02,627 | Train Epoch: 13 [25000/50000 (50%)]\tLoss: 4.483391\n",
      "2023-10-23 15:17:55,332 | Train Epoch: 13 [30000/50000 (60%)]\tLoss: 5.218863\n",
      "2023-10-23 15:18:48,411 | Train Epoch: 13 [35000/50000 (70%)]\tLoss: 4.764347\n",
      "2023-10-23 15:19:41,055 | Train Epoch: 13 [40000/50000 (80%)]\tLoss: 4.821601\n",
      "2023-10-23 15:20:34,678 | Train Epoch: 13 [45000/50000 (90%)]\tLoss: 4.957148\n"
     ]
    },
    {
     "name": "stdout",
     "output_type": "stream",
     "text": [
      "================================================================\n"
     ]
    },
    {
     "name": "stderr",
     "output_type": "stream",
     "text": [
      "2023-10-23 15:21:30,202 | Test: Average loss: 0.6042, Accuracy: 7975/10000 (80%),PDG clean accuracy: 106/128 (82.81%), Robust accuracy 67/128 (52.34%)\n"
     ]
    },
    {
     "name": "stdout",
     "output_type": "stream",
     "text": [
      "================================================================\n"
     ]
    },
    {
     "name": "stderr",
     "output_type": "stream",
     "text": [
      "2023-10-23 15:21:30,908 | Train Epoch: 14 [0/50000 (0%)]\tLoss: 3.935856\n",
      "2023-10-23 15:22:24,024 | Train Epoch: 14 [5000/50000 (10%)]\tLoss: 4.056694\n",
      "2023-10-23 15:23:16,613 | Train Epoch: 14 [10000/50000 (20%)]\tLoss: 4.826947\n",
      "2023-10-23 15:24:10,289 | Train Epoch: 14 [15000/50000 (30%)]\tLoss: 5.185098\n",
      "2023-10-23 15:25:03,272 | Train Epoch: 14 [20000/50000 (40%)]\tLoss: 4.210847\n",
      "2023-10-23 15:25:57,012 | Train Epoch: 14 [25000/50000 (50%)]\tLoss: 4.986382\n",
      "2023-10-23 15:26:50,315 | Train Epoch: 14 [30000/50000 (60%)]\tLoss: 4.352551\n",
      "2023-10-23 15:27:42,667 | Train Epoch: 14 [35000/50000 (70%)]\tLoss: 5.338778\n",
      "2023-10-23 15:28:35,558 | Train Epoch: 14 [40000/50000 (80%)]\tLoss: 4.187552\n",
      "2023-10-23 15:29:28,410 | Train Epoch: 14 [45000/50000 (90%)]\tLoss: 5.202014\n"
     ]
    },
    {
     "name": "stdout",
     "output_type": "stream",
     "text": [
      "================================================================\n"
     ]
    },
    {
     "name": "stderr",
     "output_type": "stream",
     "text": [
      "2023-10-23 15:30:23,317 | Test: Average loss: 0.5877, Accuracy: 8023/10000 (80%),PDG clean accuracy: 102/128 (79.69%), Robust accuracy 73/128 (57.03%)\n"
     ]
    },
    {
     "name": "stdout",
     "output_type": "stream",
     "text": [
      "================================================================\n"
     ]
    },
    {
     "name": "stderr",
     "output_type": "stream",
     "text": [
      "2023-10-23 15:30:24,035 | Train Epoch: 15 [0/50000 (0%)]\tLoss: 4.181364\n",
      "2023-10-23 15:31:16,580 | Train Epoch: 15 [5000/50000 (10%)]\tLoss: 5.219382\n",
      "2023-10-23 15:32:09,252 | Train Epoch: 15 [10000/50000 (20%)]\tLoss: 5.284945\n",
      "2023-10-23 15:33:01,838 | Train Epoch: 15 [15000/50000 (30%)]\tLoss: 5.289477\n",
      "2023-10-23 15:33:54,881 | Train Epoch: 15 [20000/50000 (40%)]\tLoss: 4.811313\n",
      "2023-10-23 15:34:48,583 | Train Epoch: 15 [25000/50000 (50%)]\tLoss: 4.319016\n",
      "2023-10-23 15:35:41,307 | Train Epoch: 15 [30000/50000 (60%)]\tLoss: 5.266347\n",
      "2023-10-23 15:36:34,005 | Train Epoch: 15 [35000/50000 (70%)]\tLoss: 4.937850\n",
      "2023-10-23 15:37:26,930 | Train Epoch: 15 [40000/50000 (80%)]\tLoss: 5.167782\n",
      "2023-10-23 15:38:20,196 | Train Epoch: 15 [45000/50000 (90%)]\tLoss: 5.191968\n"
     ]
    },
    {
     "name": "stdout",
     "output_type": "stream",
     "text": [
      "================================================================\n"
     ]
    },
    {
     "name": "stderr",
     "output_type": "stream",
     "text": [
      "2023-10-23 15:39:14,859 | Test: Average loss: 0.5710, Accuracy: 8123/10000 (81%),PDG clean accuracy: 112/128 (87.50%), Robust accuracy 73/128 (57.03%)\n"
     ]
    },
    {
     "name": "stdout",
     "output_type": "stream",
     "text": [
      "================================================================\n"
     ]
    },
    {
     "name": "stderr",
     "output_type": "stream",
     "text": [
      "2023-10-23 15:39:15,535 | Train Epoch: 16 [0/50000 (0%)]\tLoss: 4.754295\n",
      "2023-10-23 15:40:08,750 | Train Epoch: 16 [5000/50000 (10%)]\tLoss: 5.729480\n",
      "2023-10-23 15:41:01,828 | Train Epoch: 16 [10000/50000 (20%)]\tLoss: 4.619098\n",
      "2023-10-23 15:41:54,795 | Train Epoch: 16 [15000/50000 (30%)]\tLoss: 4.294912\n",
      "2023-10-23 15:42:47,122 | Train Epoch: 16 [20000/50000 (40%)]\tLoss: 5.079633\n",
      "2023-10-23 15:43:40,526 | Train Epoch: 16 [25000/50000 (50%)]\tLoss: 4.508979\n",
      "2023-10-23 15:44:33,160 | Train Epoch: 16 [30000/50000 (60%)]\tLoss: 3.875761\n",
      "2023-10-23 15:45:25,436 | Train Epoch: 16 [35000/50000 (70%)]\tLoss: 4.524854\n",
      "2023-10-23 15:46:18,068 | Train Epoch: 16 [40000/50000 (80%)]\tLoss: 4.076786\n",
      "2023-10-23 15:47:10,692 | Train Epoch: 16 [45000/50000 (90%)]\tLoss: 4.086914\n"
     ]
    },
    {
     "name": "stdout",
     "output_type": "stream",
     "text": [
      "================================================================\n"
     ]
    },
    {
     "name": "stderr",
     "output_type": "stream",
     "text": [
      "2023-10-23 15:48:05,822 | Test: Average loss: 0.5413, Accuracy: 8242/10000 (82%),PDG clean accuracy: 109/128 (85.16%), Robust accuracy 72/128 (56.25%)\n"
     ]
    },
    {
     "name": "stdout",
     "output_type": "stream",
     "text": [
      "================================================================\n"
     ]
    },
    {
     "name": "stderr",
     "output_type": "stream",
     "text": [
      "2023-10-23 15:48:06,537 | Train Epoch: 17 [0/50000 (0%)]\tLoss: 5.052258\n",
      "2023-10-23 15:48:59,341 | Train Epoch: 17 [5000/50000 (10%)]\tLoss: 4.826301\n",
      "2023-10-23 15:49:52,757 | Train Epoch: 17 [10000/50000 (20%)]\tLoss: 5.425607\n",
      "2023-10-23 15:50:45,418 | Train Epoch: 17 [15000/50000 (30%)]\tLoss: 4.845321\n",
      "2023-10-23 15:51:38,981 | Train Epoch: 17 [20000/50000 (40%)]\tLoss: 4.287745\n",
      "2023-10-23 15:52:31,629 | Train Epoch: 17 [25000/50000 (50%)]\tLoss: 5.394973\n",
      "2023-10-23 15:53:23,512 | Train Epoch: 17 [30000/50000 (60%)]\tLoss: 3.970583\n",
      "2023-10-23 15:54:16,742 | Train Epoch: 17 [35000/50000 (70%)]\tLoss: 4.715820\n",
      "2023-10-23 15:55:09,830 | Train Epoch: 17 [40000/50000 (80%)]\tLoss: 4.870994\n",
      "2023-10-23 15:56:03,159 | Train Epoch: 17 [45000/50000 (90%)]\tLoss: 4.814064\n"
     ]
    },
    {
     "name": "stdout",
     "output_type": "stream",
     "text": [
      "================================================================\n"
     ]
    },
    {
     "name": "stderr",
     "output_type": "stream",
     "text": [
      "2023-10-23 15:56:58,259 | Test: Average loss: 0.5805, Accuracy: 8117/10000 (81%),PDG clean accuracy: 105/128 (82.03%), Robust accuracy 81/128 (63.28%)\n"
     ]
    },
    {
     "name": "stdout",
     "output_type": "stream",
     "text": [
      "================================================================\n"
     ]
    },
    {
     "name": "stderr",
     "output_type": "stream",
     "text": [
      "2023-10-23 15:56:58,961 | Train Epoch: 18 [0/50000 (0%)]\tLoss: 4.062625\n",
      "2023-10-23 15:57:53,856 | Train Epoch: 18 [5000/50000 (10%)]\tLoss: 4.967045\n",
      "2023-10-23 15:58:47,151 | Train Epoch: 18 [10000/50000 (20%)]\tLoss: 4.830248\n",
      "2023-10-23 15:59:40,434 | Train Epoch: 18 [15000/50000 (30%)]\tLoss: 3.875941\n",
      "2023-10-23 16:00:34,244 | Train Epoch: 18 [20000/50000 (40%)]\tLoss: 4.757406\n",
      "2023-10-23 16:01:27,981 | Train Epoch: 18 [25000/50000 (50%)]\tLoss: 4.051025\n",
      "2023-10-23 16:02:21,325 | Train Epoch: 18 [30000/50000 (60%)]\tLoss: 4.901476\n",
      "2023-10-23 16:03:13,752 | Train Epoch: 18 [35000/50000 (70%)]\tLoss: 4.030074\n",
      "2023-10-23 16:04:05,706 | Train Epoch: 18 [40000/50000 (80%)]\tLoss: 4.954576\n",
      "2023-10-23 16:04:59,133 | Train Epoch: 18 [45000/50000 (90%)]\tLoss: 5.150956\n"
     ]
    },
    {
     "name": "stdout",
     "output_type": "stream",
     "text": [
      "================================================================\n"
     ]
    },
    {
     "name": "stderr",
     "output_type": "stream",
     "text": [
      "2023-10-23 16:05:54,662 | Test: Average loss: 0.5309, Accuracy: 8242/10000 (82%),PDG clean accuracy: 105/128 (82.03%), Robust accuracy 68/128 (53.12%)\n"
     ]
    },
    {
     "name": "stdout",
     "output_type": "stream",
     "text": [
      "================================================================\n"
     ]
    },
    {
     "name": "stderr",
     "output_type": "stream",
     "text": [
      "2023-10-23 16:05:55,360 | Train Epoch: 19 [0/50000 (0%)]\tLoss: 4.687249\n",
      "2023-10-23 16:06:48,426 | Train Epoch: 19 [5000/50000 (10%)]\tLoss: 4.569872\n",
      "2023-10-23 16:07:40,982 | Train Epoch: 19 [10000/50000 (20%)]\tLoss: 4.968965\n",
      "2023-10-23 16:08:33,801 | Train Epoch: 19 [15000/50000 (30%)]\tLoss: 5.012341\n",
      "2023-10-23 16:09:26,800 | Train Epoch: 19 [20000/50000 (40%)]\tLoss: 4.107544\n",
      "2023-10-23 16:10:20,724 | Train Epoch: 19 [25000/50000 (50%)]\tLoss: 3.483007\n",
      "2023-10-23 16:11:14,102 | Train Epoch: 19 [30000/50000 (60%)]\tLoss: 3.929276\n",
      "2023-10-23 16:12:07,453 | Train Epoch: 19 [35000/50000 (70%)]\tLoss: 4.323872\n",
      "2023-10-23 16:13:01,027 | Train Epoch: 19 [40000/50000 (80%)]\tLoss: 4.949691\n",
      "2023-10-23 16:13:53,621 | Train Epoch: 19 [45000/50000 (90%)]\tLoss: 4.952268\n"
     ]
    },
    {
     "name": "stdout",
     "output_type": "stream",
     "text": [
      "================================================================\n"
     ]
    },
    {
     "name": "stderr",
     "output_type": "stream",
     "text": [
      "2023-10-23 16:14:48,957 | Test: Average loss: 0.5203, Accuracy: 8286/10000 (83%),PDG clean accuracy: 111/128 (86.72%), Robust accuracy 71/128 (55.47%)\n"
     ]
    },
    {
     "name": "stdout",
     "output_type": "stream",
     "text": [
      "================================================================\n"
     ]
    },
    {
     "name": "stderr",
     "output_type": "stream",
     "text": [
      "2023-10-23 16:14:49,673 | Train Epoch: 20 [0/50000 (0%)]\tLoss: 4.092103\n",
      "2023-10-23 16:15:42,492 | Train Epoch: 20 [5000/50000 (10%)]\tLoss: 4.225822\n",
      "2023-10-23 16:16:35,205 | Train Epoch: 20 [10000/50000 (20%)]\tLoss: 3.877076\n",
      "2023-10-23 16:17:27,774 | Train Epoch: 20 [15000/50000 (30%)]\tLoss: 4.389349\n",
      "2023-10-23 16:18:20,592 | Train Epoch: 20 [20000/50000 (40%)]\tLoss: 4.757506\n",
      "2023-10-23 16:19:13,258 | Train Epoch: 20 [25000/50000 (50%)]\tLoss: 5.122887\n",
      "2023-10-23 16:20:06,878 | Train Epoch: 20 [30000/50000 (60%)]\tLoss: 3.842823\n",
      "2023-10-23 16:20:59,902 | Train Epoch: 20 [35000/50000 (70%)]\tLoss: 5.312560\n",
      "2023-10-23 16:21:51,747 | Train Epoch: 20 [40000/50000 (80%)]\tLoss: 4.956071\n",
      "2023-10-23 16:22:44,928 | Train Epoch: 20 [45000/50000 (90%)]\tLoss: 4.934442\n"
     ]
    },
    {
     "name": "stdout",
     "output_type": "stream",
     "text": [
      "================================================================\n"
     ]
    },
    {
     "name": "stderr",
     "output_type": "stream",
     "text": [
      "2023-10-23 16:23:40,764 | Test: Average loss: 0.5126, Accuracy: 8355/10000 (84%),PDG clean accuracy: 111/128 (86.72%), Robust accuracy 69/128 (53.91%)\n"
     ]
    },
    {
     "name": "stdout",
     "output_type": "stream",
     "text": [
      "================================================================\n"
     ]
    },
    {
     "name": "stderr",
     "output_type": "stream",
     "text": [
      "2023-10-23 16:23:41,466 | Train Epoch: 21 [0/50000 (0%)]\tLoss: 4.012547\n",
      "2023-10-23 16:24:35,822 | Train Epoch: 21 [5000/50000 (10%)]\tLoss: 5.349947\n",
      "2023-10-23 16:25:29,507 | Train Epoch: 21 [10000/50000 (20%)]\tLoss: 4.165324\n",
      "2023-10-23 16:26:21,907 | Train Epoch: 21 [15000/50000 (30%)]\tLoss: 4.625718\n",
      "2023-10-23 16:27:14,430 | Train Epoch: 21 [20000/50000 (40%)]\tLoss: 4.691062\n",
      "2023-10-23 16:28:07,383 | Train Epoch: 21 [25000/50000 (50%)]\tLoss: 5.299859\n",
      "2023-10-23 16:29:00,686 | Train Epoch: 21 [30000/50000 (60%)]\tLoss: 5.587549\n",
      "2023-10-23 16:29:54,000 | Train Epoch: 21 [35000/50000 (70%)]\tLoss: 4.308146\n",
      "2023-10-23 16:30:47,930 | Train Epoch: 21 [40000/50000 (80%)]\tLoss: 5.427414\n",
      "2023-10-23 16:31:41,607 | Train Epoch: 21 [45000/50000 (90%)]\tLoss: 3.685848\n"
     ]
    },
    {
     "name": "stdout",
     "output_type": "stream",
     "text": [
      "================================================================\n"
     ]
    },
    {
     "name": "stderr",
     "output_type": "stream",
     "text": [
      "2023-10-23 16:32:36,745 | Test: Average loss: 0.5122, Accuracy: 8363/10000 (84%),PDG clean accuracy: 109/128 (85.16%), Robust accuracy 67/128 (52.34%)\n"
     ]
    },
    {
     "name": "stdout",
     "output_type": "stream",
     "text": [
      "================================================================\n"
     ]
    },
    {
     "name": "stderr",
     "output_type": "stream",
     "text": [
      "2023-10-23 16:32:37,470 | Train Epoch: 22 [0/50000 (0%)]\tLoss: 4.248586\n",
      "2023-10-23 16:33:30,360 | Train Epoch: 22 [5000/50000 (10%)]\tLoss: 5.495215\n",
      "2023-10-23 16:34:23,752 | Train Epoch: 22 [10000/50000 (20%)]\tLoss: 3.796729\n",
      "2023-10-23 16:35:16,839 | Train Epoch: 22 [15000/50000 (30%)]\tLoss: 4.423467\n",
      "2023-10-23 16:36:10,413 | Train Epoch: 22 [20000/50000 (40%)]\tLoss: 4.128772\n",
      "2023-10-23 16:37:04,274 | Train Epoch: 22 [25000/50000 (50%)]\tLoss: 4.901442\n",
      "2023-10-23 16:37:57,893 | Train Epoch: 22 [30000/50000 (60%)]\tLoss: 5.166857\n",
      "2023-10-23 16:38:50,754 | Train Epoch: 22 [35000/50000 (70%)]\tLoss: 5.033827\n",
      "2023-10-23 16:39:43,510 | Train Epoch: 22 [40000/50000 (80%)]\tLoss: 5.262592\n",
      "2023-10-23 16:40:35,946 | Train Epoch: 22 [45000/50000 (90%)]\tLoss: 4.420703\n"
     ]
    },
    {
     "name": "stdout",
     "output_type": "stream",
     "text": [
      "================================================================\n"
     ]
    },
    {
     "name": "stderr",
     "output_type": "stream",
     "text": [
      "2023-10-23 16:41:30,840 | Test: Average loss: 0.5182, Accuracy: 8330/10000 (83%),PDG clean accuracy: 110/128 (85.94%), Robust accuracy 75/128 (58.59%)\n"
     ]
    },
    {
     "name": "stdout",
     "output_type": "stream",
     "text": [
      "================================================================\n"
     ]
    },
    {
     "name": "stderr",
     "output_type": "stream",
     "text": [
      "2023-10-23 16:41:31,564 | Train Epoch: 23 [0/50000 (0%)]\tLoss: 5.486929\n",
      "2023-10-23 16:42:24,977 | Train Epoch: 23 [5000/50000 (10%)]\tLoss: 4.358119\n",
      "2023-10-23 16:43:18,442 | Train Epoch: 23 [10000/50000 (20%)]\tLoss: 5.134841\n",
      "2023-10-23 16:44:11,072 | Train Epoch: 23 [15000/50000 (30%)]\tLoss: 3.967709\n",
      "2023-10-23 16:45:04,081 | Train Epoch: 23 [20000/50000 (40%)]\tLoss: 5.260262\n",
      "2023-10-23 16:45:57,262 | Train Epoch: 23 [25000/50000 (50%)]\tLoss: 4.430359\n",
      "2023-10-23 16:46:50,265 | Train Epoch: 23 [30000/50000 (60%)]\tLoss: 4.642750\n",
      "2023-10-23 16:47:43,787 | Train Epoch: 23 [35000/50000 (70%)]\tLoss: 4.047001\n",
      "2023-10-23 16:48:36,181 | Train Epoch: 23 [40000/50000 (80%)]\tLoss: 5.112603\n",
      "2023-10-23 16:49:29,202 | Train Epoch: 23 [45000/50000 (90%)]\tLoss: 3.594648\n"
     ]
    },
    {
     "name": "stdout",
     "output_type": "stream",
     "text": [
      "================================================================\n"
     ]
    },
    {
     "name": "stderr",
     "output_type": "stream",
     "text": [
      "2023-10-23 16:50:24,347 | Test: Average loss: 0.4926, Accuracy: 8374/10000 (84%),PDG clean accuracy: 111/128 (86.72%), Robust accuracy 80/128 (62.50%)\n"
     ]
    },
    {
     "name": "stdout",
     "output_type": "stream",
     "text": [
      "================================================================\n"
     ]
    },
    {
     "name": "stderr",
     "output_type": "stream",
     "text": [
      "2023-10-23 16:50:25,172 | Train Epoch: 24 [0/50000 (0%)]\tLoss: 4.656336\n",
      "2023-10-23 16:51:18,531 | Train Epoch: 24 [5000/50000 (10%)]\tLoss: 4.721282\n",
      "2023-10-23 16:52:11,000 | Train Epoch: 24 [10000/50000 (20%)]\tLoss: 5.102187\n",
      "2023-10-23 16:53:04,477 | Train Epoch: 24 [15000/50000 (30%)]\tLoss: 3.521852\n",
      "2023-10-23 16:53:56,961 | Train Epoch: 24 [20000/50000 (40%)]\tLoss: 4.520828\n",
      "2023-10-23 16:54:50,166 | Train Epoch: 24 [25000/50000 (50%)]\tLoss: 4.686074\n",
      "2023-10-23 16:55:42,964 | Train Epoch: 24 [30000/50000 (60%)]\tLoss: 4.393619\n",
      "2023-10-23 16:56:35,125 | Train Epoch: 24 [35000/50000 (70%)]\tLoss: 4.607168\n",
      "2023-10-23 16:57:28,234 | Train Epoch: 24 [40000/50000 (80%)]\tLoss: 3.320400\n",
      "2023-10-23 16:58:22,015 | Train Epoch: 24 [45000/50000 (90%)]\tLoss: 5.557176\n"
     ]
    },
    {
     "name": "stdout",
     "output_type": "stream",
     "text": [
      "================================================================\n"
     ]
    },
    {
     "name": "stderr",
     "output_type": "stream",
     "text": [
      "2023-10-23 16:59:18,237 | Test: Average loss: 0.5183, Accuracy: 8371/10000 (84%),PDG clean accuracy: 109/128 (85.16%), Robust accuracy 74/128 (57.81%)\n"
     ]
    },
    {
     "name": "stdout",
     "output_type": "stream",
     "text": [
      "================================================================\n"
     ]
    },
    {
     "name": "stderr",
     "output_type": "stream",
     "text": [
      "2023-10-23 16:59:18,911 | Train Epoch: 25 [0/50000 (0%)]\tLoss: 4.129614\n",
      "2023-10-23 17:00:12,140 | Train Epoch: 25 [5000/50000 (10%)]\tLoss: 4.200547\n",
      "2023-10-23 17:01:05,778 | Train Epoch: 25 [10000/50000 (20%)]\tLoss: 4.733197\n",
      "2023-10-23 17:01:59,386 | Train Epoch: 25 [15000/50000 (30%)]\tLoss: 3.931526\n",
      "2023-10-23 17:02:53,121 | Train Epoch: 25 [20000/50000 (40%)]\tLoss: 4.139605\n",
      "2023-10-23 17:03:46,479 | Train Epoch: 25 [25000/50000 (50%)]\tLoss: 4.983621\n",
      "2023-10-23 17:04:41,125 | Train Epoch: 25 [30000/50000 (60%)]\tLoss: 4.477787\n",
      "2023-10-23 17:05:33,966 | Train Epoch: 25 [35000/50000 (70%)]\tLoss: 3.998938\n",
      "2023-10-23 17:06:27,069 | Train Epoch: 25 [40000/50000 (80%)]\tLoss: 4.894556\n",
      "2023-10-23 17:07:20,025 | Train Epoch: 25 [45000/50000 (90%)]\tLoss: 5.047051\n"
     ]
    },
    {
     "name": "stdout",
     "output_type": "stream",
     "text": [
      "================================================================\n"
     ]
    },
    {
     "name": "stderr",
     "output_type": "stream",
     "text": [
      "2023-10-23 17:08:15,376 | Test: Average loss: 0.4780, Accuracy: 8502/10000 (85%),PDG clean accuracy: 109/128 (85.16%), Robust accuracy 69/128 (53.91%)\n"
     ]
    },
    {
     "name": "stdout",
     "output_type": "stream",
     "text": [
      "================================================================\n"
     ]
    },
    {
     "name": "stderr",
     "output_type": "stream",
     "text": [
      "2023-10-23 17:08:16,080 | Train Epoch: 26 [0/50000 (0%)]\tLoss: 4.914747\n",
      "2023-10-23 17:09:08,944 | Train Epoch: 26 [5000/50000 (10%)]\tLoss: 4.532803\n",
      "2023-10-23 17:10:03,020 | Train Epoch: 26 [10000/50000 (20%)]\tLoss: 4.472460\n",
      "2023-10-23 17:10:56,343 | Train Epoch: 26 [15000/50000 (30%)]\tLoss: 4.259232\n",
      "2023-10-23 17:11:50,030 | Train Epoch: 26 [20000/50000 (40%)]\tLoss: 4.433200\n",
      "2023-10-23 17:12:42,977 | Train Epoch: 26 [25000/50000 (50%)]\tLoss: 4.126565\n",
      "2023-10-23 17:13:35,731 | Train Epoch: 26 [30000/50000 (60%)]\tLoss: 4.948936\n",
      "2023-10-23 17:14:28,492 | Train Epoch: 26 [35000/50000 (70%)]\tLoss: 4.774573\n",
      "2023-10-23 17:15:21,247 | Train Epoch: 26 [40000/50000 (80%)]\tLoss: 4.894280\n",
      "2023-10-23 17:16:13,756 | Train Epoch: 26 [45000/50000 (90%)]\tLoss: 4.669775\n"
     ]
    },
    {
     "name": "stdout",
     "output_type": "stream",
     "text": [
      "================================================================\n"
     ]
    },
    {
     "name": "stderr",
     "output_type": "stream",
     "text": [
      "2023-10-23 17:17:08,946 | Test: Average loss: 0.4824, Accuracy: 8408/10000 (84%),PDG clean accuracy: 113/128 (88.28%), Robust accuracy 80/128 (62.50%)\n"
     ]
    },
    {
     "name": "stdout",
     "output_type": "stream",
     "text": [
      "================================================================\n"
     ]
    },
    {
     "name": "stderr",
     "output_type": "stream",
     "text": [
      "2023-10-23 17:17:09,669 | Train Epoch: 27 [0/50000 (0%)]\tLoss: 4.835060\n",
      "2023-10-23 17:18:03,232 | Train Epoch: 27 [5000/50000 (10%)]\tLoss: 3.918474\n",
      "2023-10-23 17:18:57,637 | Train Epoch: 27 [10000/50000 (20%)]\tLoss: 5.230997\n",
      "2023-10-23 17:19:50,156 | Train Epoch: 27 [15000/50000 (30%)]\tLoss: 4.157674\n",
      "2023-10-23 17:20:43,364 | Train Epoch: 27 [20000/50000 (40%)]\tLoss: 4.935760\n",
      "2023-10-23 17:21:36,893 | Train Epoch: 27 [25000/50000 (50%)]\tLoss: 3.968990\n",
      "2023-10-23 17:22:28,948 | Train Epoch: 27 [30000/50000 (60%)]\tLoss: 4.574652\n",
      "2023-10-23 17:23:23,587 | Train Epoch: 27 [35000/50000 (70%)]\tLoss: 5.105441\n",
      "2023-10-23 17:24:18,513 | Train Epoch: 27 [40000/50000 (80%)]\tLoss: 4.710404\n",
      "2023-10-23 17:25:12,271 | Train Epoch: 27 [45000/50000 (90%)]\tLoss: 5.133165\n"
     ]
    },
    {
     "name": "stdout",
     "output_type": "stream",
     "text": [
      "================================================================\n"
     ]
    },
    {
     "name": "stderr",
     "output_type": "stream",
     "text": [
      "2023-10-23 17:26:09,646 | Test: Average loss: 0.4725, Accuracy: 8512/10000 (85%),PDG clean accuracy: 113/128 (88.28%), Robust accuracy 72/128 (56.25%)\n"
     ]
    },
    {
     "name": "stdout",
     "output_type": "stream",
     "text": [
      "================================================================\n"
     ]
    },
    {
     "name": "stderr",
     "output_type": "stream",
     "text": [
      "2023-10-23 17:26:10,319 | Train Epoch: 28 [0/50000 (0%)]\tLoss: 5.143806\n",
      "2023-10-23 17:27:02,909 | Train Epoch: 28 [5000/50000 (10%)]\tLoss: 5.227734\n",
      "2023-10-23 17:27:55,092 | Train Epoch: 28 [10000/50000 (20%)]\tLoss: 4.554581\n",
      "2023-10-23 17:28:48,456 | Train Epoch: 28 [15000/50000 (30%)]\tLoss: 4.505328\n",
      "2023-10-23 17:29:41,951 | Train Epoch: 28 [20000/50000 (40%)]\tLoss: 4.803218\n",
      "2023-10-23 17:30:35,462 | Train Epoch: 28 [25000/50000 (50%)]\tLoss: 4.333945\n",
      "2023-10-23 17:31:29,238 | Train Epoch: 28 [30000/50000 (60%)]\tLoss: 5.155053\n",
      "2023-10-23 17:32:24,348 | Train Epoch: 28 [35000/50000 (70%)]\tLoss: 4.092941\n",
      "2023-10-23 17:33:16,734 | Train Epoch: 28 [40000/50000 (80%)]\tLoss: 4.372382\n",
      "2023-10-23 17:34:09,711 | Train Epoch: 28 [45000/50000 (90%)]\tLoss: 5.117133\n"
     ]
    },
    {
     "name": "stdout",
     "output_type": "stream",
     "text": [
      "================================================================\n"
     ]
    },
    {
     "name": "stderr",
     "output_type": "stream",
     "text": [
      "2023-10-23 17:35:05,602 | Test: Average loss: 0.4738, Accuracy: 8465/10000 (85%),PDG clean accuracy: 112/128 (87.50%), Robust accuracy 68/128 (53.12%)\n"
     ]
    },
    {
     "name": "stdout",
     "output_type": "stream",
     "text": [
      "================================================================\n"
     ]
    },
    {
     "name": "stderr",
     "output_type": "stream",
     "text": [
      "2023-10-23 17:35:06,316 | Train Epoch: 29 [0/50000 (0%)]\tLoss: 4.631567\n",
      "2023-10-23 17:35:59,587 | Train Epoch: 29 [5000/50000 (10%)]\tLoss: 3.981799\n",
      "2023-10-23 17:36:52,684 | Train Epoch: 29 [10000/50000 (20%)]\tLoss: 4.379845\n",
      "2023-10-23 17:37:47,341 | Train Epoch: 29 [15000/50000 (30%)]\tLoss: 4.041360\n",
      "2023-10-23 17:38:41,276 | Train Epoch: 29 [20000/50000 (40%)]\tLoss: 4.148924\n",
      "2023-10-23 17:39:34,591 | Train Epoch: 29 [25000/50000 (50%)]\tLoss: 3.961879\n",
      "2023-10-23 17:40:28,116 | Train Epoch: 29 [30000/50000 (60%)]\tLoss: 3.951738\n",
      "2023-10-23 17:41:20,816 | Train Epoch: 29 [35000/50000 (70%)]\tLoss: 4.491796\n",
      "2023-10-23 17:42:14,497 | Train Epoch: 29 [40000/50000 (80%)]\tLoss: 4.914124\n",
      "2023-10-23 17:43:07,599 | Train Epoch: 29 [45000/50000 (90%)]\tLoss: 3.882099\n"
     ]
    },
    {
     "name": "stdout",
     "output_type": "stream",
     "text": [
      "================================================================\n"
     ]
    },
    {
     "name": "stderr",
     "output_type": "stream",
     "text": [
      "2023-10-23 17:44:04,585 | Test: Average loss: 0.4811, Accuracy: 8432/10000 (84%),PDG clean accuracy: 109/128 (85.16%), Robust accuracy 75/128 (58.59%)\n"
     ]
    },
    {
     "name": "stdout",
     "output_type": "stream",
     "text": [
      "================================================================\n"
     ]
    },
    {
     "name": "stderr",
     "output_type": "stream",
     "text": [
      "2023-10-23 17:44:05,266 | Train Epoch: 30 [0/50000 (0%)]\tLoss: 4.046408\n",
      "2023-10-23 17:44:57,562 | Train Epoch: 30 [5000/50000 (10%)]\tLoss: 4.695410\n",
      "2023-10-23 17:45:51,014 | Train Epoch: 30 [10000/50000 (20%)]\tLoss: 4.320059\n",
      "2023-10-23 17:46:43,998 | Train Epoch: 30 [15000/50000 (30%)]\tLoss: 4.840502\n",
      "2023-10-23 17:47:37,238 | Train Epoch: 30 [20000/50000 (40%)]\tLoss: 4.762363\n",
      "2023-10-23 17:48:31,529 | Train Epoch: 30 [25000/50000 (50%)]\tLoss: 4.598266\n",
      "2023-10-23 17:49:24,984 | Train Epoch: 30 [30000/50000 (60%)]\tLoss: 4.305713\n",
      "2023-10-23 17:50:17,886 | Train Epoch: 30 [35000/50000 (70%)]\tLoss: 5.034109\n",
      "2023-10-23 17:51:11,162 | Train Epoch: 30 [40000/50000 (80%)]\tLoss: 4.004462\n",
      "2023-10-23 17:52:04,060 | Train Epoch: 30 [45000/50000 (90%)]\tLoss: 4.606595\n"
     ]
    },
    {
     "name": "stdout",
     "output_type": "stream",
     "text": [
      "================================================================\n"
     ]
    },
    {
     "name": "stderr",
     "output_type": "stream",
     "text": [
      "2023-10-23 17:52:59,440 | Test: Average loss: 0.4643, Accuracy: 8467/10000 (85%),PDG clean accuracy: 109/128 (85.16%), Robust accuracy 78/128 (60.94%)\n"
     ]
    },
    {
     "name": "stdout",
     "output_type": "stream",
     "text": [
      "================================================================\n"
     ]
    },
    {
     "name": "stderr",
     "output_type": "stream",
     "text": [
      "2023-10-23 17:53:00,164 | Train Epoch: 31 [0/50000 (0%)]\tLoss: 4.604307\n",
      "2023-10-23 17:53:53,836 | Train Epoch: 31 [5000/50000 (10%)]\tLoss: 4.805564\n",
      "2023-10-23 17:54:46,725 | Train Epoch: 31 [10000/50000 (20%)]\tLoss: 5.241215\n",
      "2023-10-23 17:55:38,609 | Train Epoch: 31 [15000/50000 (30%)]\tLoss: 3.577382\n",
      "2023-10-23 17:56:31,781 | Train Epoch: 31 [20000/50000 (40%)]\tLoss: 4.452576\n",
      "2023-10-23 17:57:25,301 | Train Epoch: 31 [25000/50000 (50%)]\tLoss: 5.179138\n",
      "2023-10-23 17:58:19,154 | Train Epoch: 31 [30000/50000 (60%)]\tLoss: 4.323501\n",
      "2023-10-23 17:59:12,676 | Train Epoch: 31 [35000/50000 (70%)]\tLoss: 4.947126\n",
      "2023-10-23 18:00:05,582 | Train Epoch: 31 [40000/50000 (80%)]\tLoss: 4.730201\n",
      "2023-10-23 18:00:59,349 | Train Epoch: 31 [45000/50000 (90%)]\tLoss: 5.365411\n"
     ]
    },
    {
     "name": "stdout",
     "output_type": "stream",
     "text": [
      "================================================================\n"
     ]
    },
    {
     "name": "stderr",
     "output_type": "stream",
     "text": [
      "2023-10-23 18:01:55,086 | Test: Average loss: 0.4422, Accuracy: 8543/10000 (85%),PDG clean accuracy: 112/128 (87.50%), Robust accuracy 63/128 (49.22%)\n"
     ]
    },
    {
     "name": "stdout",
     "output_type": "stream",
     "text": [
      "================================================================\n"
     ]
    },
    {
     "name": "stderr",
     "output_type": "stream",
     "text": [
      "2023-10-23 18:01:55,802 | Train Epoch: 32 [0/50000 (0%)]\tLoss: 3.982874\n",
      "2023-10-23 18:02:48,971 | Train Epoch: 32 [5000/50000 (10%)]\tLoss: 4.514763\n",
      "2023-10-23 18:03:41,728 | Train Epoch: 32 [10000/50000 (20%)]\tLoss: 4.706021\n",
      "2023-10-23 18:04:34,298 | Train Epoch: 32 [15000/50000 (30%)]\tLoss: 4.550772\n",
      "2023-10-23 18:05:27,696 | Train Epoch: 32 [20000/50000 (40%)]\tLoss: 4.781681\n",
      "2023-10-23 18:06:21,940 | Train Epoch: 32 [25000/50000 (50%)]\tLoss: 5.097623\n",
      "2023-10-23 18:07:16,650 | Train Epoch: 32 [30000/50000 (60%)]\tLoss: 3.688488\n",
      "2023-10-23 18:08:09,093 | Train Epoch: 32 [35000/50000 (70%)]\tLoss: 5.078305\n",
      "2023-10-23 18:09:01,922 | Train Epoch: 32 [40000/50000 (80%)]\tLoss: 4.574247\n",
      "2023-10-23 18:09:56,710 | Train Epoch: 32 [45000/50000 (90%)]\tLoss: 4.847930\n"
     ]
    },
    {
     "name": "stdout",
     "output_type": "stream",
     "text": [
      "================================================================\n"
     ]
    },
    {
     "name": "stderr",
     "output_type": "stream",
     "text": [
      "2023-10-23 18:10:51,725 | Test: Average loss: 0.4491, Accuracy: 8559/10000 (86%),PDG clean accuracy: 115/128 (89.84%), Robust accuracy 71/128 (55.47%)\n"
     ]
    },
    {
     "name": "stdout",
     "output_type": "stream",
     "text": [
      "================================================================\n"
     ]
    },
    {
     "name": "stderr",
     "output_type": "stream",
     "text": [
      "2023-10-23 18:10:52,445 | Train Epoch: 33 [0/50000 (0%)]\tLoss: 4.532560\n",
      "2023-10-23 18:11:45,933 | Train Epoch: 33 [5000/50000 (10%)]\tLoss: 4.606890\n",
      "2023-10-23 18:12:39,228 | Train Epoch: 33 [10000/50000 (20%)]\tLoss: 4.799723\n",
      "2023-10-23 18:13:31,625 | Train Epoch: 33 [15000/50000 (30%)]\tLoss: 4.798232\n",
      "2023-10-23 18:14:24,308 | Train Epoch: 33 [20000/50000 (40%)]\tLoss: 3.599162\n",
      "2023-10-23 18:15:17,713 | Train Epoch: 33 [25000/50000 (50%)]\tLoss: 4.549710\n",
      "2023-10-23 18:16:11,005 | Train Epoch: 33 [30000/50000 (60%)]\tLoss: 4.536971\n",
      "2023-10-23 18:17:04,187 | Train Epoch: 33 [35000/50000 (70%)]\tLoss: 5.095357\n",
      "2023-10-23 18:17:57,566 | Train Epoch: 33 [40000/50000 (80%)]\tLoss: 4.618512\n",
      "2023-10-23 18:18:50,969 | Train Epoch: 33 [45000/50000 (90%)]\tLoss: 4.321897\n"
     ]
    },
    {
     "name": "stdout",
     "output_type": "stream",
     "text": [
      "================================================================\n"
     ]
    },
    {
     "name": "stderr",
     "output_type": "stream",
     "text": [
      "2023-10-23 18:19:47,687 | Test: Average loss: 0.4734, Accuracy: 8444/10000 (84%),PDG clean accuracy: 113/128 (88.28%), Robust accuracy 74/128 (57.81%)\n"
     ]
    },
    {
     "name": "stdout",
     "output_type": "stream",
     "text": [
      "================================================================\n"
     ]
    },
    {
     "name": "stderr",
     "output_type": "stream",
     "text": [
      "2023-10-23 18:19:48,408 | Train Epoch: 34 [0/50000 (0%)]\tLoss: 4.182406\n",
      "2023-10-23 18:20:41,776 | Train Epoch: 34 [5000/50000 (10%)]\tLoss: 4.842802\n",
      "2023-10-23 18:21:34,491 | Train Epoch: 34 [10000/50000 (20%)]\tLoss: 4.483175\n",
      "2023-10-23 18:22:28,300 | Train Epoch: 34 [15000/50000 (30%)]\tLoss: 4.582849\n",
      "2023-10-23 18:23:22,174 | Train Epoch: 34 [20000/50000 (40%)]\tLoss: 4.173030\n",
      "2023-10-23 18:24:14,635 | Train Epoch: 34 [25000/50000 (50%)]\tLoss: 4.271222\n",
      "2023-10-23 18:25:08,157 | Train Epoch: 34 [30000/50000 (60%)]\tLoss: 4.687074\n",
      "2023-10-23 18:26:01,452 | Train Epoch: 34 [35000/50000 (70%)]\tLoss: 3.209568\n",
      "2023-10-23 18:26:54,815 | Train Epoch: 34 [40000/50000 (80%)]\tLoss: 3.785376\n",
      "2023-10-23 18:27:47,713 | Train Epoch: 34 [45000/50000 (90%)]\tLoss: 4.366137\n"
     ]
    },
    {
     "name": "stdout",
     "output_type": "stream",
     "text": [
      "================================================================\n"
     ]
    },
    {
     "name": "stderr",
     "output_type": "stream",
     "text": [
      "2023-10-23 18:28:43,428 | Test: Average loss: 0.4581, Accuracy: 8490/10000 (85%),PDG clean accuracy: 111/128 (86.72%), Robust accuracy 77/128 (60.16%)\n"
     ]
    },
    {
     "name": "stdout",
     "output_type": "stream",
     "text": [
      "================================================================\n"
     ]
    },
    {
     "name": "stderr",
     "output_type": "stream",
     "text": [
      "2023-10-23 18:28:44,114 | Train Epoch: 35 [0/50000 (0%)]\tLoss: 3.673464\n",
      "2023-10-23 18:29:36,883 | Train Epoch: 35 [5000/50000 (10%)]\tLoss: 4.601496\n",
      "2023-10-23 18:30:29,411 | Train Epoch: 35 [10000/50000 (20%)]\tLoss: 4.998380\n",
      "2023-10-23 18:31:23,293 | Train Epoch: 35 [15000/50000 (30%)]\tLoss: 4.799945\n",
      "2023-10-23 18:32:16,666 | Train Epoch: 35 [20000/50000 (40%)]\tLoss: 4.896491\n",
      "2023-10-23 18:33:09,471 | Train Epoch: 35 [25000/50000 (50%)]\tLoss: 4.656888\n",
      "2023-10-23 18:34:02,692 | Train Epoch: 35 [30000/50000 (60%)]\tLoss: 4.625460\n",
      "2023-10-23 18:34:55,782 | Train Epoch: 35 [35000/50000 (70%)]\tLoss: 4.332489\n",
      "2023-10-23 18:35:49,384 | Train Epoch: 35 [40000/50000 (80%)]\tLoss: 3.597515\n",
      "2023-10-23 18:36:42,979 | Train Epoch: 35 [45000/50000 (90%)]\tLoss: 5.396160\n"
     ]
    },
    {
     "name": "stdout",
     "output_type": "stream",
     "text": [
      "================================================================\n"
     ]
    },
    {
     "name": "stderr",
     "output_type": "stream",
     "text": [
      "2023-10-23 18:37:38,335 | Test: Average loss: 0.4655, Accuracy: 8502/10000 (85%),PDG clean accuracy: 114/128 (89.06%), Robust accuracy 81/128 (63.28%)\n"
     ]
    },
    {
     "name": "stdout",
     "output_type": "stream",
     "text": [
      "================================================================\n"
     ]
    },
    {
     "name": "stderr",
     "output_type": "stream",
     "text": [
      "2023-10-23 18:37:39,049 | Train Epoch: 36 [0/50000 (0%)]\tLoss: 4.446105\n",
      "2023-10-23 18:38:32,396 | Train Epoch: 36 [5000/50000 (10%)]\tLoss: 4.394935\n",
      "2023-10-23 18:39:25,918 | Train Epoch: 36 [10000/50000 (20%)]\tLoss: 5.135056\n",
      "2023-10-23 18:40:20,230 | Train Epoch: 36 [15000/50000 (30%)]\tLoss: 3.599866\n",
      "2023-10-23 18:41:12,862 | Train Epoch: 36 [20000/50000 (40%)]\tLoss: 4.446292\n",
      "2023-10-23 18:42:05,938 | Train Epoch: 36 [25000/50000 (50%)]\tLoss: 4.210233\n",
      "2023-10-23 18:42:59,410 | Train Epoch: 36 [30000/50000 (60%)]\tLoss: 4.545481\n",
      "2023-10-23 18:43:52,698 | Train Epoch: 36 [35000/50000 (70%)]\tLoss: 4.066036\n",
      "2023-10-23 18:44:45,760 | Train Epoch: 36 [40000/50000 (80%)]\tLoss: 4.484155\n",
      "2023-10-23 18:45:38,841 | Train Epoch: 36 [45000/50000 (90%)]\tLoss: 4.988380\n"
     ]
    },
    {
     "name": "stdout",
     "output_type": "stream",
     "text": [
      "================================================================\n"
     ]
    },
    {
     "name": "stderr",
     "output_type": "stream",
     "text": [
      "2023-10-23 18:46:33,995 | Test: Average loss: 0.4553, Accuracy: 8458/10000 (85%),PDG clean accuracy: 109/128 (85.16%), Robust accuracy 75/128 (58.59%)\n"
     ]
    },
    {
     "name": "stdout",
     "output_type": "stream",
     "text": [
      "================================================================\n"
     ]
    },
    {
     "name": "stderr",
     "output_type": "stream",
     "text": [
      "2023-10-23 18:46:34,729 | Train Epoch: 37 [0/50000 (0%)]\tLoss: 5.081996\n",
      "2023-10-23 18:47:28,053 | Train Epoch: 37 [5000/50000 (10%)]\tLoss: 4.762689\n",
      "2023-10-23 18:48:21,945 | Train Epoch: 37 [10000/50000 (20%)]\tLoss: 3.447401\n",
      "2023-10-23 18:49:16,505 | Train Epoch: 37 [15000/50000 (30%)]\tLoss: 4.866275\n",
      "2023-10-23 18:50:09,977 | Train Epoch: 37 [20000/50000 (40%)]\tLoss: 3.950504\n",
      "2023-10-23 18:51:03,385 | Train Epoch: 37 [25000/50000 (50%)]\tLoss: 4.857121\n",
      "2023-10-23 18:51:56,660 | Train Epoch: 37 [30000/50000 (60%)]\tLoss: 4.491367\n",
      "2023-10-23 18:52:49,783 | Train Epoch: 37 [35000/50000 (70%)]\tLoss: 3.303383\n",
      "2023-10-23 18:53:43,147 | Train Epoch: 37 [40000/50000 (80%)]\tLoss: 4.420549\n",
      "2023-10-23 18:54:36,492 | Train Epoch: 37 [45000/50000 (90%)]\tLoss: 4.486573\n"
     ]
    },
    {
     "name": "stdout",
     "output_type": "stream",
     "text": [
      "================================================================\n"
     ]
    },
    {
     "name": "stderr",
     "output_type": "stream",
     "text": [
      "2023-10-23 18:55:32,252 | Test: Average loss: 0.4623, Accuracy: 8518/10000 (85%),PDG clean accuracy: 112/128 (87.50%), Robust accuracy 76/128 (59.38%)\n"
     ]
    },
    {
     "name": "stdout",
     "output_type": "stream",
     "text": [
      "================================================================\n"
     ]
    },
    {
     "name": "stderr",
     "output_type": "stream",
     "text": [
      "2023-10-23 18:55:32,955 | Train Epoch: 38 [0/50000 (0%)]\tLoss: 4.219423\n",
      "2023-10-23 18:56:26,488 | Train Epoch: 38 [5000/50000 (10%)]\tLoss: 4.055492\n",
      "2023-10-23 18:57:20,812 | Train Epoch: 38 [10000/50000 (20%)]\tLoss: 4.136001\n",
      "2023-10-23 18:58:13,125 | Train Epoch: 38 [15000/50000 (30%)]\tLoss: 4.453201\n",
      "2023-10-23 18:59:06,410 | Train Epoch: 38 [20000/50000 (40%)]\tLoss: 3.660299\n",
      "2023-10-23 18:59:59,865 | Train Epoch: 38 [25000/50000 (50%)]\tLoss: 3.689303\n",
      "2023-10-23 19:00:52,519 | Train Epoch: 38 [30000/50000 (60%)]\tLoss: 3.238646\n",
      "2023-10-23 19:01:46,011 | Train Epoch: 38 [35000/50000 (70%)]\tLoss: 4.666047\n",
      "2023-10-23 19:02:39,200 | Train Epoch: 38 [40000/50000 (80%)]\tLoss: 3.582616\n",
      "2023-10-23 19:03:32,140 | Train Epoch: 38 [45000/50000 (90%)]\tLoss: 4.385439\n"
     ]
    },
    {
     "name": "stdout",
     "output_type": "stream",
     "text": [
      "================================================================\n"
     ]
    },
    {
     "name": "stderr",
     "output_type": "stream",
     "text": [
      "2023-10-23 19:04:26,848 | Test: Average loss: 0.4728, Accuracy: 8490/10000 (85%),PDG clean accuracy: 105/128 (82.03%), Robust accuracy 73/128 (57.03%)\n"
     ]
    },
    {
     "name": "stdout",
     "output_type": "stream",
     "text": [
      "================================================================\n"
     ]
    },
    {
     "name": "stderr",
     "output_type": "stream",
     "text": [
      "2023-10-23 19:04:27,576 | Train Epoch: 39 [0/50000 (0%)]\tLoss: 4.446158\n",
      "2023-10-23 19:05:20,760 | Train Epoch: 39 [5000/50000 (10%)]\tLoss: 4.570901\n",
      "2023-10-23 19:06:14,403 | Train Epoch: 39 [10000/50000 (20%)]\tLoss: 4.808653\n",
      "2023-10-23 19:07:08,178 | Train Epoch: 39 [15000/50000 (30%)]\tLoss: 4.828135\n",
      "2023-10-23 19:07:59,870 | Train Epoch: 39 [20000/50000 (40%)]\tLoss: 4.723422\n",
      "2023-10-23 19:08:53,440 | Train Epoch: 39 [25000/50000 (50%)]\tLoss: 4.623321\n",
      "2023-10-23 19:09:47,872 | Train Epoch: 39 [30000/50000 (60%)]\tLoss: 3.762710\n",
      "2023-10-23 19:10:41,079 | Train Epoch: 39 [35000/50000 (70%)]\tLoss: 5.176607\n",
      "2023-10-23 19:11:33,680 | Train Epoch: 39 [40000/50000 (80%)]\tLoss: 4.433780\n",
      "2023-10-23 19:12:27,524 | Train Epoch: 39 [45000/50000 (90%)]\tLoss: 4.686194\n"
     ]
    },
    {
     "name": "stdout",
     "output_type": "stream",
     "text": [
      "================================================================\n"
     ]
    },
    {
     "name": "stderr",
     "output_type": "stream",
     "text": [
      "2023-10-23 19:13:23,536 | Test: Average loss: 0.4592, Accuracy: 8530/10000 (85%),PDG clean accuracy: 113/128 (88.28%), Robust accuracy 77/128 (60.16%)\n"
     ]
    },
    {
     "name": "stdout",
     "output_type": "stream",
     "text": [
      "================================================================\n"
     ]
    },
    {
     "name": "stderr",
     "output_type": "stream",
     "text": [
      "2023-10-23 19:13:24,233 | Train Epoch: 40 [0/50000 (0%)]\tLoss: 4.754891\n",
      "2023-10-23 19:14:17,415 | Train Epoch: 40 [5000/50000 (10%)]\tLoss: 4.190652\n",
      "2023-10-23 19:15:10,996 | Train Epoch: 40 [10000/50000 (20%)]\tLoss: 4.552619\n",
      "2023-10-23 19:16:04,322 | Train Epoch: 40 [15000/50000 (30%)]\tLoss: 4.831125\n",
      "2023-10-23 19:16:58,224 | Train Epoch: 40 [20000/50000 (40%)]\tLoss: 3.588007\n",
      "2023-10-23 19:17:52,483 | Train Epoch: 40 [25000/50000 (50%)]\tLoss: 4.256846\n",
      "2023-10-23 19:18:47,893 | Train Epoch: 40 [30000/50000 (60%)]\tLoss: 4.978585\n",
      "2023-10-23 19:19:42,687 | Train Epoch: 40 [35000/50000 (70%)]\tLoss: 3.892673\n",
      "2023-10-23 19:20:37,497 | Train Epoch: 40 [40000/50000 (80%)]\tLoss: 3.839643\n",
      "2023-10-23 19:21:31,028 | Train Epoch: 40 [45000/50000 (90%)]\tLoss: 4.558069\n"
     ]
    },
    {
     "name": "stdout",
     "output_type": "stream",
     "text": [
      "================================================================\n"
     ]
    },
    {
     "name": "stderr",
     "output_type": "stream",
     "text": [
      "2023-10-23 19:22:26,072 | Test: Average loss: 0.4372, Accuracy: 8558/10000 (86%),PDG clean accuracy: 112/128 (87.50%), Robust accuracy 67/128 (52.34%)\n"
     ]
    },
    {
     "name": "stdout",
     "output_type": "stream",
     "text": [
      "================================================================\n"
     ]
    },
    {
     "name": "stderr",
     "output_type": "stream",
     "text": [
      "2023-10-23 19:22:26,749 | Train Epoch: 41 [0/50000 (0%)]\tLoss: 4.530257\n",
      "2023-10-23 19:23:20,114 | Train Epoch: 41 [5000/50000 (10%)]\tLoss: 4.256743\n",
      "2023-10-23 19:24:14,716 | Train Epoch: 41 [10000/50000 (20%)]\tLoss: 4.388627\n",
      "2023-10-23 19:25:08,966 | Train Epoch: 41 [15000/50000 (30%)]\tLoss: 4.084210\n",
      "2023-10-23 19:26:03,110 | Train Epoch: 41 [20000/50000 (40%)]\tLoss: 3.749230\n",
      "2023-10-23 19:26:58,039 | Train Epoch: 41 [25000/50000 (50%)]\tLoss: 4.443509\n",
      "2023-10-23 19:27:51,290 | Train Epoch: 41 [30000/50000 (60%)]\tLoss: 4.902766\n",
      "2023-10-23 19:28:43,521 | Train Epoch: 41 [35000/50000 (70%)]\tLoss: 4.546185\n",
      "2023-10-23 19:29:37,113 | Train Epoch: 41 [40000/50000 (80%)]\tLoss: 3.347420\n",
      "2023-10-23 19:30:29,997 | Train Epoch: 41 [45000/50000 (90%)]\tLoss: 3.845929\n"
     ]
    },
    {
     "name": "stdout",
     "output_type": "stream",
     "text": [
      "================================================================\n"
     ]
    },
    {
     "name": "stderr",
     "output_type": "stream",
     "text": [
      "2023-10-23 19:31:25,552 | Test: Average loss: 0.4495, Accuracy: 8570/10000 (86%),PDG clean accuracy: 111/128 (86.72%), Robust accuracy 79/128 (61.72%)\n"
     ]
    },
    {
     "name": "stdout",
     "output_type": "stream",
     "text": [
      "================================================================\n"
     ]
    },
    {
     "name": "stderr",
     "output_type": "stream",
     "text": [
      "2023-10-23 19:31:26,261 | Train Epoch: 42 [0/50000 (0%)]\tLoss: 4.585952\n",
      "2023-10-23 19:32:19,036 | Train Epoch: 42 [5000/50000 (10%)]\tLoss: 4.821206\n",
      "2023-10-23 19:33:12,621 | Train Epoch: 42 [10000/50000 (20%)]\tLoss: 4.526189\n",
      "2023-10-23 19:34:05,468 | Train Epoch: 42 [15000/50000 (30%)]\tLoss: 3.948432\n",
      "2023-10-23 19:34:58,614 | Train Epoch: 42 [20000/50000 (40%)]\tLoss: 4.376368\n",
      "2023-10-23 19:35:51,139 | Train Epoch: 42 [25000/50000 (50%)]\tLoss: 4.156704\n",
      "2023-10-23 19:36:45,349 | Train Epoch: 42 [30000/50000 (60%)]\tLoss: 4.885743\n",
      "2023-10-23 19:37:38,419 | Train Epoch: 42 [35000/50000 (70%)]\tLoss: 4.508112\n",
      "2023-10-23 19:38:31,912 | Train Epoch: 42 [40000/50000 (80%)]\tLoss: 4.199838\n",
      "2023-10-23 19:39:25,019 | Train Epoch: 42 [45000/50000 (90%)]\tLoss: 3.914113\n"
     ]
    },
    {
     "name": "stdout",
     "output_type": "stream",
     "text": [
      "================================================================\n"
     ]
    },
    {
     "name": "stderr",
     "output_type": "stream",
     "text": [
      "2023-10-23 19:40:20,914 | Test: Average loss: 0.4444, Accuracy: 8567/10000 (86%),PDG clean accuracy: 112/128 (87.50%), Robust accuracy 68/128 (53.12%)\n"
     ]
    },
    {
     "name": "stdout",
     "output_type": "stream",
     "text": [
      "================================================================\n"
     ]
    },
    {
     "name": "stderr",
     "output_type": "stream",
     "text": [
      "2023-10-23 19:40:21,645 | Train Epoch: 43 [0/50000 (0%)]\tLoss: 4.047899\n",
      "2023-10-23 19:41:14,727 | Train Epoch: 43 [5000/50000 (10%)]\tLoss: 4.271173\n",
      "2023-10-23 19:42:07,772 | Train Epoch: 43 [10000/50000 (20%)]\tLoss: 4.561220\n",
      "2023-10-23 19:43:00,385 | Train Epoch: 43 [15000/50000 (30%)]\tLoss: 4.631701\n",
      "2023-10-23 19:43:54,499 | Train Epoch: 43 [20000/50000 (40%)]\tLoss: 4.987727\n",
      "2023-10-23 19:44:47,878 | Train Epoch: 43 [25000/50000 (50%)]\tLoss: 4.013003\n",
      "2023-10-23 19:45:42,098 | Train Epoch: 43 [30000/50000 (60%)]\tLoss: 3.786841\n",
      "2023-10-23 19:46:35,636 | Train Epoch: 43 [35000/50000 (70%)]\tLoss: 3.315125\n",
      "2023-10-23 19:47:28,514 | Train Epoch: 43 [40000/50000 (80%)]\tLoss: 3.737911\n",
      "2023-10-23 19:48:23,512 | Train Epoch: 43 [45000/50000 (90%)]\tLoss: 3.407807\n"
     ]
    },
    {
     "name": "stdout",
     "output_type": "stream",
     "text": [
      "================================================================\n"
     ]
    },
    {
     "name": "stderr",
     "output_type": "stream",
     "text": [
      "2023-10-23 19:49:19,913 | Test: Average loss: 0.4636, Accuracy: 8511/10000 (85%),PDG clean accuracy: 109/128 (85.16%), Robust accuracy 75/128 (58.59%)\n"
     ]
    },
    {
     "name": "stdout",
     "output_type": "stream",
     "text": [
      "================================================================\n"
     ]
    },
    {
     "name": "stderr",
     "output_type": "stream",
     "text": [
      "2023-10-23 19:49:20,616 | Train Epoch: 44 [0/50000 (0%)]\tLoss: 3.669401\n",
      "2023-10-23 19:50:15,196 | Train Epoch: 44 [5000/50000 (10%)]\tLoss: 3.593867\n",
      "2023-10-23 19:51:08,784 | Train Epoch: 44 [10000/50000 (20%)]\tLoss: 4.535571\n",
      "2023-10-23 19:52:02,387 | Train Epoch: 44 [15000/50000 (30%)]\tLoss: 4.182864\n",
      "2023-10-23 19:52:55,282 | Train Epoch: 44 [20000/50000 (40%)]\tLoss: 4.482557\n",
      "2023-10-23 19:53:48,857 | Train Epoch: 44 [25000/50000 (50%)]\tLoss: 4.677310\n",
      "2023-10-23 19:54:42,505 | Train Epoch: 44 [30000/50000 (60%)]\tLoss: 4.157168\n",
      "2023-10-23 19:55:35,656 | Train Epoch: 44 [35000/50000 (70%)]\tLoss: 4.972146\n",
      "2023-10-23 19:56:29,503 | Train Epoch: 44 [40000/50000 (80%)]\tLoss: 4.161271\n",
      "2023-10-23 19:57:23,699 | Train Epoch: 44 [45000/50000 (90%)]\tLoss: 4.415576\n"
     ]
    },
    {
     "name": "stdout",
     "output_type": "stream",
     "text": [
      "================================================================\n"
     ]
    },
    {
     "name": "stderr",
     "output_type": "stream",
     "text": [
      "2023-10-23 19:58:19,054 | Test: Average loss: 0.4456, Accuracy: 8504/10000 (85%),PDG clean accuracy: 110/128 (85.94%), Robust accuracy 75/128 (58.59%)\n"
     ]
    },
    {
     "name": "stdout",
     "output_type": "stream",
     "text": [
      "================================================================\n"
     ]
    },
    {
     "name": "stderr",
     "output_type": "stream",
     "text": [
      "2023-10-23 19:58:19,777 | Train Epoch: 45 [0/50000 (0%)]\tLoss: 3.524839\n",
      "2023-10-23 19:59:12,604 | Train Epoch: 45 [5000/50000 (10%)]\tLoss: 4.188633\n",
      "2023-10-23 20:00:05,642 | Train Epoch: 45 [10000/50000 (20%)]\tLoss: 4.875702\n",
      "2023-10-23 20:00:58,784 | Train Epoch: 45 [15000/50000 (30%)]\tLoss: 4.667379\n",
      "2023-10-23 20:01:53,287 | Train Epoch: 45 [20000/50000 (40%)]\tLoss: 4.275294\n",
      "2023-10-23 20:02:46,206 | Train Epoch: 45 [25000/50000 (50%)]\tLoss: 4.024734\n",
      "2023-10-23 20:03:39,075 | Train Epoch: 45 [30000/50000 (60%)]\tLoss: 4.867442\n",
      "2023-10-23 20:04:32,791 | Train Epoch: 45 [35000/50000 (70%)]\tLoss: 3.778860\n",
      "2023-10-23 20:05:25,987 | Train Epoch: 45 [40000/50000 (80%)]\tLoss: 3.569218\n",
      "2023-10-23 20:06:19,332 | Train Epoch: 45 [45000/50000 (90%)]\tLoss: 4.760903\n"
     ]
    },
    {
     "name": "stdout",
     "output_type": "stream",
     "text": [
      "================================================================\n"
     ]
    },
    {
     "name": "stderr",
     "output_type": "stream",
     "text": [
      "2023-10-23 20:07:14,703 | Test: Average loss: 0.4454, Accuracy: 8551/10000 (86%),PDG clean accuracy: 112/128 (87.50%), Robust accuracy 74/128 (57.81%)\n"
     ]
    },
    {
     "name": "stdout",
     "output_type": "stream",
     "text": [
      "================================================================\n"
     ]
    },
    {
     "name": "stderr",
     "output_type": "stream",
     "text": [
      "2023-10-23 20:07:15,413 | Train Epoch: 46 [0/50000 (0%)]\tLoss: 4.516771\n",
      "2023-10-23 20:08:08,761 | Train Epoch: 46 [5000/50000 (10%)]\tLoss: 4.510402\n",
      "2023-10-23 20:09:01,234 | Train Epoch: 46 [10000/50000 (20%)]\tLoss: 4.160155\n",
      "2023-10-23 20:09:54,370 | Train Epoch: 46 [15000/50000 (30%)]\tLoss: 3.657384\n",
      "2023-10-23 20:10:46,950 | Train Epoch: 46 [20000/50000 (40%)]\tLoss: 4.198488\n",
      "2023-10-23 20:11:40,417 | Train Epoch: 46 [25000/50000 (50%)]\tLoss: 3.674941\n",
      "2023-10-23 20:12:33,728 | Train Epoch: 46 [30000/50000 (60%)]\tLoss: 4.217141\n",
      "2023-10-23 20:13:27,744 | Train Epoch: 46 [35000/50000 (70%)]\tLoss: 4.267235\n",
      "2023-10-23 20:14:20,052 | Train Epoch: 46 [40000/50000 (80%)]\tLoss: 4.402481\n",
      "2023-10-23 20:15:13,371 | Train Epoch: 46 [45000/50000 (90%)]\tLoss: 4.628804\n"
     ]
    },
    {
     "name": "stdout",
     "output_type": "stream",
     "text": [
      "================================================================\n"
     ]
    },
    {
     "name": "stderr",
     "output_type": "stream",
     "text": [
      "2023-10-23 20:16:08,994 | Test: Average loss: 0.4502, Accuracy: 8522/10000 (85%),PDG clean accuracy: 108/128 (84.38%), Robust accuracy 72/128 (56.25%)\n"
     ]
    },
    {
     "name": "stdout",
     "output_type": "stream",
     "text": [
      "================================================================\n"
     ]
    },
    {
     "name": "stderr",
     "output_type": "stream",
     "text": [
      "2023-10-23 20:16:09,707 | Train Epoch: 47 [0/50000 (0%)]\tLoss: 3.842248\n",
      "2023-10-23 20:17:02,644 | Train Epoch: 47 [5000/50000 (10%)]\tLoss: 3.913620\n",
      "2023-10-23 20:17:57,456 | Train Epoch: 47 [10000/50000 (20%)]\tLoss: 3.860778\n",
      "2023-10-23 20:18:50,850 | Train Epoch: 47 [15000/50000 (30%)]\tLoss: 4.762928\n",
      "2023-10-23 20:19:45,373 | Train Epoch: 47 [20000/50000 (40%)]\tLoss: 4.992172\n",
      "2023-10-23 20:20:38,250 | Train Epoch: 47 [25000/50000 (50%)]\tLoss: 4.786155\n",
      "2023-10-23 20:21:31,673 | Train Epoch: 47 [30000/50000 (60%)]\tLoss: 4.910029\n",
      "2023-10-23 20:22:24,004 | Train Epoch: 47 [35000/50000 (70%)]\tLoss: 3.918718\n",
      "2023-10-23 20:23:16,572 | Train Epoch: 47 [40000/50000 (80%)]\tLoss: 4.361488\n",
      "2023-10-23 20:24:11,084 | Train Epoch: 47 [45000/50000 (90%)]\tLoss: 4.870859\n"
     ]
    },
    {
     "name": "stdout",
     "output_type": "stream",
     "text": [
      "================================================================\n"
     ]
    },
    {
     "name": "stderr",
     "output_type": "stream",
     "text": [
      "2023-10-23 20:25:07,231 | Test: Average loss: 0.4161, Accuracy: 8648/10000 (86%),PDG clean accuracy: 109/128 (85.16%), Robust accuracy 72/128 (56.25%)\n"
     ]
    },
    {
     "name": "stdout",
     "output_type": "stream",
     "text": [
      "================================================================\n"
     ]
    },
    {
     "name": "stderr",
     "output_type": "stream",
     "text": [
      "2023-10-23 20:25:07,942 | Train Epoch: 48 [0/50000 (0%)]\tLoss: 5.493720\n",
      "2023-10-23 20:26:01,088 | Train Epoch: 48 [5000/50000 (10%)]\tLoss: 4.405588\n",
      "2023-10-23 20:26:53,652 | Train Epoch: 48 [10000/50000 (20%)]\tLoss: 4.451292\n",
      "2023-10-23 20:27:46,190 | Train Epoch: 48 [15000/50000 (30%)]\tLoss: 4.959905\n",
      "2023-10-23 20:28:39,563 | Train Epoch: 48 [20000/50000 (40%)]\tLoss: 4.339961\n",
      "2023-10-23 20:29:32,668 | Train Epoch: 48 [25000/50000 (50%)]\tLoss: 4.118797\n",
      "2023-10-23 20:30:26,294 | Train Epoch: 48 [30000/50000 (60%)]\tLoss: 4.596584\n",
      "2023-10-23 20:31:19,516 | Train Epoch: 48 [35000/50000 (70%)]\tLoss: 4.881238\n",
      "2023-10-23 20:32:13,749 | Train Epoch: 48 [40000/50000 (80%)]\tLoss: 4.125779\n",
      "2023-10-23 20:33:07,101 | Train Epoch: 48 [45000/50000 (90%)]\tLoss: 4.297911\n"
     ]
    },
    {
     "name": "stdout",
     "output_type": "stream",
     "text": [
      "================================================================\n"
     ]
    },
    {
     "name": "stderr",
     "output_type": "stream",
     "text": [
      "2023-10-23 20:34:02,994 | Test: Average loss: 0.4055, Accuracy: 8705/10000 (87%),PDG clean accuracy: 113/128 (88.28%), Robust accuracy 67/128 (52.34%)\n"
     ]
    },
    {
     "name": "stdout",
     "output_type": "stream",
     "text": [
      "================================================================\n"
     ]
    },
    {
     "name": "stderr",
     "output_type": "stream",
     "text": [
      "2023-10-23 20:34:03,828 | Train Epoch: 49 [0/50000 (0%)]\tLoss: 4.663822\n",
      "2023-10-23 20:34:56,643 | Train Epoch: 49 [5000/50000 (10%)]\tLoss: 4.576041\n",
      "2023-10-23 20:35:49,312 | Train Epoch: 49 [10000/50000 (20%)]\tLoss: 4.173388\n",
      "2023-10-23 20:36:43,313 | Train Epoch: 49 [15000/50000 (30%)]\tLoss: 4.469608\n",
      "2023-10-23 20:37:36,422 | Train Epoch: 49 [20000/50000 (40%)]\tLoss: 3.965411\n",
      "2023-10-23 20:38:29,701 | Train Epoch: 49 [25000/50000 (50%)]\tLoss: 4.090327\n",
      "2023-10-23 20:39:23,010 | Train Epoch: 49 [30000/50000 (60%)]\tLoss: 4.385776\n",
      "2023-10-23 20:40:15,244 | Train Epoch: 49 [35000/50000 (70%)]\tLoss: 5.000426\n",
      "2023-10-23 20:41:08,401 | Train Epoch: 49 [40000/50000 (80%)]\tLoss: 3.649568\n",
      "2023-10-23 20:42:01,687 | Train Epoch: 49 [45000/50000 (90%)]\tLoss: 4.446450\n"
     ]
    },
    {
     "name": "stdout",
     "output_type": "stream",
     "text": [
      "================================================================\n"
     ]
    },
    {
     "name": "stderr",
     "output_type": "stream",
     "text": [
      "2023-10-23 20:42:56,429 | Test: Average loss: 0.4397, Accuracy: 8580/10000 (86%),PDG clean accuracy: 119/128 (92.97%), Robust accuracy 75/128 (58.59%)\n"
     ]
    },
    {
     "name": "stdout",
     "output_type": "stream",
     "text": [
      "================================================================\n"
     ]
    },
    {
     "name": "stderr",
     "output_type": "stream",
     "text": [
      "2023-10-23 20:42:57,096 | Train Epoch: 50 [0/50000 (0%)]\tLoss: 4.392745\n",
      "2023-10-23 20:43:50,592 | Train Epoch: 50 [5000/50000 (10%)]\tLoss: 5.025083\n",
      "2023-10-23 20:44:44,106 | Train Epoch: 50 [10000/50000 (20%)]\tLoss: 3.663089\n",
      "2023-10-23 20:45:37,528 | Train Epoch: 50 [15000/50000 (30%)]\tLoss: 3.401905\n",
      "2023-10-23 20:46:30,186 | Train Epoch: 50 [20000/50000 (40%)]\tLoss: 4.539364\n",
      "2023-10-23 20:47:23,911 | Train Epoch: 50 [25000/50000 (50%)]\tLoss: 4.511731\n",
      "2023-10-23 20:48:17,708 | Train Epoch: 50 [30000/50000 (60%)]\tLoss: 4.210005\n",
      "2023-10-23 20:49:10,310 | Train Epoch: 50 [35000/50000 (70%)]\tLoss: 5.043993\n",
      "2023-10-23 20:50:03,260 | Train Epoch: 50 [40000/50000 (80%)]\tLoss: 4.051550\n",
      "2023-10-23 20:50:56,317 | Train Epoch: 50 [45000/50000 (90%)]\tLoss: 4.381157\n"
     ]
    },
    {
     "name": "stdout",
     "output_type": "stream",
     "text": [
      "================================================================\n"
     ]
    },
    {
     "name": "stderr",
     "output_type": "stream",
     "text": [
      "2023-10-23 20:51:51,403 | Test: Average loss: 0.4150, Accuracy: 8699/10000 (87%),PDG clean accuracy: 113/128 (88.28%), Robust accuracy 74/128 (57.81%)\n"
     ]
    },
    {
     "name": "stdout",
     "output_type": "stream",
     "text": [
      "================================================================\n"
     ]
    },
    {
     "name": "stderr",
     "output_type": "stream",
     "text": [
      "2023-10-23 20:51:52,122 | Train Epoch: 51 [0/50000 (0%)]\tLoss: 4.097822\n",
      "2023-10-23 20:52:45,047 | Train Epoch: 51 [5000/50000 (10%)]\tLoss: 4.728916\n",
      "2023-10-23 20:53:38,503 | Train Epoch: 51 [10000/50000 (20%)]\tLoss: 4.708858\n",
      "2023-10-23 20:54:31,586 | Train Epoch: 51 [15000/50000 (30%)]\tLoss: 3.731752\n",
      "2023-10-23 20:55:24,816 | Train Epoch: 51 [20000/50000 (40%)]\tLoss: 3.654137\n",
      "2023-10-23 20:56:17,495 | Train Epoch: 51 [25000/50000 (50%)]\tLoss: 4.342489\n",
      "2023-10-23 20:57:10,490 | Train Epoch: 51 [30000/50000 (60%)]\tLoss: 3.887049\n",
      "2023-10-23 20:58:03,818 | Train Epoch: 51 [35000/50000 (70%)]\tLoss: 4.407243\n",
      "2023-10-23 20:58:56,904 | Train Epoch: 51 [40000/50000 (80%)]\tLoss: 3.277436\n",
      "2023-10-23 20:59:51,007 | Train Epoch: 51 [45000/50000 (90%)]\tLoss: 3.726316\n"
     ]
    },
    {
     "name": "stdout",
     "output_type": "stream",
     "text": [
      "================================================================\n"
     ]
    },
    {
     "name": "stderr",
     "output_type": "stream",
     "text": [
      "2023-10-23 21:00:45,774 | Test: Average loss: 0.4265, Accuracy: 8681/10000 (87%),PDG clean accuracy: 113/128 (88.28%), Robust accuracy 75/128 (58.59%)\n"
     ]
    },
    {
     "name": "stdout",
     "output_type": "stream",
     "text": [
      "================================================================\n"
     ]
    },
    {
     "name": "stderr",
     "output_type": "stream",
     "text": [
      "2023-10-23 21:00:46,469 | Train Epoch: 52 [0/50000 (0%)]\tLoss: 4.937350\n",
      "2023-10-23 21:01:40,090 | Train Epoch: 52 [5000/50000 (10%)]\tLoss: 4.115534\n",
      "2023-10-23 21:02:32,399 | Train Epoch: 52 [10000/50000 (20%)]\tLoss: 3.852750\n",
      "2023-10-23 21:03:25,480 | Train Epoch: 52 [15000/50000 (30%)]\tLoss: 3.404293\n",
      "2023-10-23 21:04:18,237 | Train Epoch: 52 [20000/50000 (40%)]\tLoss: 3.747981\n",
      "2023-10-23 21:05:11,988 | Train Epoch: 52 [25000/50000 (50%)]\tLoss: 4.652347\n",
      "2023-10-23 21:06:04,863 | Train Epoch: 52 [30000/50000 (60%)]\tLoss: 4.763147\n",
      "2023-10-23 21:06:57,492 | Train Epoch: 52 [35000/50000 (70%)]\tLoss: 3.984572\n",
      "2023-10-23 21:07:50,565 | Train Epoch: 52 [40000/50000 (80%)]\tLoss: 3.108390\n",
      "2023-10-23 21:08:43,486 | Train Epoch: 52 [45000/50000 (90%)]\tLoss: 3.843929\n"
     ]
    },
    {
     "name": "stdout",
     "output_type": "stream",
     "text": [
      "================================================================\n"
     ]
    },
    {
     "name": "stderr",
     "output_type": "stream",
     "text": [
      "2023-10-23 21:09:38,874 | Test: Average loss: 0.4627, Accuracy: 8540/10000 (85%),PDG clean accuracy: 110/128 (85.94%), Robust accuracy 75/128 (58.59%)\n"
     ]
    },
    {
     "name": "stdout",
     "output_type": "stream",
     "text": [
      "================================================================\n"
     ]
    },
    {
     "name": "stderr",
     "output_type": "stream",
     "text": [
      "2023-10-23 21:09:39,583 | Train Epoch: 53 [0/50000 (0%)]\tLoss: 4.342548\n",
      "2023-10-23 21:10:32,576 | Train Epoch: 53 [5000/50000 (10%)]\tLoss: 3.718906\n",
      "2023-10-23 21:11:24,717 | Train Epoch: 53 [10000/50000 (20%)]\tLoss: 3.802823\n",
      "2023-10-23 21:12:16,517 | Train Epoch: 53 [15000/50000 (30%)]\tLoss: 3.855532\n",
      "2023-10-23 21:13:09,096 | Train Epoch: 53 [20000/50000 (40%)]\tLoss: 4.066416\n",
      "2023-10-23 21:14:01,590 | Train Epoch: 53 [25000/50000 (50%)]\tLoss: 4.640938\n",
      "2023-10-23 21:14:54,535 | Train Epoch: 53 [30000/50000 (60%)]\tLoss: 4.035863\n",
      "2023-10-23 21:15:47,141 | Train Epoch: 53 [35000/50000 (70%)]\tLoss: 4.540917\n",
      "2023-10-23 21:16:39,454 | Train Epoch: 53 [40000/50000 (80%)]\tLoss: 4.466829\n",
      "2023-10-23 21:17:31,577 | Train Epoch: 53 [45000/50000 (90%)]\tLoss: 3.733261\n"
     ]
    },
    {
     "name": "stdout",
     "output_type": "stream",
     "text": [
      "================================================================\n"
     ]
    },
    {
     "name": "stderr",
     "output_type": "stream",
     "text": [
      "2023-10-23 21:18:27,259 | Test: Average loss: 0.5212, Accuracy: 8401/10000 (84%),PDG clean accuracy: 108/128 (84.38%), Robust accuracy 69/128 (53.91%)\n"
     ]
    },
    {
     "name": "stdout",
     "output_type": "stream",
     "text": [
      "================================================================\n"
     ]
    },
    {
     "name": "stderr",
     "output_type": "stream",
     "text": [
      "2023-10-23 21:18:27,952 | Train Epoch: 54 [0/50000 (0%)]\tLoss: 3.951624\n",
      "2023-10-23 21:19:20,942 | Train Epoch: 54 [5000/50000 (10%)]\tLoss: 4.778754\n",
      "2023-10-23 21:20:13,476 | Train Epoch: 54 [10000/50000 (20%)]\tLoss: 3.710922\n",
      "2023-10-23 21:21:07,166 | Train Epoch: 54 [15000/50000 (30%)]\tLoss: 4.967002\n",
      "2023-10-23 21:22:00,217 | Train Epoch: 54 [20000/50000 (40%)]\tLoss: 3.813223\n",
      "2023-10-23 21:22:53,805 | Train Epoch: 54 [25000/50000 (50%)]\tLoss: 3.704066\n",
      "2023-10-23 21:23:46,529 | Train Epoch: 54 [30000/50000 (60%)]\tLoss: 5.044431\n",
      "2023-10-23 21:24:39,999 | Train Epoch: 54 [35000/50000 (70%)]\tLoss: 3.972360\n",
      "2023-10-23 21:25:32,615 | Train Epoch: 54 [40000/50000 (80%)]\tLoss: 4.634017\n",
      "2023-10-23 21:26:25,361 | Train Epoch: 54 [45000/50000 (90%)]\tLoss: 3.333835\n"
     ]
    },
    {
     "name": "stdout",
     "output_type": "stream",
     "text": [
      "================================================================\n"
     ]
    },
    {
     "name": "stderr",
     "output_type": "stream",
     "text": [
      "2023-10-23 21:27:20,853 | Test: Average loss: 0.4580, Accuracy: 8478/10000 (85%),PDG clean accuracy: 111/128 (86.72%), Robust accuracy 68/128 (53.12%)\n"
     ]
    },
    {
     "name": "stdout",
     "output_type": "stream",
     "text": [
      "================================================================\n"
     ]
    },
    {
     "name": "stderr",
     "output_type": "stream",
     "text": [
      "2023-10-23 21:27:21,533 | Train Epoch: 55 [0/50000 (0%)]\tLoss: 4.344862\n",
      "2023-10-23 21:28:15,887 | Train Epoch: 55 [5000/50000 (10%)]\tLoss: 3.799856\n",
      "2023-10-23 21:29:09,371 | Train Epoch: 55 [10000/50000 (20%)]\tLoss: 4.667336\n",
      "2023-10-23 21:30:02,628 | Train Epoch: 55 [15000/50000 (30%)]\tLoss: 4.713689\n",
      "2023-10-23 21:30:56,181 | Train Epoch: 55 [20000/50000 (40%)]\tLoss: 3.619227\n",
      "2023-10-23 21:31:48,912 | Train Epoch: 55 [25000/50000 (50%)]\tLoss: 4.204629\n",
      "2023-10-23 21:32:42,373 | Train Epoch: 55 [30000/50000 (60%)]\tLoss: 3.843722\n",
      "2023-10-23 21:33:35,465 | Train Epoch: 55 [35000/50000 (70%)]\tLoss: 3.802190\n",
      "2023-10-23 21:34:28,548 | Train Epoch: 55 [40000/50000 (80%)]\tLoss: 4.426045\n",
      "2023-10-23 21:35:21,373 | Train Epoch: 55 [45000/50000 (90%)]\tLoss: 4.645866\n"
     ]
    },
    {
     "name": "stdout",
     "output_type": "stream",
     "text": [
      "================================================================\n"
     ]
    },
    {
     "name": "stderr",
     "output_type": "stream",
     "text": [
      "2023-10-23 21:36:16,100 | Test: Average loss: 0.4206, Accuracy: 8641/10000 (86%),PDG clean accuracy: 112/128 (87.50%), Robust accuracy 65/128 (50.78%)\n"
     ]
    },
    {
     "name": "stdout",
     "output_type": "stream",
     "text": [
      "================================================================\n"
     ]
    },
    {
     "name": "stderr",
     "output_type": "stream",
     "text": [
      "2023-10-23 21:36:16,803 | Train Epoch: 56 [0/50000 (0%)]\tLoss: 4.502013\n",
      "2023-10-23 21:37:10,127 | Train Epoch: 56 [5000/50000 (10%)]\tLoss: 3.721146\n",
      "2023-10-23 21:38:04,028 | Train Epoch: 56 [10000/50000 (20%)]\tLoss: 3.777796\n",
      "2023-10-23 21:38:57,569 | Train Epoch: 56 [15000/50000 (30%)]\tLoss: 3.939727\n",
      "2023-10-23 21:39:51,228 | Train Epoch: 56 [20000/50000 (40%)]\tLoss: 5.161063\n",
      "2023-10-23 21:40:44,688 | Train Epoch: 56 [25000/50000 (50%)]\tLoss: 4.546535\n",
      "2023-10-23 21:41:36,875 | Train Epoch: 56 [30000/50000 (60%)]\tLoss: 4.380435\n",
      "2023-10-23 21:42:30,033 | Train Epoch: 56 [35000/50000 (70%)]\tLoss: 3.332900\n",
      "2023-10-23 21:43:22,806 | Train Epoch: 56 [40000/50000 (80%)]\tLoss: 4.177989\n",
      "2023-10-23 21:44:16,383 | Train Epoch: 56 [45000/50000 (90%)]\tLoss: 4.602305\n"
     ]
    },
    {
     "name": "stdout",
     "output_type": "stream",
     "text": [
      "================================================================\n"
     ]
    },
    {
     "name": "stderr",
     "output_type": "stream",
     "text": [
      "2023-10-23 21:45:12,775 | Test: Average loss: 0.4948, Accuracy: 8422/10000 (84%),PDG clean accuracy: 109/128 (85.16%), Robust accuracy 74/128 (57.81%)\n"
     ]
    },
    {
     "name": "stdout",
     "output_type": "stream",
     "text": [
      "================================================================\n"
     ]
    },
    {
     "name": "stderr",
     "output_type": "stream",
     "text": [
      "2023-10-23 21:45:13,506 | Train Epoch: 57 [0/50000 (0%)]\tLoss: 4.301971\n",
      "2023-10-23 21:46:06,760 | Train Epoch: 57 [5000/50000 (10%)]\tLoss: 3.848297\n",
      "2023-10-23 21:47:00,177 | Train Epoch: 57 [10000/50000 (20%)]\tLoss: 4.820467\n",
      "2023-10-23 21:47:53,205 | Train Epoch: 57 [15000/50000 (30%)]\tLoss: 4.480238\n",
      "2023-10-23 21:48:46,088 | Train Epoch: 57 [20000/50000 (40%)]\tLoss: 3.421751\n",
      "2023-10-23 21:49:39,502 | Train Epoch: 57 [25000/50000 (50%)]\tLoss: 4.159544\n",
      "2023-10-23 21:50:32,762 | Train Epoch: 57 [30000/50000 (60%)]\tLoss: 4.776298\n",
      "2023-10-23 21:51:26,016 | Train Epoch: 57 [35000/50000 (70%)]\tLoss: 3.216751\n",
      "2023-10-23 21:52:19,046 | Train Epoch: 57 [40000/50000 (80%)]\tLoss: 4.304667\n",
      "2023-10-23 21:53:12,982 | Train Epoch: 57 [45000/50000 (90%)]\tLoss: 4.450129\n"
     ]
    },
    {
     "name": "stdout",
     "output_type": "stream",
     "text": [
      "================================================================\n"
     ]
    },
    {
     "name": "stderr",
     "output_type": "stream",
     "text": [
      "2023-10-23 21:54:08,037 | Test: Average loss: 0.4539, Accuracy: 8520/10000 (85%),PDG clean accuracy: 109/128 (85.16%), Robust accuracy 69/128 (53.91%)\n"
     ]
    },
    {
     "name": "stdout",
     "output_type": "stream",
     "text": [
      "================================================================\n"
     ]
    },
    {
     "name": "stderr",
     "output_type": "stream",
     "text": [
      "2023-10-23 21:54:08,712 | Train Epoch: 58 [0/50000 (0%)]\tLoss: 4.064116\n",
      "2023-10-23 21:55:02,046 | Train Epoch: 58 [5000/50000 (10%)]\tLoss: 4.575933\n",
      "2023-10-23 21:55:55,525 | Train Epoch: 58 [10000/50000 (20%)]\tLoss: 4.672395\n",
      "2023-10-23 21:56:48,429 | Train Epoch: 58 [15000/50000 (30%)]\tLoss: 3.530741\n",
      "2023-10-23 21:57:40,972 | Train Epoch: 58 [20000/50000 (40%)]\tLoss: 3.608035\n",
      "2023-10-23 21:58:35,090 | Train Epoch: 58 [25000/50000 (50%)]\tLoss: 3.216531\n",
      "2023-10-23 21:59:28,249 | Train Epoch: 58 [30000/50000 (60%)]\tLoss: 3.748478\n",
      "2023-10-23 22:00:19,958 | Train Epoch: 58 [35000/50000 (70%)]\tLoss: 3.733068\n",
      "2023-10-23 22:01:12,787 | Train Epoch: 58 [40000/50000 (80%)]\tLoss: 4.243443\n",
      "2023-10-23 22:02:06,416 | Train Epoch: 58 [45000/50000 (90%)]\tLoss: 3.616808\n"
     ]
    },
    {
     "name": "stdout",
     "output_type": "stream",
     "text": [
      "================================================================\n"
     ]
    },
    {
     "name": "stderr",
     "output_type": "stream",
     "text": [
      "2023-10-23 22:03:01,594 | Test: Average loss: 0.4579, Accuracy: 8575/10000 (86%),PDG clean accuracy: 110/128 (85.94%), Robust accuracy 68/128 (53.12%)\n"
     ]
    },
    {
     "name": "stdout",
     "output_type": "stream",
     "text": [
      "================================================================\n"
     ]
    },
    {
     "name": "stderr",
     "output_type": "stream",
     "text": [
      "2023-10-23 22:03:02,272 | Train Epoch: 59 [0/50000 (0%)]\tLoss: 4.549895\n",
      "2023-10-23 22:03:56,068 | Train Epoch: 59 [5000/50000 (10%)]\tLoss: 3.609525\n",
      "2023-10-23 22:04:49,638 | Train Epoch: 59 [10000/50000 (20%)]\tLoss: 4.793470\n",
      "2023-10-23 22:05:43,605 | Train Epoch: 59 [15000/50000 (30%)]\tLoss: 3.400277\n",
      "2023-10-23 22:06:36,992 | Train Epoch: 59 [20000/50000 (40%)]\tLoss: 3.900825\n",
      "2023-10-23 22:07:30,578 | Train Epoch: 59 [25000/50000 (50%)]\tLoss: 4.497830\n",
      "2023-10-23 22:08:23,978 | Train Epoch: 59 [30000/50000 (60%)]\tLoss: 4.012727\n",
      "2023-10-23 22:09:17,183 | Train Epoch: 59 [35000/50000 (70%)]\tLoss: 4.764945\n",
      "2023-10-23 22:10:09,942 | Train Epoch: 59 [40000/50000 (80%)]\tLoss: 3.766262\n",
      "2023-10-23 22:11:03,736 | Train Epoch: 59 [45000/50000 (90%)]\tLoss: 3.817960\n"
     ]
    },
    {
     "name": "stdout",
     "output_type": "stream",
     "text": [
      "================================================================\n"
     ]
    },
    {
     "name": "stderr",
     "output_type": "stream",
     "text": [
      "2023-10-23 22:11:58,611 | Test: Average loss: 0.4557, Accuracy: 8550/10000 (86%),PDG clean accuracy: 109/128 (85.16%), Robust accuracy 71/128 (55.47%)\n"
     ]
    },
    {
     "name": "stdout",
     "output_type": "stream",
     "text": [
      "================================================================\n"
     ]
    },
    {
     "name": "stderr",
     "output_type": "stream",
     "text": [
      "2023-10-23 22:11:59,304 | Train Epoch: 60 [0/50000 (0%)]\tLoss: 4.103226\n",
      "2023-10-23 22:12:51,703 | Train Epoch: 60 [5000/50000 (10%)]\tLoss: 4.473163\n",
      "2023-10-23 22:13:44,805 | Train Epoch: 60 [10000/50000 (20%)]\tLoss: 3.787904\n",
      "2023-10-23 22:14:37,999 | Train Epoch: 60 [15000/50000 (30%)]\tLoss: 4.555120\n",
      "2023-10-23 22:15:30,205 | Train Epoch: 60 [20000/50000 (40%)]\tLoss: 3.643614\n",
      "2023-10-23 22:16:22,731 | Train Epoch: 60 [25000/50000 (50%)]\tLoss: 3.848373\n",
      "2023-10-23 22:17:15,970 | Train Epoch: 60 [30000/50000 (60%)]\tLoss: 4.312255\n",
      "2023-10-23 22:18:09,218 | Train Epoch: 60 [35000/50000 (70%)]\tLoss: 4.408750\n",
      "2023-10-23 22:19:01,756 | Train Epoch: 60 [40000/50000 (80%)]\tLoss: 4.525740\n",
      "2023-10-23 22:19:54,311 | Train Epoch: 60 [45000/50000 (90%)]\tLoss: 4.298337\n"
     ]
    },
    {
     "name": "stdout",
     "output_type": "stream",
     "text": [
      "================================================================\n"
     ]
    },
    {
     "name": "stderr",
     "output_type": "stream",
     "text": [
      "2023-10-23 22:20:50,104 | Test: Average loss: 0.4824, Accuracy: 8451/10000 (85%),PDG clean accuracy: 106/128 (82.81%), Robust accuracy 76/128 (59.38%)\n"
     ]
    },
    {
     "name": "stdout",
     "output_type": "stream",
     "text": [
      "================================================================\n"
     ]
    },
    {
     "name": "stderr",
     "output_type": "stream",
     "text": [
      "2023-10-23 22:20:50,826 | Train Epoch: 61 [0/50000 (0%)]\tLoss: 4.677592\n",
      "2023-10-23 22:21:43,526 | Train Epoch: 61 [5000/50000 (10%)]\tLoss: 4.702456\n",
      "2023-10-23 22:22:36,591 | Train Epoch: 61 [10000/50000 (20%)]\tLoss: 5.017056\n",
      "2023-10-23 22:23:29,790 | Train Epoch: 61 [15000/50000 (30%)]\tLoss: 4.105653\n",
      "2023-10-23 22:24:22,855 | Train Epoch: 61 [20000/50000 (40%)]\tLoss: 4.734649\n",
      "2023-10-23 22:25:16,370 | Train Epoch: 61 [25000/50000 (50%)]\tLoss: 4.526164\n",
      "2023-10-23 22:26:09,367 | Train Epoch: 61 [30000/50000 (60%)]\tLoss: 3.913002\n",
      "2023-10-23 22:27:03,466 | Train Epoch: 61 [35000/50000 (70%)]\tLoss: 3.818111\n",
      "2023-10-23 22:27:56,753 | Train Epoch: 61 [40000/50000 (80%)]\tLoss: 4.151601\n",
      "2023-10-23 22:28:49,516 | Train Epoch: 61 [45000/50000 (90%)]\tLoss: 4.420937\n"
     ]
    },
    {
     "name": "stdout",
     "output_type": "stream",
     "text": [
      "================================================================\n"
     ]
    },
    {
     "name": "stderr",
     "output_type": "stream",
     "text": [
      "2023-10-23 22:29:44,678 | Test: Average loss: 0.4355, Accuracy: 8583/10000 (86%),PDG clean accuracy: 110/128 (85.94%), Robust accuracy 74/128 (57.81%)\n"
     ]
    },
    {
     "name": "stdout",
     "output_type": "stream",
     "text": [
      "================================================================\n"
     ]
    },
    {
     "name": "stderr",
     "output_type": "stream",
     "text": [
      "2023-10-23 22:29:45,406 | Train Epoch: 62 [0/50000 (0%)]\tLoss: 4.333009\n",
      "2023-10-23 22:30:39,096 | Train Epoch: 62 [5000/50000 (10%)]\tLoss: 4.239226\n",
      "2023-10-23 22:31:32,310 | Train Epoch: 62 [10000/50000 (20%)]\tLoss: 4.156668\n",
      "2023-10-23 22:32:26,040 | Train Epoch: 62 [15000/50000 (30%)]\tLoss: 3.617216\n",
      "2023-10-23 22:33:18,992 | Train Epoch: 62 [20000/50000 (40%)]\tLoss: 4.566077\n",
      "2023-10-23 22:34:12,030 | Train Epoch: 62 [25000/50000 (50%)]\tLoss: 4.318643\n",
      "2023-10-23 22:35:04,705 | Train Epoch: 62 [30000/50000 (60%)]\tLoss: 3.304582\n",
      "2023-10-23 22:35:56,787 | Train Epoch: 62 [35000/50000 (70%)]\tLoss: 4.262127\n",
      "2023-10-23 22:36:49,939 | Train Epoch: 62 [40000/50000 (80%)]\tLoss: 4.205600\n",
      "2023-10-23 22:37:42,328 | Train Epoch: 62 [45000/50000 (90%)]\tLoss: 3.750015\n"
     ]
    },
    {
     "name": "stdout",
     "output_type": "stream",
     "text": [
      "================================================================\n"
     ]
    },
    {
     "name": "stderr",
     "output_type": "stream",
     "text": [
      "2023-10-23 22:38:37,907 | Test: Average loss: 0.4561, Accuracy: 8545/10000 (85%),PDG clean accuracy: 103/128 (80.47%), Robust accuracy 68/128 (53.12%)\n"
     ]
    },
    {
     "name": "stdout",
     "output_type": "stream",
     "text": [
      "================================================================\n"
     ]
    },
    {
     "name": "stderr",
     "output_type": "stream",
     "text": [
      "2023-10-23 22:38:38,584 | Train Epoch: 63 [0/50000 (0%)]\tLoss: 3.779013\n",
      "2023-10-23 22:39:31,009 | Train Epoch: 63 [5000/50000 (10%)]\tLoss: 3.387632\n",
      "2023-10-23 22:40:23,752 | Train Epoch: 63 [10000/50000 (20%)]\tLoss: 3.960705\n",
      "2023-10-23 22:41:17,194 | Train Epoch: 63 [15000/50000 (30%)]\tLoss: 4.424898\n",
      "2023-10-23 22:42:10,156 | Train Epoch: 63 [20000/50000 (40%)]\tLoss: 4.660117\n",
      "2023-10-23 22:43:03,138 | Train Epoch: 63 [25000/50000 (50%)]\tLoss: 4.730746\n",
      "2023-10-23 22:43:56,775 | Train Epoch: 63 [30000/50000 (60%)]\tLoss: 4.343538\n",
      "2023-10-23 22:44:49,153 | Train Epoch: 63 [35000/50000 (70%)]\tLoss: 4.311385\n",
      "2023-10-23 22:45:42,578 | Train Epoch: 63 [40000/50000 (80%)]\tLoss: 3.652580\n",
      "2023-10-23 22:46:35,487 | Train Epoch: 63 [45000/50000 (90%)]\tLoss: 3.342020\n"
     ]
    },
    {
     "name": "stdout",
     "output_type": "stream",
     "text": [
      "================================================================\n"
     ]
    },
    {
     "name": "stderr",
     "output_type": "stream",
     "text": [
      "2023-10-23 22:47:31,128 | Test: Average loss: 0.4651, Accuracy: 8523/10000 (85%),PDG clean accuracy: 110/128 (85.94%), Robust accuracy 66/128 (51.56%)\n"
     ]
    },
    {
     "name": "stdout",
     "output_type": "stream",
     "text": [
      "================================================================\n"
     ]
    },
    {
     "name": "stderr",
     "output_type": "stream",
     "text": [
      "2023-10-23 22:47:31,848 | Train Epoch: 64 [0/50000 (0%)]\tLoss: 4.102751\n",
      "2023-10-23 22:48:25,179 | Train Epoch: 64 [5000/50000 (10%)]\tLoss: 3.954660\n",
      "2023-10-23 22:49:18,048 | Train Epoch: 64 [10000/50000 (20%)]\tLoss: 4.527776\n",
      "2023-10-23 22:50:11,631 | Train Epoch: 64 [15000/50000 (30%)]\tLoss: 4.319325\n",
      "2023-10-23 22:51:04,879 | Train Epoch: 64 [20000/50000 (40%)]\tLoss: 4.140991\n",
      "2023-10-23 22:51:57,225 | Train Epoch: 64 [25000/50000 (50%)]\tLoss: 4.334365\n",
      "2023-10-23 22:52:50,675 | Train Epoch: 64 [30000/50000 (60%)]\tLoss: 4.415270\n",
      "2023-10-23 22:53:43,794 | Train Epoch: 64 [35000/50000 (70%)]\tLoss: 3.449968\n",
      "2023-10-23 22:54:36,797 | Train Epoch: 64 [40000/50000 (80%)]\tLoss: 4.081806\n",
      "2023-10-23 22:55:29,861 | Train Epoch: 64 [45000/50000 (90%)]\tLoss: 4.568290\n"
     ]
    },
    {
     "name": "stdout",
     "output_type": "stream",
     "text": [
      "================================================================\n"
     ]
    },
    {
     "name": "stderr",
     "output_type": "stream",
     "text": [
      "2023-10-23 22:56:25,371 | Test: Average loss: 0.4986, Accuracy: 8416/10000 (84%),PDG clean accuracy: 108/128 (84.38%), Robust accuracy 72/128 (56.25%)\n"
     ]
    },
    {
     "name": "stdout",
     "output_type": "stream",
     "text": [
      "================================================================\n"
     ]
    },
    {
     "name": "stderr",
     "output_type": "stream",
     "text": [
      "2023-10-23 22:56:26,048 | Train Epoch: 65 [0/50000 (0%)]\tLoss: 4.733241\n",
      "2023-10-23 22:57:18,934 | Train Epoch: 65 [5000/50000 (10%)]\tLoss: 3.424400\n",
      "2023-10-23 22:58:12,085 | Train Epoch: 65 [10000/50000 (20%)]\tLoss: 3.667052\n",
      "2023-10-23 22:59:05,210 | Train Epoch: 65 [15000/50000 (30%)]\tLoss: 4.204883\n",
      "2023-10-23 22:59:57,657 | Train Epoch: 65 [20000/50000 (40%)]\tLoss: 4.139235\n",
      "2023-10-23 23:00:51,055 | Train Epoch: 65 [25000/50000 (50%)]\tLoss: 3.940296\n",
      "2023-10-23 23:01:44,378 | Train Epoch: 65 [30000/50000 (60%)]\tLoss: 4.813237\n",
      "2023-10-23 23:02:36,903 | Train Epoch: 65 [35000/50000 (70%)]\tLoss: 3.601776\n",
      "2023-10-23 23:03:29,336 | Train Epoch: 65 [40000/50000 (80%)]\tLoss: 3.904058\n",
      "2023-10-23 23:04:23,659 | Train Epoch: 65 [45000/50000 (90%)]\tLoss: 3.693813\n"
     ]
    },
    {
     "name": "stdout",
     "output_type": "stream",
     "text": [
      "================================================================\n"
     ]
    },
    {
     "name": "stderr",
     "output_type": "stream",
     "text": [
      "2023-10-23 23:05:19,240 | Test: Average loss: 0.5092, Accuracy: 8517/10000 (85%),PDG clean accuracy: 112/128 (87.50%), Robust accuracy 73/128 (57.03%)\n"
     ]
    },
    {
     "name": "stdout",
     "output_type": "stream",
     "text": [
      "================================================================\n"
     ]
    },
    {
     "name": "stderr",
     "output_type": "stream",
     "text": [
      "2023-10-23 23:05:19,954 | Train Epoch: 66 [0/50000 (0%)]\tLoss: 4.422095\n",
      "2023-10-23 23:06:12,700 | Train Epoch: 66 [5000/50000 (10%)]\tLoss: 3.931187\n",
      "2023-10-23 23:07:06,272 | Train Epoch: 66 [10000/50000 (20%)]\tLoss: 4.413594\n",
      "2023-10-23 23:07:59,320 | Train Epoch: 66 [15000/50000 (30%)]\tLoss: 3.997775\n",
      "2023-10-23 23:08:52,526 | Train Epoch: 66 [20000/50000 (40%)]\tLoss: 3.674850\n",
      "2023-10-23 23:09:44,907 | Train Epoch: 66 [25000/50000 (50%)]\tLoss: 4.348559\n",
      "2023-10-23 23:10:37,880 | Train Epoch: 66 [30000/50000 (60%)]\tLoss: 4.772209\n",
      "2023-10-23 23:11:30,345 | Train Epoch: 66 [35000/50000 (70%)]\tLoss: 4.699128\n",
      "2023-10-23 23:12:22,712 | Train Epoch: 66 [40000/50000 (80%)]\tLoss: 3.971660\n",
      "2023-10-23 23:13:15,879 | Train Epoch: 66 [45000/50000 (90%)]\tLoss: 4.220007\n"
     ]
    },
    {
     "name": "stdout",
     "output_type": "stream",
     "text": [
      "================================================================\n"
     ]
    },
    {
     "name": "stderr",
     "output_type": "stream",
     "text": [
      "2023-10-23 23:14:11,038 | Test: Average loss: 0.4326, Accuracy: 8613/10000 (86%),PDG clean accuracy: 110/128 (85.94%), Robust accuracy 70/128 (54.69%)\n"
     ]
    },
    {
     "name": "stdout",
     "output_type": "stream",
     "text": [
      "================================================================\n"
     ]
    },
    {
     "name": "stderr",
     "output_type": "stream",
     "text": [
      "2023-10-23 23:14:11,739 | Train Epoch: 67 [0/50000 (0%)]\tLoss: 4.989249\n",
      "2023-10-23 23:15:04,830 | Train Epoch: 67 [5000/50000 (10%)]\tLoss: 3.427342\n",
      "2023-10-23 23:15:58,447 | Train Epoch: 67 [10000/50000 (20%)]\tLoss: 3.146389\n",
      "2023-10-23 23:16:51,663 | Train Epoch: 67 [15000/50000 (30%)]\tLoss: 4.558700\n",
      "2023-10-23 23:17:44,762 | Train Epoch: 67 [20000/50000 (40%)]\tLoss: 4.100233\n",
      "2023-10-23 23:18:38,257 | Train Epoch: 67 [25000/50000 (50%)]\tLoss: 4.754934\n",
      "2023-10-23 23:19:31,486 | Train Epoch: 67 [30000/50000 (60%)]\tLoss: 4.964702\n",
      "2023-10-23 23:20:24,999 | Train Epoch: 67 [35000/50000 (70%)]\tLoss: 4.746102\n",
      "2023-10-23 23:21:17,457 | Train Epoch: 67 [40000/50000 (80%)]\tLoss: 4.604338\n",
      "2023-10-23 23:22:10,998 | Train Epoch: 67 [45000/50000 (90%)]\tLoss: 5.020504\n"
     ]
    },
    {
     "name": "stdout",
     "output_type": "stream",
     "text": [
      "================================================================\n"
     ]
    },
    {
     "name": "stderr",
     "output_type": "stream",
     "text": [
      "2023-10-23 23:23:05,981 | Test: Average loss: 0.4595, Accuracy: 8628/10000 (86%),PDG clean accuracy: 111/128 (86.72%), Robust accuracy 75/128 (58.59%)\n"
     ]
    },
    {
     "name": "stdout",
     "output_type": "stream",
     "text": [
      "================================================================\n"
     ]
    },
    {
     "name": "stderr",
     "output_type": "stream",
     "text": [
      "2023-10-23 23:23:06,666 | Train Epoch: 68 [0/50000 (0%)]\tLoss: 4.543652\n",
      "2023-10-23 23:23:59,315 | Train Epoch: 68 [5000/50000 (10%)]\tLoss: 3.360937\n",
      "2023-10-23 23:24:52,680 | Train Epoch: 68 [10000/50000 (20%)]\tLoss: 4.761518\n",
      "2023-10-23 23:25:45,160 | Train Epoch: 68 [15000/50000 (30%)]\tLoss: 4.690887\n",
      "2023-10-23 23:26:38,382 | Train Epoch: 68 [20000/50000 (40%)]\tLoss: 3.498527\n",
      "2023-10-23 23:27:32,332 | Train Epoch: 68 [25000/50000 (50%)]\tLoss: 3.869688\n",
      "2023-10-23 23:28:23,771 | Train Epoch: 68 [30000/50000 (60%)]\tLoss: 4.380278\n",
      "2023-10-23 23:29:16,643 | Train Epoch: 68 [35000/50000 (70%)]\tLoss: 4.110793\n",
      "2023-10-23 23:30:09,471 | Train Epoch: 68 [40000/50000 (80%)]\tLoss: 4.220634\n",
      "2023-10-23 23:31:03,045 | Train Epoch: 68 [45000/50000 (90%)]\tLoss: 3.916355\n"
     ]
    },
    {
     "name": "stdout",
     "output_type": "stream",
     "text": [
      "================================================================\n"
     ]
    },
    {
     "name": "stderr",
     "output_type": "stream",
     "text": [
      "2023-10-23 23:31:59,023 | Test: Average loss: 0.4916, Accuracy: 8506/10000 (85%),PDG clean accuracy: 110/128 (85.94%), Robust accuracy 69/128 (53.91%)\n"
     ]
    },
    {
     "name": "stdout",
     "output_type": "stream",
     "text": [
      "================================================================\n"
     ]
    },
    {
     "name": "stderr",
     "output_type": "stream",
     "text": [
      "2023-10-23 23:31:59,761 | Train Epoch: 69 [0/50000 (0%)]\tLoss: 4.294410\n",
      "2023-10-23 23:32:53,798 | Train Epoch: 69 [5000/50000 (10%)]\tLoss: 3.560533\n",
      "2023-10-23 23:33:46,460 | Train Epoch: 69 [10000/50000 (20%)]\tLoss: 4.129051\n",
      "2023-10-23 23:34:38,752 | Train Epoch: 69 [15000/50000 (30%)]\tLoss: 3.633969\n",
      "2023-10-23 23:35:31,953 | Train Epoch: 69 [20000/50000 (40%)]\tLoss: 3.457529\n",
      "2023-10-23 23:36:24,739 | Train Epoch: 69 [25000/50000 (50%)]\tLoss: 4.438877\n",
      "2023-10-23 23:37:18,269 | Train Epoch: 69 [30000/50000 (60%)]\tLoss: 4.032870\n",
      "2023-10-23 23:38:11,069 | Train Epoch: 69 [35000/50000 (70%)]\tLoss: 4.392033\n",
      "2023-10-23 23:39:03,904 | Train Epoch: 69 [40000/50000 (80%)]\tLoss: 3.285246\n",
      "2023-10-23 23:39:56,336 | Train Epoch: 69 [45000/50000 (90%)]\tLoss: 4.676103\n"
     ]
    },
    {
     "name": "stdout",
     "output_type": "stream",
     "text": [
      "================================================================\n"
     ]
    },
    {
     "name": "stderr",
     "output_type": "stream",
     "text": [
      "2023-10-23 23:40:52,386 | Test: Average loss: 0.4218, Accuracy: 8687/10000 (87%),PDG clean accuracy: 114/128 (89.06%), Robust accuracy 65/128 (50.78%)\n"
     ]
    },
    {
     "name": "stdout",
     "output_type": "stream",
     "text": [
      "================================================================\n"
     ]
    },
    {
     "name": "stderr",
     "output_type": "stream",
     "text": [
      "2023-10-23 23:40:53,076 | Train Epoch: 70 [0/50000 (0%)]\tLoss: 4.471653\n",
      "2023-10-23 23:41:45,482 | Train Epoch: 70 [5000/50000 (10%)]\tLoss: 3.585690\n",
      "2023-10-23 23:42:38,403 | Train Epoch: 70 [10000/50000 (20%)]\tLoss: 3.717469\n",
      "2023-10-23 23:43:32,261 | Train Epoch: 70 [15000/50000 (30%)]\tLoss: 3.876947\n",
      "2023-10-23 23:44:26,418 | Train Epoch: 70 [20000/50000 (40%)]\tLoss: 4.053755\n",
      "2023-10-23 23:45:19,000 | Train Epoch: 70 [25000/50000 (50%)]\tLoss: 4.789983\n",
      "2023-10-23 23:46:11,929 | Train Epoch: 70 [30000/50000 (60%)]\tLoss: 4.494198\n",
      "2023-10-23 23:47:05,552 | Train Epoch: 70 [35000/50000 (70%)]\tLoss: 3.481776\n",
      "2023-10-23 23:47:58,709 | Train Epoch: 70 [40000/50000 (80%)]\tLoss: 4.344001\n",
      "2023-10-23 23:48:52,231 | Train Epoch: 70 [45000/50000 (90%)]\tLoss: 3.880182\n"
     ]
    },
    {
     "name": "stdout",
     "output_type": "stream",
     "text": [
      "================================================================\n"
     ]
    },
    {
     "name": "stderr",
     "output_type": "stream",
     "text": [
      "2023-10-23 23:50:10,525 | Test: Average loss: 0.4085, Accuracy: 8624/10000 (86%),PDG clean accuracy: 114/128 (89.06%), Robust accuracy 77/128 (60.16%)\n"
     ]
    },
    {
     "name": "stdout",
     "output_type": "stream",
     "text": [
      "================================================================\n"
     ]
    },
    {
     "name": "stderr",
     "output_type": "stream",
     "text": [
      "2023-10-23 23:50:11,258 | Train Epoch: 71 [0/50000 (0%)]\tLoss: 4.117643\n",
      "2023-10-23 23:51:05,556 | Train Epoch: 71 [5000/50000 (10%)]\tLoss: 3.135746\n",
      "2023-10-23 23:51:59,789 | Train Epoch: 71 [10000/50000 (20%)]\tLoss: 4.469215\n",
      "2023-10-23 23:52:52,729 | Train Epoch: 71 [15000/50000 (30%)]\tLoss: 4.408710\n",
      "2023-10-23 23:53:47,335 | Train Epoch: 71 [20000/50000 (40%)]\tLoss: 4.791134\n",
      "2023-10-23 23:54:40,385 | Train Epoch: 71 [25000/50000 (50%)]\tLoss: 3.768045\n",
      "2023-10-23 23:55:32,597 | Train Epoch: 71 [30000/50000 (60%)]\tLoss: 3.928825\n",
      "2023-10-23 23:56:25,678 | Train Epoch: 71 [35000/50000 (70%)]\tLoss: 3.977951\n",
      "2023-10-23 23:57:18,571 | Train Epoch: 71 [40000/50000 (80%)]\tLoss: 3.801896\n",
      "2023-10-23 23:58:12,572 | Train Epoch: 71 [45000/50000 (90%)]\tLoss: 4.004659\n"
     ]
    },
    {
     "name": "stdout",
     "output_type": "stream",
     "text": [
      "================================================================\n"
     ]
    },
    {
     "name": "stderr",
     "output_type": "stream",
     "text": [
      "2023-10-23 23:59:30,362 | Test: Average loss: 0.4210, Accuracy: 8602/10000 (86%),PDG clean accuracy: 112/128 (87.50%), Robust accuracy 75/128 (58.59%)\n"
     ]
    },
    {
     "name": "stdout",
     "output_type": "stream",
     "text": [
      "================================================================\n"
     ]
    },
    {
     "name": "stderr",
     "output_type": "stream",
     "text": [
      "2023-10-23 23:59:31,095 | Train Epoch: 72 [0/50000 (0%)]\tLoss: 3.174886\n",
      "2023-10-24 00:00:24,729 | Train Epoch: 72 [5000/50000 (10%)]\tLoss: 3.459479\n",
      "2023-10-24 00:01:17,609 | Train Epoch: 72 [10000/50000 (20%)]\tLoss: 3.601576\n",
      "2023-10-24 00:02:11,150 | Train Epoch: 72 [15000/50000 (30%)]\tLoss: 4.807688\n",
      "2023-10-24 00:03:04,376 | Train Epoch: 72 [20000/50000 (40%)]\tLoss: 3.717702\n",
      "2023-10-24 00:03:57,585 | Train Epoch: 72 [25000/50000 (50%)]\tLoss: 4.174090\n",
      "2023-10-24 00:04:50,687 | Train Epoch: 72 [30000/50000 (60%)]\tLoss: 3.705927\n",
      "2023-10-24 00:05:43,047 | Train Epoch: 72 [35000/50000 (70%)]\tLoss: 4.061643\n",
      "2023-10-24 00:06:38,621 | Train Epoch: 72 [40000/50000 (80%)]\tLoss: 4.046598\n",
      "2023-10-24 00:07:33,647 | Train Epoch: 72 [45000/50000 (90%)]\tLoss: 4.070917\n"
     ]
    },
    {
     "name": "stdout",
     "output_type": "stream",
     "text": [
      "================================================================\n"
     ]
    },
    {
     "name": "stderr",
     "output_type": "stream",
     "text": [
      "2023-10-24 00:08:49,048 | Test: Average loss: 0.4378, Accuracy: 8589/10000 (86%),PDG clean accuracy: 114/128 (89.06%), Robust accuracy 78/128 (60.94%)\n"
     ]
    },
    {
     "name": "stdout",
     "output_type": "stream",
     "text": [
      "================================================================\n"
     ]
    },
    {
     "name": "stderr",
     "output_type": "stream",
     "text": [
      "2023-10-24 00:08:49,760 | Train Epoch: 73 [0/50000 (0%)]\tLoss: 4.705815\n",
      "2023-10-24 00:09:42,703 | Train Epoch: 73 [5000/50000 (10%)]\tLoss: 4.237262\n",
      "2023-10-24 00:10:34,972 | Train Epoch: 73 [10000/50000 (20%)]\tLoss: 3.855865\n",
      "2023-10-24 00:11:27,971 | Train Epoch: 73 [15000/50000 (30%)]\tLoss: 3.930885\n",
      "2023-10-24 00:12:21,560 | Train Epoch: 73 [20000/50000 (40%)]\tLoss: 4.035019\n",
      "2023-10-24 00:13:14,799 | Train Epoch: 73 [25000/50000 (50%)]\tLoss: 3.973283\n",
      "2023-10-24 00:14:07,547 | Train Epoch: 73 [30000/50000 (60%)]\tLoss: 3.636542\n",
      "2023-10-24 00:14:59,979 | Train Epoch: 73 [35000/50000 (70%)]\tLoss: 4.324142\n",
      "2023-10-24 00:15:52,786 | Train Epoch: 73 [40000/50000 (80%)]\tLoss: 4.523791\n",
      "2023-10-24 00:16:45,995 | Train Epoch: 73 [45000/50000 (90%)]\tLoss: 4.860465\n"
     ]
    },
    {
     "name": "stdout",
     "output_type": "stream",
     "text": [
      "================================================================\n"
     ]
    },
    {
     "name": "stderr",
     "output_type": "stream",
     "text": [
      "2023-10-24 00:18:03,770 | Test: Average loss: 0.4381, Accuracy: 8562/10000 (86%),PDG clean accuracy: 111/128 (86.72%), Robust accuracy 79/128 (61.72%)\n"
     ]
    },
    {
     "name": "stdout",
     "output_type": "stream",
     "text": [
      "================================================================\n"
     ]
    },
    {
     "name": "stderr",
     "output_type": "stream",
     "text": [
      "2023-10-24 00:18:04,484 | Train Epoch: 74 [0/50000 (0%)]\tLoss: 3.745774\n",
      "2023-10-24 00:18:57,085 | Train Epoch: 74 [5000/50000 (10%)]\tLoss: 4.435828\n",
      "2023-10-24 00:19:50,320 | Train Epoch: 74 [10000/50000 (20%)]\tLoss: 4.115315\n",
      "2023-10-24 00:20:44,114 | Train Epoch: 74 [15000/50000 (30%)]\tLoss: 4.660844\n",
      "2023-10-24 00:21:37,370 | Train Epoch: 74 [20000/50000 (40%)]\tLoss: 3.804056\n",
      "2023-10-24 00:22:30,483 | Train Epoch: 74 [25000/50000 (50%)]\tLoss: 3.246113\n",
      "2023-10-24 00:23:24,274 | Train Epoch: 74 [30000/50000 (60%)]\tLoss: 4.039493\n",
      "2023-10-24 00:24:16,883 | Train Epoch: 74 [35000/50000 (70%)]\tLoss: 4.391209\n",
      "2023-10-24 00:25:09,090 | Train Epoch: 74 [40000/50000 (80%)]\tLoss: 4.690106\n",
      "2023-10-24 00:26:03,328 | Train Epoch: 74 [45000/50000 (90%)]\tLoss: 3.518581\n"
     ]
    },
    {
     "name": "stdout",
     "output_type": "stream",
     "text": [
      "================================================================\n"
     ]
    },
    {
     "name": "stderr",
     "output_type": "stream",
     "text": [
      "2023-10-24 00:27:20,958 | Test: Average loss: 0.4110, Accuracy: 8681/10000 (87%),PDG clean accuracy: 115/128 (89.84%), Robust accuracy 74/128 (57.81%)\n"
     ]
    },
    {
     "name": "stdout",
     "output_type": "stream",
     "text": [
      "================================================================\n"
     ]
    },
    {
     "name": "stderr",
     "output_type": "stream",
     "text": [
      "2023-10-24 00:27:21,661 | Train Epoch: 75 [0/50000 (0%)]\tLoss: 4.660454\n",
      "2023-10-24 00:28:14,977 | Train Epoch: 75 [5000/50000 (10%)]\tLoss: 4.209513\n",
      "2023-10-24 00:29:07,994 | Train Epoch: 75 [10000/50000 (20%)]\tLoss: 2.931187\n",
      "2023-10-24 00:30:01,468 | Train Epoch: 75 [15000/50000 (30%)]\tLoss: 3.755976\n",
      "2023-10-24 00:30:54,382 | Train Epoch: 75 [20000/50000 (40%)]\tLoss: 3.862610\n",
      "2023-10-24 00:31:49,153 | Train Epoch: 75 [25000/50000 (50%)]\tLoss: 4.707117\n",
      "2023-10-24 00:32:43,006 | Train Epoch: 75 [30000/50000 (60%)]\tLoss: 4.655123\n",
      "2023-10-24 00:33:36,635 | Train Epoch: 75 [35000/50000 (70%)]\tLoss: 5.194067\n",
      "2023-10-24 00:34:30,114 | Train Epoch: 75 [40000/50000 (80%)]\tLoss: 4.427404\n",
      "2023-10-24 00:35:23,419 | Train Epoch: 75 [45000/50000 (90%)]\tLoss: 4.036777\n"
     ]
    },
    {
     "name": "stdout",
     "output_type": "stream",
     "text": [
      "================================================================\n"
     ]
    },
    {
     "name": "stderr",
     "output_type": "stream",
     "text": [
      "2023-10-24 00:36:40,514 | Test: Average loss: 0.3993, Accuracy: 8690/10000 (87%),PDG clean accuracy: 114/128 (89.06%), Robust accuracy 77/128 (60.16%)\n"
     ]
    },
    {
     "name": "stdout",
     "output_type": "stream",
     "text": [
      "================================================================\n"
     ]
    },
    {
     "name": "stderr",
     "output_type": "stream",
     "text": [
      "2023-10-24 00:36:41,243 | Train Epoch: 76 [0/50000 (0%)]\tLoss: 3.214115\n",
      "2023-10-24 00:37:34,664 | Train Epoch: 76 [5000/50000 (10%)]\tLoss: 3.652285\n",
      "2023-10-24 00:38:27,343 | Train Epoch: 76 [10000/50000 (20%)]\tLoss: 4.119521\n",
      "2023-10-24 00:39:20,379 | Train Epoch: 76 [15000/50000 (30%)]\tLoss: 3.744584\n",
      "2023-10-24 00:40:14,082 | Train Epoch: 76 [20000/50000 (40%)]\tLoss: 4.274126\n",
      "2023-10-24 00:41:07,024 | Train Epoch: 76 [25000/50000 (50%)]\tLoss: 4.992362\n",
      "2023-10-24 00:42:00,234 | Train Epoch: 76 [30000/50000 (60%)]\tLoss: 3.493866\n",
      "2023-10-24 00:42:53,911 | Train Epoch: 76 [35000/50000 (70%)]\tLoss: 3.877477\n",
      "2023-10-24 00:43:47,709 | Train Epoch: 76 [40000/50000 (80%)]\tLoss: 4.469869\n",
      "2023-10-24 00:44:40,895 | Train Epoch: 76 [45000/50000 (90%)]\tLoss: 3.706105\n"
     ]
    },
    {
     "name": "stdout",
     "output_type": "stream",
     "text": [
      "================================================================\n"
     ]
    },
    {
     "name": "stderr",
     "output_type": "stream",
     "text": [
      "2023-10-24 00:45:58,528 | Test: Average loss: 0.4469, Accuracy: 8523/10000 (85%),PDG clean accuracy: 115/128 (89.84%), Robust accuracy 90/128 (70.31%)\n"
     ]
    },
    {
     "name": "stdout",
     "output_type": "stream",
     "text": [
      "================================================================\n"
     ]
    },
    {
     "name": "stderr",
     "output_type": "stream",
     "text": [
      "2023-10-24 00:45:59,224 | Train Epoch: 77 [0/50000 (0%)]\tLoss: 4.499781\n",
      "2023-10-24 00:46:52,250 | Train Epoch: 77 [5000/50000 (10%)]\tLoss: 3.709567\n",
      "2023-10-24 00:47:46,377 | Train Epoch: 77 [10000/50000 (20%)]\tLoss: 3.753228\n",
      "2023-10-24 00:48:40,097 | Train Epoch: 77 [15000/50000 (30%)]\tLoss: 3.890542\n",
      "2023-10-24 00:49:32,956 | Train Epoch: 77 [20000/50000 (40%)]\tLoss: 3.634286\n",
      "2023-10-24 00:50:26,361 | Train Epoch: 77 [25000/50000 (50%)]\tLoss: 4.019439\n",
      "2023-10-24 00:51:19,116 | Train Epoch: 77 [30000/50000 (60%)]\tLoss: 3.379853\n",
      "2023-10-24 00:52:12,158 | Train Epoch: 77 [35000/50000 (70%)]\tLoss: 4.368879\n",
      "2023-10-24 00:53:05,275 | Train Epoch: 77 [40000/50000 (80%)]\tLoss: 4.716461\n",
      "2023-10-24 00:53:59,074 | Train Epoch: 77 [45000/50000 (90%)]\tLoss: 4.451154\n"
     ]
    },
    {
     "name": "stdout",
     "output_type": "stream",
     "text": [
      "================================================================\n"
     ]
    },
    {
     "name": "stderr",
     "output_type": "stream",
     "text": [
      "2023-10-24 00:55:16,399 | Test: Average loss: 0.4256, Accuracy: 8590/10000 (86%),PDG clean accuracy: 111/128 (86.72%), Robust accuracy 79/128 (61.72%)\n"
     ]
    },
    {
     "name": "stdout",
     "output_type": "stream",
     "text": [
      "================================================================\n"
     ]
    },
    {
     "name": "stderr",
     "output_type": "stream",
     "text": [
      "2023-10-24 00:55:17,082 | Train Epoch: 78 [0/50000 (0%)]\tLoss: 4.526142\n",
      "2023-10-24 00:56:10,697 | Train Epoch: 78 [5000/50000 (10%)]\tLoss: 4.603196\n",
      "2023-10-24 00:57:03,466 | Train Epoch: 78 [10000/50000 (20%)]\tLoss: 4.467063\n",
      "2023-10-24 00:57:55,858 | Train Epoch: 78 [15000/50000 (30%)]\tLoss: 4.432773\n",
      "2023-10-24 00:58:48,937 | Train Epoch: 78 [20000/50000 (40%)]\tLoss: 4.028053\n",
      "2023-10-24 00:59:41,341 | Train Epoch: 78 [25000/50000 (50%)]\tLoss: 3.190653\n",
      "2023-10-24 01:00:34,890 | Train Epoch: 78 [30000/50000 (60%)]\tLoss: 3.348503\n",
      "2023-10-24 01:01:28,541 | Train Epoch: 78 [35000/50000 (70%)]\tLoss: 3.799755\n",
      "2023-10-24 01:02:21,772 | Train Epoch: 78 [40000/50000 (80%)]\tLoss: 3.911773\n",
      "2023-10-24 01:03:14,739 | Train Epoch: 78 [45000/50000 (90%)]\tLoss: 4.230088\n"
     ]
    },
    {
     "name": "stdout",
     "output_type": "stream",
     "text": [
      "================================================================\n"
     ]
    },
    {
     "name": "stderr",
     "output_type": "stream",
     "text": [
      "2023-10-24 01:04:32,522 | Test: Average loss: 0.4302, Accuracy: 8578/10000 (86%),PDG clean accuracy: 110/128 (85.94%), Robust accuracy 82/128 (64.06%)\n"
     ]
    },
    {
     "name": "stdout",
     "output_type": "stream",
     "text": [
      "================================================================\n"
     ]
    },
    {
     "name": "stderr",
     "output_type": "stream",
     "text": [
      "2023-10-24 01:04:33,221 | Train Epoch: 79 [0/50000 (0%)]\tLoss: 3.023512\n",
      "2023-10-24 01:05:26,064 | Train Epoch: 79 [5000/50000 (10%)]\tLoss: 4.206196\n",
      "2023-10-24 01:06:19,144 | Train Epoch: 79 [10000/50000 (20%)]\tLoss: 3.150804\n",
      "2023-10-24 01:07:12,891 | Train Epoch: 79 [15000/50000 (30%)]\tLoss: 4.311456\n",
      "2023-10-24 01:08:05,609 | Train Epoch: 79 [20000/50000 (40%)]\tLoss: 3.597407\n",
      "2023-10-24 01:08:58,030 | Train Epoch: 79 [25000/50000 (50%)]\tLoss: 4.828800\n",
      "2023-10-24 01:09:51,344 | Train Epoch: 79 [30000/50000 (60%)]\tLoss: 4.171112\n",
      "2023-10-24 01:10:44,566 | Train Epoch: 79 [35000/50000 (70%)]\tLoss: 4.518619\n",
      "2023-10-24 01:11:37,281 | Train Epoch: 79 [40000/50000 (80%)]\tLoss: 4.473397\n",
      "2023-10-24 01:12:31,072 | Train Epoch: 79 [45000/50000 (90%)]\tLoss: 4.564327\n"
     ]
    },
    {
     "name": "stdout",
     "output_type": "stream",
     "text": [
      "================================================================\n"
     ]
    },
    {
     "name": "stderr",
     "output_type": "stream",
     "text": [
      "2023-10-24 01:13:47,283 | Test: Average loss: 0.4087, Accuracy: 8643/10000 (86%),PDG clean accuracy: 114/128 (89.06%), Robust accuracy 78/128 (60.94%)\n"
     ]
    },
    {
     "name": "stdout",
     "output_type": "stream",
     "text": [
      "================================================================\n"
     ]
    },
    {
     "name": "stderr",
     "output_type": "stream",
     "text": [
      "2023-10-24 01:13:47,977 | Train Epoch: 80 [0/50000 (0%)]\tLoss: 3.695880\n",
      "2023-10-24 01:14:40,350 | Train Epoch: 80 [5000/50000 (10%)]\tLoss: 4.499771\n",
      "2023-10-24 01:15:33,364 | Train Epoch: 80 [10000/50000 (20%)]\tLoss: 3.433774\n",
      "2023-10-24 01:16:26,815 | Train Epoch: 80 [15000/50000 (30%)]\tLoss: 4.192392\n",
      "2023-10-24 01:17:21,050 | Train Epoch: 80 [20000/50000 (40%)]\tLoss: 3.250738\n",
      "2023-10-24 01:18:14,564 | Train Epoch: 80 [25000/50000 (50%)]\tLoss: 4.869474\n",
      "2023-10-24 01:19:06,829 | Train Epoch: 80 [30000/50000 (60%)]\tLoss: 3.548962\n",
      "2023-10-24 01:19:59,730 | Train Epoch: 80 [35000/50000 (70%)]\tLoss: 3.824300\n",
      "2023-10-24 01:20:53,150 | Train Epoch: 80 [40000/50000 (80%)]\tLoss: 4.064544\n",
      "2023-10-24 01:21:45,663 | Train Epoch: 80 [45000/50000 (90%)]\tLoss: 4.526369\n"
     ]
    },
    {
     "name": "stdout",
     "output_type": "stream",
     "text": [
      "================================================================\n"
     ]
    },
    {
     "name": "stderr",
     "output_type": "stream",
     "text": [
      "2023-10-24 01:23:03,603 | Test: Average loss: 0.4176, Accuracy: 8639/10000 (86%),PDG clean accuracy: 109/128 (85.16%), Robust accuracy 72/128 (56.25%)\n"
     ]
    },
    {
     "name": "stdout",
     "output_type": "stream",
     "text": [
      "================================================================\n"
     ]
    },
    {
     "name": "stderr",
     "output_type": "stream",
     "text": [
      "2023-10-24 01:23:04,297 | Train Epoch: 81 [0/50000 (0%)]\tLoss: 4.324696\n",
      "2023-10-24 01:23:58,027 | Train Epoch: 81 [5000/50000 (10%)]\tLoss: 4.427072\n",
      "2023-10-24 01:24:51,009 | Train Epoch: 81 [10000/50000 (20%)]\tLoss: 4.621034\n",
      "2023-10-24 01:25:44,018 | Train Epoch: 81 [15000/50000 (30%)]\tLoss: 4.621618\n",
      "2023-10-24 01:26:37,458 | Train Epoch: 81 [20000/50000 (40%)]\tLoss: 5.061817\n",
      "2023-10-24 01:27:30,521 | Train Epoch: 81 [25000/50000 (50%)]\tLoss: 3.844742\n",
      "2023-10-24 01:28:24,369 | Train Epoch: 81 [30000/50000 (60%)]\tLoss: 3.094432\n",
      "2023-10-24 01:29:17,557 | Train Epoch: 81 [35000/50000 (70%)]\tLoss: 4.696236\n",
      "2023-10-24 01:30:11,360 | Train Epoch: 81 [40000/50000 (80%)]\tLoss: 4.018742\n",
      "2023-10-24 01:31:05,267 | Train Epoch: 81 [45000/50000 (90%)]\tLoss: 3.545923\n"
     ]
    },
    {
     "name": "stdout",
     "output_type": "stream",
     "text": [
      "================================================================\n"
     ]
    },
    {
     "name": "stderr",
     "output_type": "stream",
     "text": [
      "2023-10-24 01:32:22,533 | Test: Average loss: 0.4210, Accuracy: 8591/10000 (86%),PDG clean accuracy: 112/128 (87.50%), Robust accuracy 85/128 (66.41%)\n"
     ]
    },
    {
     "name": "stdout",
     "output_type": "stream",
     "text": [
      "================================================================\n"
     ]
    },
    {
     "name": "stderr",
     "output_type": "stream",
     "text": [
      "2023-10-24 01:32:23,304 | Train Epoch: 82 [0/50000 (0%)]\tLoss: 3.985106\n",
      "2023-10-24 01:33:18,153 | Train Epoch: 82 [5000/50000 (10%)]\tLoss: 4.536825\n",
      "2023-10-24 01:34:13,217 | Train Epoch: 82 [10000/50000 (20%)]\tLoss: 3.469141\n",
      "2023-10-24 01:35:06,862 | Train Epoch: 82 [15000/50000 (30%)]\tLoss: 3.444396\n",
      "2023-10-24 01:36:00,462 | Train Epoch: 82 [20000/50000 (40%)]\tLoss: 3.543651\n",
      "2023-10-24 01:36:54,319 | Train Epoch: 82 [25000/50000 (50%)]\tLoss: 4.399328\n",
      "2023-10-24 01:37:48,051 | Train Epoch: 82 [30000/50000 (60%)]\tLoss: 4.169189\n",
      "2023-10-24 01:38:41,477 | Train Epoch: 82 [35000/50000 (70%)]\tLoss: 4.433005\n",
      "2023-10-24 01:39:34,734 | Train Epoch: 82 [40000/50000 (80%)]\tLoss: 3.722328\n",
      "2023-10-24 01:40:27,701 | Train Epoch: 82 [45000/50000 (90%)]\tLoss: 4.718735\n"
     ]
    },
    {
     "name": "stdout",
     "output_type": "stream",
     "text": [
      "================================================================\n"
     ]
    },
    {
     "name": "stderr",
     "output_type": "stream",
     "text": [
      "2023-10-24 01:41:45,052 | Test: Average loss: 0.4300, Accuracy: 8605/10000 (86%),PDG clean accuracy: 110/128 (85.94%), Robust accuracy 76/128 (59.38%)\n"
     ]
    },
    {
     "name": "stdout",
     "output_type": "stream",
     "text": [
      "================================================================\n"
     ]
    },
    {
     "name": "stderr",
     "output_type": "stream",
     "text": [
      "2023-10-24 01:41:45,763 | Train Epoch: 83 [0/50000 (0%)]\tLoss: 4.741028\n",
      "2023-10-24 01:42:38,516 | Train Epoch: 83 [5000/50000 (10%)]\tLoss: 3.813126\n",
      "2023-10-24 01:43:31,617 | Train Epoch: 83 [10000/50000 (20%)]\tLoss: 3.875704\n",
      "2023-10-24 01:44:25,588 | Train Epoch: 83 [15000/50000 (30%)]\tLoss: 4.562885\n",
      "2023-10-24 01:45:18,465 | Train Epoch: 83 [20000/50000 (40%)]\tLoss: 4.713483\n",
      "2023-10-24 01:46:11,498 | Train Epoch: 83 [25000/50000 (50%)]\tLoss: 4.674400\n",
      "2023-10-24 01:47:04,895 | Train Epoch: 83 [30000/50000 (60%)]\tLoss: 3.732685\n",
      "2023-10-24 01:47:58,249 | Train Epoch: 83 [35000/50000 (70%)]\tLoss: 4.394899\n",
      "2023-10-24 01:48:51,866 | Train Epoch: 83 [40000/50000 (80%)]\tLoss: 3.813791\n",
      "2023-10-24 01:49:46,237 | Train Epoch: 83 [45000/50000 (90%)]\tLoss: 4.137033\n"
     ]
    },
    {
     "name": "stdout",
     "output_type": "stream",
     "text": [
      "================================================================\n"
     ]
    },
    {
     "name": "stderr",
     "output_type": "stream",
     "text": [
      "2023-10-24 01:51:03,492 | Test: Average loss: 0.4168, Accuracy: 8626/10000 (86%),PDG clean accuracy: 113/128 (88.28%), Robust accuracy 78/128 (60.94%)\n"
     ]
    },
    {
     "name": "stdout",
     "output_type": "stream",
     "text": [
      "================================================================\n"
     ]
    },
    {
     "name": "stderr",
     "output_type": "stream",
     "text": [
      "2023-10-24 01:51:04,237 | Train Epoch: 84 [0/50000 (0%)]\tLoss: 4.505705\n",
      "2023-10-24 01:51:58,662 | Train Epoch: 84 [5000/50000 (10%)]\tLoss: 4.452566\n",
      "2023-10-24 01:52:51,776 | Train Epoch: 84 [10000/50000 (20%)]\tLoss: 4.362986\n",
      "2023-10-24 01:53:44,731 | Train Epoch: 84 [15000/50000 (30%)]\tLoss: 4.833950\n",
      "2023-10-24 01:54:38,122 | Train Epoch: 84 [20000/50000 (40%)]\tLoss: 3.601920\n",
      "2023-10-24 01:55:31,234 | Train Epoch: 84 [25000/50000 (50%)]\tLoss: 3.642768\n",
      "2023-10-24 01:56:24,895 | Train Epoch: 84 [30000/50000 (60%)]\tLoss: 4.685294\n",
      "2023-10-24 01:57:18,025 | Train Epoch: 84 [35000/50000 (70%)]\tLoss: 3.581044\n",
      "2023-10-24 01:58:11,299 | Train Epoch: 84 [40000/50000 (80%)]\tLoss: 3.931297\n",
      "2023-10-24 01:59:04,093 | Train Epoch: 84 [45000/50000 (90%)]\tLoss: 3.664641\n"
     ]
    },
    {
     "name": "stdout",
     "output_type": "stream",
     "text": [
      "================================================================\n"
     ]
    },
    {
     "name": "stderr",
     "output_type": "stream",
     "text": [
      "2023-10-24 02:00:22,223 | Test: Average loss: 0.4055, Accuracy: 8664/10000 (87%),PDG clean accuracy: 111/128 (86.72%), Robust accuracy 75/128 (58.59%)\n"
     ]
    },
    {
     "name": "stdout",
     "output_type": "stream",
     "text": [
      "================================================================\n"
     ]
    },
    {
     "name": "stderr",
     "output_type": "stream",
     "text": [
      "2023-10-24 02:00:22,961 | Train Epoch: 85 [0/50000 (0%)]\tLoss: 4.512801\n",
      "2023-10-24 02:01:16,337 | Train Epoch: 85 [5000/50000 (10%)]\tLoss: 3.352683\n",
      "2023-10-24 02:02:09,774 | Train Epoch: 85 [10000/50000 (20%)]\tLoss: 4.345097\n",
      "2023-10-24 02:03:02,740 | Train Epoch: 85 [15000/50000 (30%)]\tLoss: 3.405089\n",
      "2023-10-24 02:03:55,238 | Train Epoch: 85 [20000/50000 (40%)]\tLoss: 3.690579\n",
      "2023-10-24 02:04:48,289 | Train Epoch: 85 [25000/50000 (50%)]\tLoss: 4.551303\n",
      "2023-10-24 02:05:41,223 | Train Epoch: 85 [30000/50000 (60%)]\tLoss: 4.114065\n",
      "2023-10-24 02:06:33,945 | Train Epoch: 85 [35000/50000 (70%)]\tLoss: 3.787263\n",
      "2023-10-24 02:07:27,091 | Train Epoch: 85 [40000/50000 (80%)]\tLoss: 4.799459\n",
      "2023-10-24 02:08:20,706 | Train Epoch: 85 [45000/50000 (90%)]\tLoss: 4.321254\n"
     ]
    },
    {
     "name": "stdout",
     "output_type": "stream",
     "text": [
      "================================================================\n"
     ]
    },
    {
     "name": "stderr",
     "output_type": "stream",
     "text": [
      "2023-10-24 02:09:39,472 | Test: Average loss: 0.4350, Accuracy: 8549/10000 (85%),PDG clean accuracy: 110/128 (85.94%), Robust accuracy 79/128 (61.72%)\n"
     ]
    },
    {
     "name": "stdout",
     "output_type": "stream",
     "text": [
      "================================================================\n"
     ]
    },
    {
     "name": "stderr",
     "output_type": "stream",
     "text": [
      "2023-10-24 02:09:40,171 | Train Epoch: 86 [0/50000 (0%)]\tLoss: 3.660939\n",
      "2023-10-24 02:10:33,641 | Train Epoch: 86 [5000/50000 (10%)]\tLoss: 3.878409\n",
      "2023-10-24 02:11:26,597 | Train Epoch: 86 [10000/50000 (20%)]\tLoss: 3.825226\n",
      "2023-10-24 02:12:20,604 | Train Epoch: 86 [15000/50000 (30%)]\tLoss: 3.978436\n",
      "2023-10-24 02:13:14,558 | Train Epoch: 86 [20000/50000 (40%)]\tLoss: 3.906870\n",
      "2023-10-24 02:14:06,584 | Train Epoch: 86 [25000/50000 (50%)]\tLoss: 3.680562\n",
      "2023-10-24 02:14:59,690 | Train Epoch: 86 [30000/50000 (60%)]\tLoss: 4.660624\n",
      "2023-10-24 02:15:53,262 | Train Epoch: 86 [35000/50000 (70%)]\tLoss: 4.449561\n",
      "2023-10-24 02:16:47,710 | Train Epoch: 86 [40000/50000 (80%)]\tLoss: 4.860889\n",
      "2023-10-24 02:17:41,141 | Train Epoch: 86 [45000/50000 (90%)]\tLoss: 3.585528\n"
     ]
    },
    {
     "name": "stdout",
     "output_type": "stream",
     "text": [
      "================================================================\n"
     ]
    },
    {
     "name": "stderr",
     "output_type": "stream",
     "text": [
      "2023-10-24 02:18:57,046 | Test: Average loss: 0.3953, Accuracy: 8674/10000 (87%),PDG clean accuracy: 112/128 (87.50%), Robust accuracy 77/128 (60.16%)\n"
     ]
    },
    {
     "name": "stdout",
     "output_type": "stream",
     "text": [
      "================================================================\n"
     ]
    },
    {
     "name": "stderr",
     "output_type": "stream",
     "text": [
      "2023-10-24 02:18:57,758 | Train Epoch: 87 [0/50000 (0%)]\tLoss: 4.772969\n",
      "2023-10-24 02:19:49,767 | Train Epoch: 87 [5000/50000 (10%)]\tLoss: 4.225492\n",
      "2023-10-24 02:20:42,628 | Train Epoch: 87 [10000/50000 (20%)]\tLoss: 3.564404\n",
      "2023-10-24 02:21:36,363 | Train Epoch: 87 [15000/50000 (30%)]\tLoss: 4.799687\n",
      "2023-10-24 02:22:29,655 | Train Epoch: 87 [20000/50000 (40%)]\tLoss: 4.669328\n",
      "2023-10-24 02:23:23,129 | Train Epoch: 87 [25000/50000 (50%)]\tLoss: 4.409383\n",
      "2023-10-24 02:24:15,665 | Train Epoch: 87 [30000/50000 (60%)]\tLoss: 3.481743\n",
      "2023-10-24 02:25:08,102 | Train Epoch: 87 [35000/50000 (70%)]\tLoss: 3.844834\n",
      "2023-10-24 02:26:01,669 | Train Epoch: 87 [40000/50000 (80%)]\tLoss: 4.486768\n",
      "2023-10-24 02:26:54,587 | Train Epoch: 87 [45000/50000 (90%)]\tLoss: 3.639991\n"
     ]
    },
    {
     "name": "stdout",
     "output_type": "stream",
     "text": [
      "================================================================\n"
     ]
    },
    {
     "name": "stderr",
     "output_type": "stream",
     "text": [
      "2023-10-24 02:28:11,919 | Test: Average loss: 0.4486, Accuracy: 8504/10000 (85%),PDG clean accuracy: 110/128 (85.94%), Robust accuracy 81/128 (63.28%)\n"
     ]
    },
    {
     "name": "stdout",
     "output_type": "stream",
     "text": [
      "================================================================\n"
     ]
    },
    {
     "name": "stderr",
     "output_type": "stream",
     "text": [
      "2023-10-24 02:28:12,633 | Train Epoch: 88 [0/50000 (0%)]\tLoss: 4.405141\n",
      "2023-10-24 02:29:05,882 | Train Epoch: 88 [5000/50000 (10%)]\tLoss: 4.114351\n",
      "2023-10-24 02:29:58,704 | Train Epoch: 88 [10000/50000 (20%)]\tLoss: 3.202754\n",
      "2023-10-24 02:30:52,202 | Train Epoch: 88 [15000/50000 (30%)]\tLoss: 4.689867\n",
      "2023-10-24 02:31:45,660 | Train Epoch: 88 [20000/50000 (40%)]\tLoss: 4.496838\n",
      "2023-10-24 02:32:38,932 | Train Epoch: 88 [25000/50000 (50%)]\tLoss: 4.488486\n",
      "2023-10-24 02:33:30,274 | Train Epoch: 88 [30000/50000 (60%)]\tLoss: 3.083954\n",
      "2023-10-24 02:34:23,643 | Train Epoch: 88 [35000/50000 (70%)]\tLoss: 3.820529\n",
      "2023-10-24 02:35:17,446 | Train Epoch: 88 [40000/50000 (80%)]\tLoss: 4.171764\n",
      "2023-10-24 02:36:10,779 | Train Epoch: 88 [45000/50000 (90%)]\tLoss: 4.605123\n"
     ]
    },
    {
     "name": "stdout",
     "output_type": "stream",
     "text": [
      "================================================================\n"
     ]
    },
    {
     "name": "stderr",
     "output_type": "stream",
     "text": [
      "2023-10-24 02:37:29,332 | Test: Average loss: 0.4143, Accuracy: 8628/10000 (86%),PDG clean accuracy: 113/128 (88.28%), Robust accuracy 81/128 (63.28%)\n"
     ]
    },
    {
     "name": "stdout",
     "output_type": "stream",
     "text": [
      "================================================================\n"
     ]
    },
    {
     "name": "stderr",
     "output_type": "stream",
     "text": [
      "2023-10-24 02:37:30,062 | Train Epoch: 89 [0/50000 (0%)]\tLoss: 3.327616\n",
      "2023-10-24 02:38:24,428 | Train Epoch: 89 [5000/50000 (10%)]\tLoss: 4.646839\n",
      "2023-10-24 02:39:17,135 | Train Epoch: 89 [10000/50000 (20%)]\tLoss: 4.071482\n",
      "2023-10-24 02:40:10,805 | Train Epoch: 89 [15000/50000 (30%)]\tLoss: 3.868556\n",
      "2023-10-24 02:41:03,461 | Train Epoch: 89 [20000/50000 (40%)]\tLoss: 3.706570\n",
      "2023-10-24 02:41:56,470 | Train Epoch: 89 [25000/50000 (50%)]\tLoss: 4.575142\n",
      "2023-10-24 02:42:50,978 | Train Epoch: 89 [30000/50000 (60%)]\tLoss: 4.437133\n",
      "2023-10-24 02:43:44,098 | Train Epoch: 89 [35000/50000 (70%)]\tLoss: 3.391198\n",
      "2023-10-24 02:44:36,389 | Train Epoch: 89 [40000/50000 (80%)]\tLoss: 4.199406\n",
      "2023-10-24 02:45:30,246 | Train Epoch: 89 [45000/50000 (90%)]\tLoss: 3.995150\n"
     ]
    },
    {
     "name": "stdout",
     "output_type": "stream",
     "text": [
      "================================================================\n"
     ]
    },
    {
     "name": "stderr",
     "output_type": "stream",
     "text": [
      "2023-10-24 02:46:47,949 | Test: Average loss: 0.4242, Accuracy: 8615/10000 (86%),PDG clean accuracy: 109/128 (85.16%), Robust accuracy 78/128 (60.94%)\n"
     ]
    },
    {
     "name": "stdout",
     "output_type": "stream",
     "text": [
      "================================================================\n"
     ]
    },
    {
     "name": "stderr",
     "output_type": "stream",
     "text": [
      "2023-10-24 02:46:48,630 | Train Epoch: 90 [0/50000 (0%)]\tLoss: 4.531866\n",
      "2023-10-24 02:47:41,741 | Train Epoch: 90 [5000/50000 (10%)]\tLoss: 4.334322\n",
      "2023-10-24 02:48:34,452 | Train Epoch: 90 [10000/50000 (20%)]\tLoss: 4.374316\n",
      "2023-10-24 02:49:27,831 | Train Epoch: 90 [15000/50000 (30%)]\tLoss: 3.476163\n",
      "2023-10-24 02:50:20,965 | Train Epoch: 90 [20000/50000 (40%)]\tLoss: 3.414898\n",
      "2023-10-24 02:51:13,482 | Train Epoch: 90 [25000/50000 (50%)]\tLoss: 2.998608\n",
      "2023-10-24 02:52:07,168 | Train Epoch: 90 [30000/50000 (60%)]\tLoss: 3.656614\n",
      "2023-10-24 02:53:00,757 | Train Epoch: 90 [35000/50000 (70%)]\tLoss: 3.929146\n",
      "2023-10-24 02:53:53,479 | Train Epoch: 90 [40000/50000 (80%)]\tLoss: 2.772605\n",
      "2023-10-24 02:54:46,434 | Train Epoch: 90 [45000/50000 (90%)]\tLoss: 3.365081\n"
     ]
    },
    {
     "name": "stdout",
     "output_type": "stream",
     "text": [
      "================================================================\n"
     ]
    },
    {
     "name": "stderr",
     "output_type": "stream",
     "text": [
      "2023-10-24 02:56:03,521 | Test: Average loss: 0.3549, Accuracy: 8816/10000 (88%),PDG clean accuracy: 115/128 (89.84%), Robust accuracy 83/128 (64.84%)\n"
     ]
    },
    {
     "name": "stdout",
     "output_type": "stream",
     "text": [
      "================================================================\n"
     ]
    },
    {
     "name": "stderr",
     "output_type": "stream",
     "text": [
      "2023-10-24 02:56:04,261 | Train Epoch: 91 [0/50000 (0%)]\tLoss: 3.386444\n",
      "2023-10-24 02:56:56,897 | Train Epoch: 91 [5000/50000 (10%)]\tLoss: 4.365465\n",
      "2023-10-24 02:57:50,281 | Train Epoch: 91 [10000/50000 (20%)]\tLoss: 4.343734\n",
      "2023-10-24 02:58:43,545 | Train Epoch: 91 [15000/50000 (30%)]\tLoss: 3.156075\n",
      "2023-10-24 02:59:37,295 | Train Epoch: 91 [20000/50000 (40%)]\tLoss: 4.484450\n",
      "2023-10-24 03:00:30,748 | Train Epoch: 91 [25000/50000 (50%)]\tLoss: 2.887113\n",
      "2023-10-24 03:01:24,078 | Train Epoch: 91 [30000/50000 (60%)]\tLoss: 4.528615\n",
      "2023-10-24 03:02:17,346 | Train Epoch: 91 [35000/50000 (70%)]\tLoss: 3.317892\n",
      "2023-10-24 03:03:10,533 | Train Epoch: 91 [40000/50000 (80%)]\tLoss: 4.179172\n",
      "2023-10-24 03:04:04,468 | Train Epoch: 91 [45000/50000 (90%)]\tLoss: 4.004454\n"
     ]
    },
    {
     "name": "stdout",
     "output_type": "stream",
     "text": [
      "================================================================\n"
     ]
    },
    {
     "name": "stderr",
     "output_type": "stream",
     "text": [
      "2023-10-24 03:05:21,098 | Test: Average loss: 0.3443, Accuracy: 8834/10000 (88%),PDG clean accuracy: 114/128 (89.06%), Robust accuracy 80/128 (62.50%)\n"
     ]
    },
    {
     "name": "stdout",
     "output_type": "stream",
     "text": [
      "================================================================\n"
     ]
    },
    {
     "name": "stderr",
     "output_type": "stream",
     "text": [
      "2023-10-24 03:05:21,797 | Train Epoch: 92 [0/50000 (0%)]\tLoss: 3.760212\n",
      "2023-10-24 03:06:15,581 | Train Epoch: 92 [5000/50000 (10%)]\tLoss: 4.347919\n",
      "2023-10-24 03:07:08,980 | Train Epoch: 92 [10000/50000 (20%)]\tLoss: 4.121077\n",
      "2023-10-24 03:08:02,131 | Train Epoch: 92 [15000/50000 (30%)]\tLoss: 4.462862\n",
      "2023-10-24 03:08:54,602 | Train Epoch: 92 [20000/50000 (40%)]\tLoss: 4.271329\n",
      "2023-10-24 03:09:48,703 | Train Epoch: 92 [25000/50000 (50%)]\tLoss: 4.019983\n",
      "2023-10-24 03:10:41,305 | Train Epoch: 92 [30000/50000 (60%)]\tLoss: 3.436954\n",
      "2023-10-24 03:11:34,311 | Train Epoch: 92 [35000/50000 (70%)]\tLoss: 3.134083\n",
      "2023-10-24 03:12:27,858 | Train Epoch: 92 [40000/50000 (80%)]\tLoss: 2.971269\n",
      "2023-10-24 03:13:21,327 | Train Epoch: 92 [45000/50000 (90%)]\tLoss: 3.912687\n"
     ]
    },
    {
     "name": "stdout",
     "output_type": "stream",
     "text": [
      "================================================================\n"
     ]
    },
    {
     "name": "stderr",
     "output_type": "stream",
     "text": [
      "2023-10-24 03:14:37,978 | Test: Average loss: 0.3367, Accuracy: 8856/10000 (89%),PDG clean accuracy: 114/128 (89.06%), Robust accuracy 83/128 (64.84%)\n"
     ]
    },
    {
     "name": "stdout",
     "output_type": "stream",
     "text": [
      "================================================================\n"
     ]
    },
    {
     "name": "stderr",
     "output_type": "stream",
     "text": [
      "2023-10-24 03:14:38,661 | Train Epoch: 93 [0/50000 (0%)]\tLoss: 3.667271\n",
      "2023-10-24 03:15:32,248 | Train Epoch: 93 [5000/50000 (10%)]\tLoss: 3.855001\n",
      "2023-10-24 03:16:25,651 | Train Epoch: 93 [10000/50000 (20%)]\tLoss: 4.122018\n",
      "2023-10-24 03:17:18,570 | Train Epoch: 93 [15000/50000 (30%)]\tLoss: 4.251753\n",
      "2023-10-24 03:18:11,711 | Train Epoch: 93 [20000/50000 (40%)]\tLoss: 3.466815\n",
      "2023-10-24 03:19:05,063 | Train Epoch: 93 [25000/50000 (50%)]\tLoss: 3.330815\n",
      "2023-10-24 03:19:58,252 | Train Epoch: 93 [30000/50000 (60%)]\tLoss: 2.992278\n",
      "2023-10-24 03:20:51,149 | Train Epoch: 93 [35000/50000 (70%)]\tLoss: 4.014299\n",
      "2023-10-24 03:21:43,910 | Train Epoch: 93 [40000/50000 (80%)]\tLoss: 3.949141\n",
      "2023-10-24 03:22:36,940 | Train Epoch: 93 [45000/50000 (90%)]\tLoss: 3.663099\n"
     ]
    },
    {
     "name": "stdout",
     "output_type": "stream",
     "text": [
      "================================================================\n"
     ]
    },
    {
     "name": "stderr",
     "output_type": "stream",
     "text": [
      "2023-10-24 03:23:54,627 | Test: Average loss: 0.3350, Accuracy: 8868/10000 (89%),PDG clean accuracy: 114/128 (89.06%), Robust accuracy 83/128 (64.84%)\n"
     ]
    },
    {
     "name": "stdout",
     "output_type": "stream",
     "text": [
      "================================================================\n"
     ]
    },
    {
     "name": "stderr",
     "output_type": "stream",
     "text": [
      "2023-10-24 03:23:55,295 | Train Epoch: 94 [0/50000 (0%)]\tLoss: 4.713699\n",
      "2023-10-24 03:24:47,401 | Train Epoch: 94 [5000/50000 (10%)]\tLoss: 4.188092\n",
      "2023-10-24 03:25:40,333 | Train Epoch: 94 [10000/50000 (20%)]\tLoss: 3.373291\n",
      "2023-10-24 03:26:32,891 | Train Epoch: 94 [15000/50000 (30%)]\tLoss: 4.468958\n",
      "2023-10-24 03:27:26,215 | Train Epoch: 94 [20000/50000 (40%)]\tLoss: 2.871109\n",
      "2023-10-24 03:28:19,156 | Train Epoch: 94 [25000/50000 (50%)]\tLoss: 3.316236\n",
      "2023-10-24 03:29:11,633 | Train Epoch: 94 [30000/50000 (60%)]\tLoss: 3.815083\n",
      "2023-10-24 03:30:04,944 | Train Epoch: 94 [35000/50000 (70%)]\tLoss: 4.108648\n",
      "2023-10-24 03:30:58,385 | Train Epoch: 94 [40000/50000 (80%)]\tLoss: 4.077463\n",
      "2023-10-24 03:31:51,559 | Train Epoch: 94 [45000/50000 (90%)]\tLoss: 3.159041\n"
     ]
    },
    {
     "name": "stdout",
     "output_type": "stream",
     "text": [
      "================================================================\n"
     ]
    },
    {
     "name": "stderr",
     "output_type": "stream",
     "text": [
      "2023-10-24 03:33:08,521 | Test: Average loss: 0.3427, Accuracy: 8842/10000 (88%),PDG clean accuracy: 114/128 (89.06%), Robust accuracy 82/128 (64.06%)\n"
     ]
    },
    {
     "name": "stdout",
     "output_type": "stream",
     "text": [
      "================================================================\n"
     ]
    },
    {
     "name": "stderr",
     "output_type": "stream",
     "text": [
      "2023-10-24 03:33:09,238 | Train Epoch: 95 [0/50000 (0%)]\tLoss: 3.872004\n",
      "2023-10-24 03:34:01,846 | Train Epoch: 95 [5000/50000 (10%)]\tLoss: 3.704021\n",
      "2023-10-24 03:34:55,577 | Train Epoch: 95 [10000/50000 (20%)]\tLoss: 3.677652\n",
      "2023-10-24 03:35:49,736 | Train Epoch: 95 [15000/50000 (30%)]\tLoss: 4.336607\n",
      "2023-10-24 03:36:42,889 | Train Epoch: 95 [20000/50000 (40%)]\tLoss: 4.093328\n",
      "2023-10-24 03:37:36,672 | Train Epoch: 95 [25000/50000 (50%)]\tLoss: 4.468083\n",
      "2023-10-24 03:38:29,486 | Train Epoch: 95 [30000/50000 (60%)]\tLoss: 3.176656\n",
      "2023-10-24 03:39:23,119 | Train Epoch: 95 [35000/50000 (70%)]\tLoss: 4.216648\n",
      "2023-10-24 03:40:17,179 | Train Epoch: 95 [40000/50000 (80%)]\tLoss: 4.262586\n",
      "2023-10-24 03:41:09,625 | Train Epoch: 95 [45000/50000 (90%)]\tLoss: 4.309935\n"
     ]
    },
    {
     "name": "stdout",
     "output_type": "stream",
     "text": [
      "================================================================\n"
     ]
    },
    {
     "name": "stderr",
     "output_type": "stream",
     "text": [
      "2023-10-24 03:42:27,298 | Test: Average loss: 0.3304, Accuracy: 8883/10000 (89%),PDG clean accuracy: 113/128 (88.28%), Robust accuracy 83/128 (64.84%)\n"
     ]
    },
    {
     "name": "stdout",
     "output_type": "stream",
     "text": [
      "================================================================\n"
     ]
    },
    {
     "name": "stderr",
     "output_type": "stream",
     "text": [
      "2023-10-24 03:42:27,995 | Train Epoch: 96 [0/50000 (0%)]\tLoss: 4.180274\n",
      "2023-10-24 03:43:20,663 | Train Epoch: 96 [5000/50000 (10%)]\tLoss: 4.158082\n",
      "2023-10-24 03:44:14,243 | Train Epoch: 96 [10000/50000 (20%)]\tLoss: 4.330048\n",
      "2023-10-24 03:45:07,026 | Train Epoch: 96 [15000/50000 (30%)]\tLoss: 4.112398\n",
      "2023-10-24 03:45:59,368 | Train Epoch: 96 [20000/50000 (40%)]\tLoss: 3.923088\n",
      "2023-10-24 03:46:52,363 | Train Epoch: 96 [25000/50000 (50%)]\tLoss: 2.888713\n",
      "2023-10-24 03:47:45,615 | Train Epoch: 96 [30000/50000 (60%)]\tLoss: 3.565742\n",
      "2023-10-24 03:48:38,767 | Train Epoch: 96 [35000/50000 (70%)]\tLoss: 3.940799\n",
      "2023-10-24 03:49:31,943 | Train Epoch: 96 [40000/50000 (80%)]\tLoss: 4.342520\n",
      "2023-10-24 03:50:25,532 | Train Epoch: 96 [45000/50000 (90%)]\tLoss: 3.452947\n"
     ]
    },
    {
     "name": "stdout",
     "output_type": "stream",
     "text": [
      "================================================================\n"
     ]
    },
    {
     "name": "stderr",
     "output_type": "stream",
     "text": [
      "2023-10-24 03:51:42,257 | Test: Average loss: 0.3314, Accuracy: 8893/10000 (89%),PDG clean accuracy: 112/128 (87.50%), Robust accuracy 81/128 (63.28%)\n"
     ]
    },
    {
     "name": "stdout",
     "output_type": "stream",
     "text": [
      "================================================================\n"
     ]
    },
    {
     "name": "stderr",
     "output_type": "stream",
     "text": [
      "2023-10-24 03:51:43,001 | Train Epoch: 97 [0/50000 (0%)]\tLoss: 4.150609\n",
      "2023-10-24 03:52:36,194 | Train Epoch: 97 [5000/50000 (10%)]\tLoss: 3.115530\n",
      "2023-10-24 03:53:28,991 | Train Epoch: 97 [10000/50000 (20%)]\tLoss: 4.627590\n",
      "2023-10-24 03:54:21,957 | Train Epoch: 97 [15000/50000 (30%)]\tLoss: 4.256467\n",
      "2023-10-24 03:55:15,142 | Train Epoch: 97 [20000/50000 (40%)]\tLoss: 4.150801\n",
      "2023-10-24 03:56:07,869 | Train Epoch: 97 [25000/50000 (50%)]\tLoss: 3.284600\n",
      "2023-10-24 03:57:00,227 | Train Epoch: 97 [30000/50000 (60%)]\tLoss: 4.636299\n",
      "2023-10-24 03:57:52,864 | Train Epoch: 97 [35000/50000 (70%)]\tLoss: 4.172873\n",
      "2023-10-24 03:58:46,257 | Train Epoch: 97 [40000/50000 (80%)]\tLoss: 4.069392\n",
      "2023-10-24 03:59:38,321 | Train Epoch: 97 [45000/50000 (90%)]\tLoss: 3.656586\n"
     ]
    },
    {
     "name": "stdout",
     "output_type": "stream",
     "text": [
      "================================================================\n"
     ]
    },
    {
     "name": "stderr",
     "output_type": "stream",
     "text": [
      "2023-10-24 04:00:55,727 | Test: Average loss: 0.3327, Accuracy: 8899/10000 (89%),PDG clean accuracy: 113/128 (88.28%), Robust accuracy 81/128 (63.28%)\n"
     ]
    },
    {
     "name": "stdout",
     "output_type": "stream",
     "text": [
      "================================================================\n"
     ]
    },
    {
     "name": "stderr",
     "output_type": "stream",
     "text": [
      "2023-10-24 04:00:56,419 | Train Epoch: 98 [0/50000 (0%)]\tLoss: 4.493643\n",
      "2023-10-24 04:01:49,762 | Train Epoch: 98 [5000/50000 (10%)]\tLoss: 3.027313\n",
      "2023-10-24 04:02:42,868 | Train Epoch: 98 [10000/50000 (20%)]\tLoss: 3.326012\n",
      "2023-10-24 04:03:36,553 | Train Epoch: 98 [15000/50000 (30%)]\tLoss: 3.303139\n",
      "2023-10-24 04:04:29,832 | Train Epoch: 98 [20000/50000 (40%)]\tLoss: 3.501561\n",
      "2023-10-24 04:05:23,752 | Train Epoch: 98 [25000/50000 (50%)]\tLoss: 2.791190\n",
      "2023-10-24 04:06:16,497 | Train Epoch: 98 [30000/50000 (60%)]\tLoss: 3.008148\n",
      "2023-10-24 04:07:10,598 | Train Epoch: 98 [35000/50000 (70%)]\tLoss: 3.287833\n",
      "2023-10-24 04:08:04,639 | Train Epoch: 98 [40000/50000 (80%)]\tLoss: 4.401502\n",
      "2023-10-24 04:08:57,792 | Train Epoch: 98 [45000/50000 (90%)]\tLoss: 3.919894\n"
     ]
    },
    {
     "name": "stdout",
     "output_type": "stream",
     "text": [
      "================================================================\n"
     ]
    },
    {
     "name": "stderr",
     "output_type": "stream",
     "text": [
      "2023-10-24 04:10:15,036 | Test: Average loss: 0.3192, Accuracy: 8932/10000 (89%),PDG clean accuracy: 116/128 (90.62%), Robust accuracy 82/128 (64.06%)\n"
     ]
    },
    {
     "name": "stdout",
     "output_type": "stream",
     "text": [
      "================================================================\n"
     ]
    },
    {
     "name": "stderr",
     "output_type": "stream",
     "text": [
      "2023-10-24 04:10:15,757 | Train Epoch: 99 [0/50000 (0%)]\tLoss: 3.363961\n",
      "2023-10-24 04:11:10,409 | Train Epoch: 99 [5000/50000 (10%)]\tLoss: 3.164289\n",
      "2023-10-24 04:12:05,289 | Train Epoch: 99 [10000/50000 (20%)]\tLoss: 2.950533\n",
      "2023-10-24 04:12:59,284 | Train Epoch: 99 [15000/50000 (30%)]\tLoss: 4.013292\n",
      "2023-10-24 04:13:52,188 | Train Epoch: 99 [20000/50000 (40%)]\tLoss: 3.779602\n",
      "2023-10-24 04:14:45,449 | Train Epoch: 99 [25000/50000 (50%)]\tLoss: 3.030662\n",
      "2023-10-24 04:15:38,026 | Train Epoch: 99 [30000/50000 (60%)]\tLoss: 4.235270\n",
      "2023-10-24 04:16:30,477 | Train Epoch: 99 [35000/50000 (70%)]\tLoss: 4.165530\n",
      "2023-10-24 04:17:25,100 | Train Epoch: 99 [40000/50000 (80%)]\tLoss: 4.338387\n",
      "2023-10-24 04:18:20,419 | Train Epoch: 99 [45000/50000 (90%)]\tLoss: 3.484626\n"
     ]
    },
    {
     "name": "stdout",
     "output_type": "stream",
     "text": [
      "================================================================\n"
     ]
    },
    {
     "name": "stderr",
     "output_type": "stream",
     "text": [
      "2023-10-24 04:19:39,627 | Test: Average loss: 0.3240, Accuracy: 8921/10000 (89%),PDG clean accuracy: 118/128 (92.19%), Robust accuracy 83/128 (64.84%)\n"
     ]
    },
    {
     "name": "stdout",
     "output_type": "stream",
     "text": [
      "================================================================\n"
     ]
    },
    {
     "name": "stderr",
     "output_type": "stream",
     "text": [
      "2023-10-24 04:19:40,314 | Train Epoch: 100 [0/50000 (0%)]\tLoss: 4.166573\n",
      "2023-10-24 04:20:32,836 | Train Epoch: 100 [5000/50000 (10%)]\tLoss: 3.385508\n",
      "2023-10-24 04:21:26,675 | Train Epoch: 100 [10000/50000 (20%)]\tLoss: 4.023595\n",
      "2023-10-24 04:22:19,980 | Train Epoch: 100 [15000/50000 (30%)]\tLoss: 4.424050\n",
      "2023-10-24 04:23:12,769 | Train Epoch: 100 [20000/50000 (40%)]\tLoss: 3.372483\n",
      "2023-10-24 04:24:06,338 | Train Epoch: 100 [25000/50000 (50%)]\tLoss: 4.086412\n",
      "2023-10-24 04:24:59,229 | Train Epoch: 100 [30000/50000 (60%)]\tLoss: 3.784055\n",
      "2023-10-24 04:25:52,717 | Train Epoch: 100 [35000/50000 (70%)]\tLoss: 4.329907\n",
      "2023-10-24 04:26:45,508 | Train Epoch: 100 [40000/50000 (80%)]\tLoss: 4.071117\n",
      "2023-10-24 04:27:38,704 | Train Epoch: 100 [45000/50000 (90%)]\tLoss: 4.262542\n"
     ]
    },
    {
     "name": "stdout",
     "output_type": "stream",
     "text": [
      "================================================================\n"
     ]
    },
    {
     "name": "stderr",
     "output_type": "stream",
     "text": [
      "2023-10-24 04:28:55,789 | Test: Average loss: 0.3213, Accuracy: 8910/10000 (89%),PDG clean accuracy: 116/128 (90.62%), Robust accuracy 84/128 (65.62%)\n"
     ]
    },
    {
     "name": "stdout",
     "output_type": "stream",
     "text": [
      "================================================================\n"
     ]
    },
    {
     "name": "stderr",
     "output_type": "stream",
     "text": [
      "2023-10-24 04:28:56,543 | Train Epoch: 101 [0/50000 (0%)]\tLoss: 4.011178\n",
      "2023-10-24 04:29:50,183 | Train Epoch: 101 [5000/50000 (10%)]\tLoss: 3.853443\n",
      "2023-10-24 04:30:43,454 | Train Epoch: 101 [10000/50000 (20%)]\tLoss: 4.008740\n",
      "2023-10-24 04:31:36,990 | Train Epoch: 101 [15000/50000 (30%)]\tLoss: 4.421509\n",
      "2023-10-24 04:32:30,605 | Train Epoch: 101 [20000/50000 (40%)]\tLoss: 4.183969\n",
      "2023-10-24 04:33:23,934 | Train Epoch: 101 [25000/50000 (50%)]\tLoss: 3.144583\n",
      "2023-10-24 04:34:16,975 | Train Epoch: 101 [30000/50000 (60%)]\tLoss: 3.015349\n",
      "2023-10-24 04:35:09,747 | Train Epoch: 101 [35000/50000 (70%)]\tLoss: 4.324098\n",
      "2023-10-24 04:36:04,148 | Train Epoch: 101 [40000/50000 (80%)]\tLoss: 3.085976\n",
      "2023-10-24 04:36:57,983 | Train Epoch: 101 [45000/50000 (90%)]\tLoss: 4.217200\n"
     ]
    },
    {
     "name": "stdout",
     "output_type": "stream",
     "text": [
      "================================================================\n"
     ]
    },
    {
     "name": "stderr",
     "output_type": "stream",
     "text": [
      "2023-10-24 04:38:14,633 | Test: Average loss: 0.3174, Accuracy: 8949/10000 (89%),PDG clean accuracy: 116/128 (90.62%), Robust accuracy 83/128 (64.84%)\n"
     ]
    },
    {
     "name": "stdout",
     "output_type": "stream",
     "text": [
      "================================================================\n"
     ]
    },
    {
     "name": "stderr",
     "output_type": "stream",
     "text": [
      "2023-10-24 04:38:15,359 | Train Epoch: 102 [0/50000 (0%)]\tLoss: 3.945951\n",
      "2023-10-24 04:39:08,419 | Train Epoch: 102 [5000/50000 (10%)]\tLoss: 3.312540\n",
      "2023-10-24 04:40:01,004 | Train Epoch: 102 [10000/50000 (20%)]\tLoss: 3.026766\n",
      "2023-10-24 04:40:54,252 | Train Epoch: 102 [15000/50000 (30%)]\tLoss: 4.369404\n",
      "2023-10-24 04:41:46,232 | Train Epoch: 102 [20000/50000 (40%)]\tLoss: 4.138212\n",
      "2023-10-24 04:42:39,223 | Train Epoch: 102 [25000/50000 (50%)]\tLoss: 3.899486\n",
      "2023-10-24 04:43:32,827 | Train Epoch: 102 [30000/50000 (60%)]\tLoss: 3.461220\n",
      "2023-10-24 04:44:27,226 | Train Epoch: 102 [35000/50000 (70%)]\tLoss: 4.048859\n",
      "2023-10-24 04:45:19,909 | Train Epoch: 102 [40000/50000 (80%)]\tLoss: 2.923729\n",
      "2023-10-24 04:46:12,948 | Train Epoch: 102 [45000/50000 (90%)]\tLoss: 4.408624\n"
     ]
    },
    {
     "name": "stdout",
     "output_type": "stream",
     "text": [
      "================================================================\n"
     ]
    },
    {
     "name": "stderr",
     "output_type": "stream",
     "text": [
      "2023-10-24 04:47:31,111 | Test: Average loss: 0.3161, Accuracy: 8954/10000 (90%),PDG clean accuracy: 114/128 (89.06%), Robust accuracy 82/128 (64.06%)\n"
     ]
    },
    {
     "name": "stdout",
     "output_type": "stream",
     "text": [
      "================================================================\n"
     ]
    },
    {
     "name": "stderr",
     "output_type": "stream",
     "text": [
      "2023-10-24 04:47:31,817 | Train Epoch: 103 [0/50000 (0%)]\tLoss: 3.218998\n",
      "2023-10-24 04:48:25,210 | Train Epoch: 103 [5000/50000 (10%)]\tLoss: 3.392770\n",
      "2023-10-24 04:49:17,946 | Train Epoch: 103 [10000/50000 (20%)]\tLoss: 3.411767\n",
      "2023-10-24 04:50:11,312 | Train Epoch: 103 [15000/50000 (30%)]\tLoss: 4.119830\n",
      "2023-10-24 04:51:04,292 | Train Epoch: 103 [20000/50000 (40%)]\tLoss: 4.214594\n",
      "2023-10-24 04:51:57,960 | Train Epoch: 103 [25000/50000 (50%)]\tLoss: 4.065826\n",
      "2023-10-24 04:52:50,703 | Train Epoch: 103 [30000/50000 (60%)]\tLoss: 2.976211\n",
      "2023-10-24 04:53:43,223 | Train Epoch: 103 [35000/50000 (70%)]\tLoss: 3.438870\n",
      "2023-10-24 04:54:36,426 | Train Epoch: 103 [40000/50000 (80%)]\tLoss: 4.289458\n",
      "2023-10-24 04:55:29,499 | Train Epoch: 103 [45000/50000 (90%)]\tLoss: 3.173369\n"
     ]
    },
    {
     "name": "stdout",
     "output_type": "stream",
     "text": [
      "================================================================\n"
     ]
    },
    {
     "name": "stderr",
     "output_type": "stream",
     "text": [
      "2023-10-24 04:56:46,343 | Test: Average loss: 0.3229, Accuracy: 8944/10000 (89%),PDG clean accuracy: 116/128 (90.62%), Robust accuracy 81/128 (63.28%)\n"
     ]
    },
    {
     "name": "stdout",
     "output_type": "stream",
     "text": [
      "================================================================\n"
     ]
    },
    {
     "name": "stderr",
     "output_type": "stream",
     "text": [
      "2023-10-24 04:56:47,029 | Train Epoch: 104 [0/50000 (0%)]\tLoss: 4.026000\n",
      "2023-10-24 04:57:39,340 | Train Epoch: 104 [5000/50000 (10%)]\tLoss: 3.587815\n",
      "2023-10-24 04:58:31,620 | Train Epoch: 104 [10000/50000 (20%)]\tLoss: 3.949342\n",
      "2023-10-24 04:59:24,377 | Train Epoch: 104 [15000/50000 (30%)]\tLoss: 3.205124\n",
      "2023-10-24 05:00:16,989 | Train Epoch: 104 [20000/50000 (40%)]\tLoss: 3.216437\n",
      "2023-10-24 05:01:11,094 | Train Epoch: 104 [25000/50000 (50%)]\tLoss: 3.982445\n",
      "2023-10-24 05:02:03,454 | Train Epoch: 104 [30000/50000 (60%)]\tLoss: 2.774242\n",
      "2023-10-24 05:02:56,164 | Train Epoch: 104 [35000/50000 (70%)]\tLoss: 3.801532\n",
      "2023-10-24 05:03:48,723 | Train Epoch: 104 [40000/50000 (80%)]\tLoss: 4.063987\n",
      "2023-10-24 05:04:41,660 | Train Epoch: 104 [45000/50000 (90%)]\tLoss: 2.720642\n"
     ]
    },
    {
     "name": "stdout",
     "output_type": "stream",
     "text": [
      "================================================================\n"
     ]
    },
    {
     "name": "stderr",
     "output_type": "stream",
     "text": [
      "2023-10-24 05:05:58,498 | Test: Average loss: 0.3103, Accuracy: 8968/10000 (90%),PDG clean accuracy: 114/128 (89.06%), Robust accuracy 76/128 (59.38%)\n"
     ]
    },
    {
     "name": "stdout",
     "output_type": "stream",
     "text": [
      "================================================================\n"
     ]
    },
    {
     "name": "stderr",
     "output_type": "stream",
     "text": [
      "2023-10-24 05:05:59,212 | Train Epoch: 105 [0/50000 (0%)]\tLoss: 4.291404\n",
      "2023-10-24 05:06:52,926 | Train Epoch: 105 [5000/50000 (10%)]\tLoss: 3.768727\n",
      "2023-10-24 05:07:46,299 | Train Epoch: 105 [10000/50000 (20%)]\tLoss: 2.652658\n",
      "2023-10-24 05:08:39,931 | Train Epoch: 105 [15000/50000 (30%)]\tLoss: 4.351429\n",
      "2023-10-24 05:09:33,100 | Train Epoch: 105 [20000/50000 (40%)]\tLoss: 3.516401\n",
      "2023-10-24 05:10:26,474 | Train Epoch: 105 [25000/50000 (50%)]\tLoss: 4.345526\n",
      "2023-10-24 05:11:19,685 | Train Epoch: 105 [30000/50000 (60%)]\tLoss: 3.781089\n",
      "2023-10-24 05:12:12,265 | Train Epoch: 105 [35000/50000 (70%)]\tLoss: 4.200594\n",
      "2023-10-24 05:13:05,697 | Train Epoch: 105 [40000/50000 (80%)]\tLoss: 3.414280\n",
      "2023-10-24 05:13:58,705 | Train Epoch: 105 [45000/50000 (90%)]\tLoss: 4.009334\n"
     ]
    },
    {
     "name": "stdout",
     "output_type": "stream",
     "text": [
      "================================================================\n"
     ]
    },
    {
     "name": "stderr",
     "output_type": "stream",
     "text": [
      "2023-10-24 05:15:15,442 | Test: Average loss: 0.3175, Accuracy: 8954/10000 (90%),PDG clean accuracy: 117/128 (91.41%), Robust accuracy 80/128 (62.50%)\n"
     ]
    },
    {
     "name": "stdout",
     "output_type": "stream",
     "text": [
      "================================================================\n"
     ]
    },
    {
     "name": "stderr",
     "output_type": "stream",
     "text": [
      "2023-10-24 05:15:16,145 | Train Epoch: 106 [0/50000 (0%)]\tLoss: 3.244807\n",
      "2023-10-24 05:16:09,487 | Train Epoch: 106 [5000/50000 (10%)]\tLoss: 3.308287\n",
      "2023-10-24 05:17:03,273 | Train Epoch: 106 [10000/50000 (20%)]\tLoss: 4.191396\n",
      "2023-10-24 05:17:56,180 | Train Epoch: 106 [15000/50000 (30%)]\tLoss: 3.753820\n",
      "2023-10-24 05:18:49,377 | Train Epoch: 106 [20000/50000 (40%)]\tLoss: 3.723576\n",
      "2023-10-24 05:19:43,624 | Train Epoch: 106 [25000/50000 (50%)]\tLoss: 4.158140\n",
      "2023-10-24 05:20:37,019 | Train Epoch: 106 [30000/50000 (60%)]\tLoss: 3.995893\n",
      "2023-10-24 05:21:30,771 | Train Epoch: 106 [35000/50000 (70%)]\tLoss: 3.016723\n",
      "2023-10-24 05:22:24,513 | Train Epoch: 106 [40000/50000 (80%)]\tLoss: 4.148507\n",
      "2023-10-24 05:23:17,059 | Train Epoch: 106 [45000/50000 (90%)]\tLoss: 4.204091\n"
     ]
    },
    {
     "name": "stdout",
     "output_type": "stream",
     "text": [
      "================================================================\n"
     ]
    },
    {
     "name": "stderr",
     "output_type": "stream",
     "text": [
      "2023-10-24 05:24:34,361 | Test: Average loss: 0.3103, Accuracy: 8962/10000 (90%),PDG clean accuracy: 116/128 (90.62%), Robust accuracy 79/128 (61.72%)\n"
     ]
    },
    {
     "name": "stdout",
     "output_type": "stream",
     "text": [
      "================================================================\n"
     ]
    },
    {
     "name": "stderr",
     "output_type": "stream",
     "text": [
      "2023-10-24 05:24:35,067 | Train Epoch: 107 [0/50000 (0%)]\tLoss: 2.986559\n",
      "2023-10-24 05:25:28,395 | Train Epoch: 107 [5000/50000 (10%)]\tLoss: 3.264664\n",
      "2023-10-24 05:26:21,249 | Train Epoch: 107 [10000/50000 (20%)]\tLoss: 2.927786\n",
      "2023-10-24 05:27:14,962 | Train Epoch: 107 [15000/50000 (30%)]\tLoss: 3.220423\n",
      "2023-10-24 05:28:07,718 | Train Epoch: 107 [20000/50000 (40%)]\tLoss: 3.883103\n",
      "2023-10-24 05:29:00,074 | Train Epoch: 107 [25000/50000 (50%)]\tLoss: 3.994105\n",
      "2023-10-24 05:29:52,299 | Train Epoch: 107 [30000/50000 (60%)]\tLoss: 3.314532\n",
      "2023-10-24 05:30:45,352 | Train Epoch: 107 [35000/50000 (70%)]\tLoss: 2.732160\n",
      "2023-10-24 05:31:38,468 | Train Epoch: 107 [40000/50000 (80%)]\tLoss: 2.908465\n",
      "2023-10-24 05:32:31,532 | Train Epoch: 107 [45000/50000 (90%)]\tLoss: 2.553587\n"
     ]
    },
    {
     "name": "stdout",
     "output_type": "stream",
     "text": [
      "================================================================\n"
     ]
    },
    {
     "name": "stderr",
     "output_type": "stream",
     "text": [
      "2023-10-24 05:33:49,277 | Test: Average loss: 0.3169, Accuracy: 8964/10000 (90%),PDG clean accuracy: 116/128 (90.62%), Robust accuracy 82/128 (64.06%)\n"
     ]
    },
    {
     "name": "stdout",
     "output_type": "stream",
     "text": [
      "================================================================\n"
     ]
    },
    {
     "name": "stderr",
     "output_type": "stream",
     "text": [
      "2023-10-24 05:33:49,982 | Train Epoch: 108 [0/50000 (0%)]\tLoss: 4.521569\n",
      "2023-10-24 05:34:43,059 | Train Epoch: 108 [5000/50000 (10%)]\tLoss: 4.273784\n",
      "2023-10-24 05:35:36,293 | Train Epoch: 108 [10000/50000 (20%)]\tLoss: 3.508851\n",
      "2023-10-24 05:36:29,393 | Train Epoch: 108 [15000/50000 (30%)]\tLoss: 4.070363\n",
      "2023-10-24 05:37:22,201 | Train Epoch: 108 [20000/50000 (40%)]\tLoss: 4.532973\n",
      "2023-10-24 05:38:16,016 | Train Epoch: 108 [25000/50000 (50%)]\tLoss: 2.836282\n",
      "2023-10-24 05:39:09,577 | Train Epoch: 108 [30000/50000 (60%)]\tLoss: 2.846051\n",
      "2023-10-24 05:40:02,558 | Train Epoch: 108 [35000/50000 (70%)]\tLoss: 3.937687\n",
      "2023-10-24 05:40:55,091 | Train Epoch: 108 [40000/50000 (80%)]\tLoss: 3.285565\n",
      "2023-10-24 05:41:49,209 | Train Epoch: 108 [45000/50000 (90%)]\tLoss: 3.239402\n"
     ]
    },
    {
     "name": "stdout",
     "output_type": "stream",
     "text": [
      "================================================================\n"
     ]
    },
    {
     "name": "stderr",
     "output_type": "stream",
     "text": [
      "2023-10-24 05:43:07,309 | Test: Average loss: 0.3089, Accuracy: 8975/10000 (90%),PDG clean accuracy: 117/128 (91.41%), Robust accuracy 82/128 (64.06%)\n"
     ]
    },
    {
     "name": "stdout",
     "output_type": "stream",
     "text": [
      "================================================================\n"
     ]
    },
    {
     "name": "stderr",
     "output_type": "stream",
     "text": [
      "2023-10-24 05:43:08,007 | Train Epoch: 109 [0/50000 (0%)]\tLoss: 3.339813\n",
      "2023-10-24 05:44:01,784 | Train Epoch: 109 [5000/50000 (10%)]\tLoss: 3.003177\n",
      "2023-10-24 05:44:54,367 | Train Epoch: 109 [10000/50000 (20%)]\tLoss: 3.981438\n",
      "2023-10-24 05:45:46,754 | Train Epoch: 109 [15000/50000 (30%)]\tLoss: 2.935920\n",
      "2023-10-24 05:46:39,984 | Train Epoch: 109 [20000/50000 (40%)]\tLoss: 3.111362\n",
      "2023-10-24 05:47:33,301 | Train Epoch: 109 [25000/50000 (50%)]\tLoss: 2.840606\n",
      "2023-10-24 05:48:27,151 | Train Epoch: 109 [30000/50000 (60%)]\tLoss: 3.936265\n",
      "2023-10-24 05:49:20,599 | Train Epoch: 109 [35000/50000 (70%)]\tLoss: 3.779166\n",
      "2023-10-24 05:50:15,283 | Train Epoch: 109 [40000/50000 (80%)]\tLoss: 4.361858\n",
      "2023-10-24 05:51:09,091 | Train Epoch: 109 [45000/50000 (90%)]\tLoss: 2.755417\n"
     ]
    },
    {
     "name": "stdout",
     "output_type": "stream",
     "text": [
      "================================================================\n"
     ]
    },
    {
     "name": "stderr",
     "output_type": "stream",
     "text": [
      "2023-10-24 05:52:26,809 | Test: Average loss: 0.3012, Accuracy: 8985/10000 (90%),PDG clean accuracy: 117/128 (91.41%), Robust accuracy 77/128 (60.16%)\n"
     ]
    },
    {
     "name": "stdout",
     "output_type": "stream",
     "text": [
      "================================================================\n"
     ]
    },
    {
     "name": "stderr",
     "output_type": "stream",
     "text": [
      "2023-10-24 05:52:27,529 | Train Epoch: 110 [0/50000 (0%)]\tLoss: 4.342906\n",
      "2023-10-24 05:53:21,060 | Train Epoch: 110 [5000/50000 (10%)]\tLoss: 2.592558\n",
      "2023-10-24 05:54:13,579 | Train Epoch: 110 [10000/50000 (20%)]\tLoss: 4.105268\n",
      "2023-10-24 05:55:06,795 | Train Epoch: 110 [15000/50000 (30%)]\tLoss: 4.009431\n",
      "2023-10-24 05:55:59,790 | Train Epoch: 110 [20000/50000 (40%)]\tLoss: 3.735119\n",
      "2023-10-24 05:56:53,299 | Train Epoch: 110 [25000/50000 (50%)]\tLoss: 4.337570\n",
      "2023-10-24 05:57:46,853 | Train Epoch: 110 [30000/50000 (60%)]\tLoss: 2.798822\n",
      "2023-10-24 05:58:40,127 | Train Epoch: 110 [35000/50000 (70%)]\tLoss: 3.916960\n",
      "2023-10-24 05:59:33,245 | Train Epoch: 110 [40000/50000 (80%)]\tLoss: 4.372814\n",
      "2023-10-24 06:00:27,184 | Train Epoch: 110 [45000/50000 (90%)]\tLoss: 3.666283\n"
     ]
    },
    {
     "name": "stdout",
     "output_type": "stream",
     "text": [
      "================================================================\n"
     ]
    },
    {
     "name": "stderr",
     "output_type": "stream",
     "text": [
      "2023-10-24 06:01:44,970 | Test: Average loss: 0.3066, Accuracy: 8970/10000 (90%),PDG clean accuracy: 117/128 (91.41%), Robust accuracy 80/128 (62.50%)\n"
     ]
    },
    {
     "name": "stdout",
     "output_type": "stream",
     "text": [
      "================================================================\n"
     ]
    },
    {
     "name": "stderr",
     "output_type": "stream",
     "text": [
      "2023-10-24 06:01:45,707 | Train Epoch: 111 [0/50000 (0%)]\tLoss: 3.611558\n",
      "2023-10-24 06:02:38,715 | Train Epoch: 111 [5000/50000 (10%)]\tLoss: 4.324225\n",
      "2023-10-24 06:03:32,730 | Train Epoch: 111 [10000/50000 (20%)]\tLoss: 3.756501\n",
      "2023-10-24 06:04:25,395 | Train Epoch: 111 [15000/50000 (30%)]\tLoss: 3.202167\n",
      "2023-10-24 06:05:17,935 | Train Epoch: 111 [20000/50000 (40%)]\tLoss: 4.020156\n",
      "2023-10-24 06:06:11,266 | Train Epoch: 111 [25000/50000 (50%)]\tLoss: 3.279320\n",
      "2023-10-24 06:07:04,222 | Train Epoch: 111 [30000/50000 (60%)]\tLoss: 4.024569\n",
      "2023-10-24 06:07:57,415 | Train Epoch: 111 [35000/50000 (70%)]\tLoss: 4.014108\n",
      "2023-10-24 06:08:50,456 | Train Epoch: 111 [40000/50000 (80%)]\tLoss: 3.914197\n",
      "2023-10-24 06:09:43,183 | Train Epoch: 111 [45000/50000 (90%)]\tLoss: 3.804392\n"
     ]
    },
    {
     "name": "stdout",
     "output_type": "stream",
     "text": [
      "================================================================\n"
     ]
    },
    {
     "name": "stderr",
     "output_type": "stream",
     "text": [
      "2023-10-24 06:11:00,790 | Test: Average loss: 0.3118, Accuracy: 8956/10000 (90%),PDG clean accuracy: 115/128 (89.84%), Robust accuracy 79/128 (61.72%)\n"
     ]
    },
    {
     "name": "stdout",
     "output_type": "stream",
     "text": [
      "================================================================\n"
     ]
    },
    {
     "name": "stderr",
     "output_type": "stream",
     "text": [
      "2023-10-24 06:11:01,483 | Train Epoch: 112 [0/50000 (0%)]\tLoss: 3.610466\n",
      "2023-10-24 06:11:56,272 | Train Epoch: 112 [5000/50000 (10%)]\tLoss: 3.961927\n",
      "2023-10-24 06:12:49,718 | Train Epoch: 112 [10000/50000 (20%)]\tLoss: 4.014405\n",
      "2023-10-24 06:13:42,491 | Train Epoch: 112 [15000/50000 (30%)]\tLoss: 3.791319\n",
      "2023-10-24 06:14:35,155 | Train Epoch: 112 [20000/50000 (40%)]\tLoss: 3.841325\n",
      "2023-10-24 06:15:28,304 | Train Epoch: 112 [25000/50000 (50%)]\tLoss: 4.335502\n",
      "2023-10-24 06:16:21,047 | Train Epoch: 112 [30000/50000 (60%)]\tLoss: 3.350972\n",
      "2023-10-24 06:17:13,739 | Train Epoch: 112 [35000/50000 (70%)]\tLoss: 3.623540\n",
      "2023-10-24 06:18:07,399 | Train Epoch: 112 [40000/50000 (80%)]\tLoss: 3.696632\n",
      "2023-10-24 06:19:00,857 | Train Epoch: 112 [45000/50000 (90%)]\tLoss: 3.641315\n"
     ]
    },
    {
     "name": "stdout",
     "output_type": "stream",
     "text": [
      "================================================================\n"
     ]
    },
    {
     "name": "stderr",
     "output_type": "stream",
     "text": [
      "2023-10-24 06:20:17,829 | Test: Average loss: 0.3105, Accuracy: 8973/10000 (90%),PDG clean accuracy: 115/128 (89.84%), Robust accuracy 83/128 (64.84%)\n"
     ]
    },
    {
     "name": "stdout",
     "output_type": "stream",
     "text": [
      "================================================================\n"
     ]
    },
    {
     "name": "stderr",
     "output_type": "stream",
     "text": [
      "2023-10-24 06:20:18,556 | Train Epoch: 113 [0/50000 (0%)]\tLoss: 2.634007\n",
      "2023-10-24 06:21:11,915 | Train Epoch: 113 [5000/50000 (10%)]\tLoss: 3.922475\n",
      "2023-10-24 06:22:05,455 | Train Epoch: 113 [10000/50000 (20%)]\tLoss: 3.501544\n",
      "2023-10-24 06:22:58,361 | Train Epoch: 113 [15000/50000 (30%)]\tLoss: 4.069264\n",
      "2023-10-24 06:23:51,123 | Train Epoch: 113 [20000/50000 (40%)]\tLoss: 3.706745\n",
      "2023-10-24 06:24:43,821 | Train Epoch: 113 [25000/50000 (50%)]\tLoss: 3.532627\n",
      "2023-10-24 06:25:37,039 | Train Epoch: 113 [30000/50000 (60%)]\tLoss: 3.881486\n",
      "2023-10-24 06:26:29,918 | Train Epoch: 113 [35000/50000 (70%)]\tLoss: 3.523363\n",
      "2023-10-24 06:27:23,366 | Train Epoch: 113 [40000/50000 (80%)]\tLoss: 4.012412\n",
      "2023-10-24 06:28:16,939 | Train Epoch: 113 [45000/50000 (90%)]\tLoss: 4.251842\n"
     ]
    },
    {
     "name": "stdout",
     "output_type": "stream",
     "text": [
      "================================================================\n"
     ]
    },
    {
     "name": "stderr",
     "output_type": "stream",
     "text": [
      "2023-10-24 06:29:34,830 | Test: Average loss: 0.3129, Accuracy: 8955/10000 (90%),PDG clean accuracy: 115/128 (89.84%), Robust accuracy 78/128 (60.94%)\n"
     ]
    },
    {
     "name": "stdout",
     "output_type": "stream",
     "text": [
      "================================================================\n"
     ]
    },
    {
     "name": "stderr",
     "output_type": "stream",
     "text": [
      "2023-10-24 06:29:35,586 | Train Epoch: 114 [0/50000 (0%)]\tLoss: 3.336138\n",
      "2023-10-24 06:30:28,680 | Train Epoch: 114 [5000/50000 (10%)]\tLoss: 3.828920\n",
      "2023-10-24 06:31:22,196 | Train Epoch: 114 [10000/50000 (20%)]\tLoss: 2.800513\n",
      "2023-10-24 06:32:15,676 | Train Epoch: 114 [15000/50000 (30%)]\tLoss: 4.003757\n",
      "2023-10-24 06:33:08,504 | Train Epoch: 114 [20000/50000 (40%)]\tLoss: 3.204992\n",
      "2023-10-24 06:34:01,664 | Train Epoch: 114 [25000/50000 (50%)]\tLoss: 3.978630\n",
      "2023-10-24 06:34:54,926 | Train Epoch: 114 [30000/50000 (60%)]\tLoss: 3.428303\n",
      "2023-10-24 06:35:46,972 | Train Epoch: 114 [35000/50000 (70%)]\tLoss: 4.090385\n",
      "2023-10-24 06:36:39,967 | Train Epoch: 114 [40000/50000 (80%)]\tLoss: 3.497451\n",
      "2023-10-24 06:37:34,017 | Train Epoch: 114 [45000/50000 (90%)]\tLoss: 2.611427\n"
     ]
    },
    {
     "name": "stdout",
     "output_type": "stream",
     "text": [
      "================================================================\n"
     ]
    },
    {
     "name": "stderr",
     "output_type": "stream",
     "text": [
      "2023-10-24 06:38:53,050 | Test: Average loss: 0.3085, Accuracy: 8964/10000 (90%),PDG clean accuracy: 115/128 (89.84%), Robust accuracy 79/128 (61.72%)\n"
     ]
    },
    {
     "name": "stdout",
     "output_type": "stream",
     "text": [
      "================================================================\n"
     ]
    },
    {
     "name": "stderr",
     "output_type": "stream",
     "text": [
      "2023-10-24 06:38:53,786 | Train Epoch: 115 [0/50000 (0%)]\tLoss: 3.006297\n",
      "2023-10-24 06:39:47,989 | Train Epoch: 115 [5000/50000 (10%)]\tLoss: 3.187789\n",
      "2023-10-24 06:40:41,249 | Train Epoch: 115 [10000/50000 (20%)]\tLoss: 3.708301\n",
      "2023-10-24 06:41:34,271 | Train Epoch: 115 [15000/50000 (30%)]\tLoss: 3.805924\n",
      "2023-10-24 06:42:27,238 | Train Epoch: 115 [20000/50000 (40%)]\tLoss: 4.126661\n",
      "2023-10-24 06:43:20,299 | Train Epoch: 115 [25000/50000 (50%)]\tLoss: 3.347970\n",
      "2023-10-24 06:44:13,171 | Train Epoch: 115 [30000/50000 (60%)]\tLoss: 3.021266\n",
      "2023-10-24 06:45:07,103 | Train Epoch: 115 [35000/50000 (70%)]\tLoss: 3.581412\n",
      "2023-10-24 06:46:00,078 | Train Epoch: 115 [40000/50000 (80%)]\tLoss: 3.433275\n",
      "2023-10-24 06:46:52,685 | Train Epoch: 115 [45000/50000 (90%)]\tLoss: 3.458251\n"
     ]
    },
    {
     "name": "stdout",
     "output_type": "stream",
     "text": [
      "================================================================\n"
     ]
    },
    {
     "name": "stderr",
     "output_type": "stream",
     "text": [
      "2023-10-24 06:48:10,654 | Test: Average loss: 0.3080, Accuracy: 8962/10000 (90%),PDG clean accuracy: 115/128 (89.84%), Robust accuracy 80/128 (62.50%)\n"
     ]
    },
    {
     "name": "stdout",
     "output_type": "stream",
     "text": [
      "================================================================\n"
     ]
    },
    {
     "name": "stderr",
     "output_type": "stream",
     "text": [
      "2023-10-24 06:48:11,365 | Train Epoch: 116 [0/50000 (0%)]\tLoss: 3.127392\n",
      "2023-10-24 06:49:04,834 | Train Epoch: 116 [5000/50000 (10%)]\tLoss: 3.771915\n",
      "2023-10-24 06:49:58,172 | Train Epoch: 116 [10000/50000 (20%)]\tLoss: 4.163167\n",
      "2023-10-24 06:50:52,250 | Train Epoch: 116 [15000/50000 (30%)]\tLoss: 4.156670\n",
      "2023-10-24 06:51:45,260 | Train Epoch: 116 [20000/50000 (40%)]\tLoss: 3.920254\n",
      "2023-10-24 06:52:37,786 | Train Epoch: 116 [25000/50000 (50%)]\tLoss: 3.412998\n",
      "2023-10-24 06:53:31,102 | Train Epoch: 116 [30000/50000 (60%)]\tLoss: 4.175405\n",
      "2023-10-24 06:54:23,806 | Train Epoch: 116 [35000/50000 (70%)]\tLoss: 2.411109\n",
      "2023-10-24 06:55:17,350 | Train Epoch: 116 [40000/50000 (80%)]\tLoss: 4.052652\n",
      "2023-10-24 06:56:10,523 | Train Epoch: 116 [45000/50000 (90%)]\tLoss: 3.343554\n"
     ]
    },
    {
     "name": "stdout",
     "output_type": "stream",
     "text": [
      "================================================================\n"
     ]
    },
    {
     "name": "stderr",
     "output_type": "stream",
     "text": [
      "2023-10-24 06:57:27,921 | Test: Average loss: 0.3145, Accuracy: 8949/10000 (89%),PDG clean accuracy: 115/128 (89.84%), Robust accuracy 81/128 (63.28%)\n"
     ]
    },
    {
     "name": "stdout",
     "output_type": "stream",
     "text": [
      "================================================================\n"
     ]
    },
    {
     "name": "stderr",
     "output_type": "stream",
     "text": [
      "2023-10-24 06:57:28,606 | Train Epoch: 117 [0/50000 (0%)]\tLoss: 4.666819\n",
      "2023-10-24 06:58:21,974 | Train Epoch: 117 [5000/50000 (10%)]\tLoss: 4.132886\n",
      "2023-10-24 06:59:15,492 | Train Epoch: 117 [10000/50000 (20%)]\tLoss: 3.510809\n",
      "2023-10-24 07:00:09,738 | Train Epoch: 117 [15000/50000 (30%)]\tLoss: 4.381426\n",
      "2023-10-24 07:01:02,665 | Train Epoch: 117 [20000/50000 (40%)]\tLoss: 4.270585\n",
      "2023-10-24 07:01:57,755 | Train Epoch: 117 [25000/50000 (50%)]\tLoss: 3.770022\n",
      "2023-10-24 07:02:52,481 | Train Epoch: 117 [30000/50000 (60%)]\tLoss: 2.797316\n",
      "2023-10-24 07:03:45,810 | Train Epoch: 117 [35000/50000 (70%)]\tLoss: 4.407207\n",
      "2023-10-24 07:04:39,024 | Train Epoch: 117 [40000/50000 (80%)]\tLoss: 2.823976\n",
      "2023-10-24 07:05:31,916 | Train Epoch: 117 [45000/50000 (90%)]\tLoss: 2.910264\n"
     ]
    },
    {
     "name": "stdout",
     "output_type": "stream",
     "text": [
      "================================================================\n"
     ]
    },
    {
     "name": "stderr",
     "output_type": "stream",
     "text": [
      "2023-10-24 07:06:49,451 | Test: Average loss: 0.3097, Accuracy: 8959/10000 (90%),PDG clean accuracy: 117/128 (91.41%), Robust accuracy 82/128 (64.06%)\n"
     ]
    },
    {
     "name": "stdout",
     "output_type": "stream",
     "text": [
      "================================================================\n"
     ]
    },
    {
     "name": "stderr",
     "output_type": "stream",
     "text": [
      "2023-10-24 07:06:50,122 | Train Epoch: 118 [0/50000 (0%)]\tLoss: 3.622862\n",
      "2023-10-24 07:07:42,268 | Train Epoch: 118 [5000/50000 (10%)]\tLoss: 3.402355\n",
      "2023-10-24 07:08:35,098 | Train Epoch: 118 [10000/50000 (20%)]\tLoss: 3.923449\n",
      "2023-10-24 07:09:28,773 | Train Epoch: 118 [15000/50000 (30%)]\tLoss: 3.565933\n",
      "2023-10-24 07:10:22,556 | Train Epoch: 118 [20000/50000 (40%)]\tLoss: 3.442636\n",
      "2023-10-24 07:11:15,885 | Train Epoch: 118 [25000/50000 (50%)]\tLoss: 3.806936\n",
      "2023-10-24 07:12:08,800 | Train Epoch: 118 [30000/50000 (60%)]\tLoss: 3.611596\n",
      "2023-10-24 07:13:02,136 | Train Epoch: 118 [35000/50000 (70%)]\tLoss: 3.369221\n",
      "2023-10-24 07:13:55,977 | Train Epoch: 118 [40000/50000 (80%)]\tLoss: 2.653922\n",
      "2023-10-24 07:14:49,516 | Train Epoch: 118 [45000/50000 (90%)]\tLoss: 4.049788\n"
     ]
    },
    {
     "name": "stdout",
     "output_type": "stream",
     "text": [
      "================================================================\n"
     ]
    },
    {
     "name": "stderr",
     "output_type": "stream",
     "text": [
      "2023-10-24 07:16:06,928 | Test: Average loss: 0.3140, Accuracy: 8964/10000 (90%),PDG clean accuracy: 118/128 (92.19%), Robust accuracy 77/128 (60.16%)\n"
     ]
    },
    {
     "name": "stdout",
     "output_type": "stream",
     "text": [
      "================================================================\n"
     ]
    },
    {
     "name": "stderr",
     "output_type": "stream",
     "text": [
      "2023-10-24 07:16:07,683 | Train Epoch: 119 [0/50000 (0%)]\tLoss: 4.191982\n",
      "2023-10-24 07:17:01,154 | Train Epoch: 119 [5000/50000 (10%)]\tLoss: 3.299576\n",
      "2023-10-24 07:17:54,657 | Train Epoch: 119 [10000/50000 (20%)]\tLoss: 3.990146\n",
      "2023-10-24 07:18:47,513 | Train Epoch: 119 [15000/50000 (30%)]\tLoss: 3.959876\n",
      "2023-10-24 07:19:40,801 | Train Epoch: 119 [20000/50000 (40%)]\tLoss: 3.294373\n",
      "2023-10-24 07:20:33,742 | Train Epoch: 119 [25000/50000 (50%)]\tLoss: 4.222420\n",
      "2023-10-24 07:21:26,990 | Train Epoch: 119 [30000/50000 (60%)]\tLoss: 3.800848\n",
      "2023-10-24 07:22:20,204 | Train Epoch: 119 [35000/50000 (70%)]\tLoss: 4.118191\n",
      "2023-10-24 07:23:12,345 | Train Epoch: 119 [40000/50000 (80%)]\tLoss: 4.119870\n",
      "2023-10-24 07:24:05,017 | Train Epoch: 119 [45000/50000 (90%)]\tLoss: 3.504575\n"
     ]
    },
    {
     "name": "stdout",
     "output_type": "stream",
     "text": [
      "================================================================\n"
     ]
    },
    {
     "name": "stderr",
     "output_type": "stream",
     "text": [
      "2023-10-24 07:25:22,111 | Test: Average loss: 0.3147, Accuracy: 8950/10000 (90%),PDG clean accuracy: 115/128 (89.84%), Robust accuracy 79/128 (61.72%)\n"
     ]
    },
    {
     "name": "stdout",
     "output_type": "stream",
     "text": [
      "================================================================\n"
     ]
    },
    {
     "name": "stderr",
     "output_type": "stream",
     "text": [
      "2023-10-24 07:25:22,822 | Train Epoch: 120 [0/50000 (0%)]\tLoss: 3.378100\n",
      "2023-10-24 07:26:15,880 | Train Epoch: 120 [5000/50000 (10%)]\tLoss: 3.093603\n",
      "2023-10-24 07:27:09,037 | Train Epoch: 120 [10000/50000 (20%)]\tLoss: 2.983356\n",
      "2023-10-24 07:28:02,077 | Train Epoch: 120 [15000/50000 (30%)]\tLoss: 4.094058\n",
      "2023-10-24 07:28:56,068 | Train Epoch: 120 [20000/50000 (40%)]\tLoss: 4.351352\n",
      "2023-10-24 07:29:50,024 | Train Epoch: 120 [25000/50000 (50%)]\tLoss: 3.319142\n",
      "2023-10-24 07:30:42,658 | Train Epoch: 120 [30000/50000 (60%)]\tLoss: 3.177287\n",
      "2023-10-24 07:31:34,846 | Train Epoch: 120 [35000/50000 (70%)]\tLoss: 3.692971\n",
      "2023-10-24 07:32:27,530 | Train Epoch: 120 [40000/50000 (80%)]\tLoss: 4.245588\n",
      "2023-10-24 07:33:20,321 | Train Epoch: 120 [45000/50000 (90%)]\tLoss: 4.178322\n"
     ]
    },
    {
     "name": "stdout",
     "output_type": "stream",
     "text": [
      "================================================================\n"
     ]
    },
    {
     "name": "stderr",
     "output_type": "stream",
     "text": [
      "2023-10-24 07:34:37,063 | Test: Average loss: 0.3081, Accuracy: 8976/10000 (90%),PDG clean accuracy: 114/128 (89.06%), Robust accuracy 76/128 (59.38%)\n"
     ]
    },
    {
     "name": "stdout",
     "output_type": "stream",
     "text": [
      "================================================================\n"
     ]
    },
    {
     "name": "stderr",
     "output_type": "stream",
     "text": [
      "2023-10-24 07:34:37,793 | Train Epoch: 121 [0/50000 (0%)]\tLoss: 2.642626\n",
      "2023-10-24 07:35:32,571 | Train Epoch: 121 [5000/50000 (10%)]\tLoss: 3.332794\n",
      "2023-10-24 07:36:26,293 | Train Epoch: 121 [10000/50000 (20%)]\tLoss: 3.243565\n",
      "2023-10-24 07:37:19,294 | Train Epoch: 121 [15000/50000 (30%)]\tLoss: 3.739108\n",
      "2023-10-24 07:38:13,097 | Train Epoch: 121 [20000/50000 (40%)]\tLoss: 3.987296\n",
      "2023-10-24 07:39:06,855 | Train Epoch: 121 [25000/50000 (50%)]\tLoss: 3.230208\n",
      "2023-10-24 07:39:59,132 | Train Epoch: 121 [30000/50000 (60%)]\tLoss: 3.578184\n",
      "2023-10-24 07:40:52,074 | Train Epoch: 121 [35000/50000 (70%)]\tLoss: 3.536715\n",
      "2023-10-24 07:41:45,292 | Train Epoch: 121 [40000/50000 (80%)]\tLoss: 4.413609\n",
      "2023-10-24 07:42:38,835 | Train Epoch: 121 [45000/50000 (90%)]\tLoss: 2.764476\n"
     ]
    },
    {
     "name": "stdout",
     "output_type": "stream",
     "text": [
      "================================================================\n"
     ]
    },
    {
     "name": "stderr",
     "output_type": "stream",
     "text": [
      "2023-10-24 07:43:55,806 | Test: Average loss: 0.3085, Accuracy: 8983/10000 (90%),PDG clean accuracy: 121/128 (94.53%), Robust accuracy 76/128 (59.38%)\n"
     ]
    },
    {
     "name": "stdout",
     "output_type": "stream",
     "text": [
      "================================================================\n"
     ]
    },
    {
     "name": "stderr",
     "output_type": "stream",
     "text": [
      "2023-10-24 07:43:56,511 | Train Epoch: 122 [0/50000 (0%)]\tLoss: 4.396791\n",
      "2023-10-24 07:44:49,788 | Train Epoch: 122 [5000/50000 (10%)]\tLoss: 3.683722\n",
      "2023-10-24 07:45:42,366 | Train Epoch: 122 [10000/50000 (20%)]\tLoss: 2.926328\n",
      "2023-10-24 07:46:35,384 | Train Epoch: 122 [15000/50000 (30%)]\tLoss: 3.983951\n",
      "2023-10-24 07:47:27,796 | Train Epoch: 122 [20000/50000 (40%)]\tLoss: 2.819700\n",
      "2023-10-24 07:48:20,679 | Train Epoch: 122 [25000/50000 (50%)]\tLoss: 2.900403\n",
      "2023-10-24 07:49:14,041 | Train Epoch: 122 [30000/50000 (60%)]\tLoss: 3.207371\n",
      "2023-10-24 07:50:07,316 | Train Epoch: 122 [35000/50000 (70%)]\tLoss: 3.537026\n",
      "2023-10-24 07:51:00,422 | Train Epoch: 122 [40000/50000 (80%)]\tLoss: 4.168374\n",
      "2023-10-24 07:51:53,177 | Train Epoch: 122 [45000/50000 (90%)]\tLoss: 2.812449\n"
     ]
    },
    {
     "name": "stdout",
     "output_type": "stream",
     "text": [
      "================================================================\n"
     ]
    },
    {
     "name": "stderr",
     "output_type": "stream",
     "text": [
      "2023-10-24 07:53:10,209 | Test: Average loss: 0.2955, Accuracy: 9011/10000 (90%),PDG clean accuracy: 117/128 (91.41%), Robust accuracy 78/128 (60.94%)\n"
     ]
    },
    {
     "name": "stdout",
     "output_type": "stream",
     "text": [
      "================================================================\n"
     ]
    },
    {
     "name": "stderr",
     "output_type": "stream",
     "text": [
      "2023-10-24 07:53:10,922 | Train Epoch: 123 [0/50000 (0%)]\tLoss: 2.560329\n",
      "2023-10-24 07:54:04,867 | Train Epoch: 123 [5000/50000 (10%)]\tLoss: 3.874769\n",
      "2023-10-24 07:54:58,508 | Train Epoch: 123 [10000/50000 (20%)]\tLoss: 3.874504\n",
      "2023-10-24 07:55:51,729 | Train Epoch: 123 [15000/50000 (30%)]\tLoss: 3.327888\n",
      "2023-10-24 07:56:44,107 | Train Epoch: 123 [20000/50000 (40%)]\tLoss: 3.842052\n",
      "2023-10-24 07:57:36,505 | Train Epoch: 123 [25000/50000 (50%)]\tLoss: 3.825119\n",
      "2023-10-24 07:58:30,168 | Train Epoch: 123 [30000/50000 (60%)]\tLoss: 3.430259\n",
      "2023-10-24 07:59:23,547 | Train Epoch: 123 [35000/50000 (70%)]\tLoss: 4.019730\n",
      "2023-10-24 08:00:18,224 | Train Epoch: 123 [40000/50000 (80%)]\tLoss: 2.840510\n",
      "2023-10-24 08:01:11,549 | Train Epoch: 123 [45000/50000 (90%)]\tLoss: 4.024705\n"
     ]
    },
    {
     "name": "stdout",
     "output_type": "stream",
     "text": [
      "================================================================\n"
     ]
    },
    {
     "name": "stderr",
     "output_type": "stream",
     "text": [
      "2023-10-24 08:02:27,494 | Test: Average loss: 0.3003, Accuracy: 8985/10000 (90%),PDG clean accuracy: 116/128 (90.62%), Robust accuracy 78/128 (60.94%)\n"
     ]
    },
    {
     "name": "stdout",
     "output_type": "stream",
     "text": [
      "================================================================\n"
     ]
    },
    {
     "name": "stderr",
     "output_type": "stream",
     "text": [
      "2023-10-24 08:02:28,173 | Train Epoch: 124 [0/50000 (0%)]\tLoss: 3.926356\n",
      "2023-10-24 08:03:22,157 | Train Epoch: 124 [5000/50000 (10%)]\tLoss: 4.415592\n",
      "2023-10-24 08:04:16,150 | Train Epoch: 124 [10000/50000 (20%)]\tLoss: 4.287364\n",
      "2023-10-24 08:05:09,481 | Train Epoch: 124 [15000/50000 (30%)]\tLoss: 4.173563\n",
      "2023-10-24 08:06:02,424 | Train Epoch: 124 [20000/50000 (40%)]\tLoss: 4.177434\n",
      "2023-10-24 08:06:55,493 | Train Epoch: 124 [25000/50000 (50%)]\tLoss: 3.708687\n",
      "2023-10-24 08:07:48,333 | Train Epoch: 124 [30000/50000 (60%)]\tLoss: 3.571657\n",
      "2023-10-24 08:08:40,961 | Train Epoch: 124 [35000/50000 (70%)]\tLoss: 3.999625\n",
      "2023-10-24 08:09:34,497 | Train Epoch: 124 [40000/50000 (80%)]\tLoss: 2.905364\n",
      "2023-10-24 08:10:27,772 | Train Epoch: 124 [45000/50000 (90%)]\tLoss: 4.169126\n"
     ]
    },
    {
     "name": "stdout",
     "output_type": "stream",
     "text": [
      "================================================================\n"
     ]
    },
    {
     "name": "stderr",
     "output_type": "stream",
     "text": [
      "2023-10-24 08:11:44,821 | Test: Average loss: 0.3010, Accuracy: 9001/10000 (90%),PDG clean accuracy: 116/128 (90.62%), Robust accuracy 79/128 (61.72%)\n"
     ]
    },
    {
     "name": "stdout",
     "output_type": "stream",
     "text": [
      "================================================================\n"
     ]
    },
    {
     "name": "stderr",
     "output_type": "stream",
     "text": [
      "2023-10-24 08:11:45,529 | Train Epoch: 125 [0/50000 (0%)]\tLoss: 3.158035\n",
      "2023-10-24 08:12:38,926 | Train Epoch: 125 [5000/50000 (10%)]\tLoss: 2.789958\n",
      "2023-10-24 08:13:32,661 | Train Epoch: 125 [10000/50000 (20%)]\tLoss: 3.901159\n",
      "2023-10-24 08:14:25,754 | Train Epoch: 125 [15000/50000 (30%)]\tLoss: 3.312924\n",
      "2023-10-24 08:15:18,736 | Train Epoch: 125 [20000/50000 (40%)]\tLoss: 4.150213\n",
      "2023-10-24 08:16:12,909 | Train Epoch: 125 [25000/50000 (50%)]\tLoss: 4.456205\n",
      "2023-10-24 08:17:06,422 | Train Epoch: 125 [30000/50000 (60%)]\tLoss: 3.543750\n",
      "2023-10-24 08:17:59,733 | Train Epoch: 125 [35000/50000 (70%)]\tLoss: 3.984616\n",
      "2023-10-24 08:18:51,468 | Train Epoch: 125 [40000/50000 (80%)]\tLoss: 3.947529\n",
      "2023-10-24 08:19:44,461 | Train Epoch: 125 [45000/50000 (90%)]\tLoss: 3.018500\n"
     ]
    },
    {
     "name": "stdout",
     "output_type": "stream",
     "text": [
      "================================================================\n"
     ]
    },
    {
     "name": "stderr",
     "output_type": "stream",
     "text": [
      "2023-10-24 08:21:02,164 | Test: Average loss: 0.3017, Accuracy: 8997/10000 (90%),PDG clean accuracy: 117/128 (91.41%), Robust accuracy 78/128 (60.94%)\n"
     ]
    },
    {
     "name": "stdout",
     "output_type": "stream",
     "text": [
      "================================================================\n"
     ]
    },
    {
     "name": "stderr",
     "output_type": "stream",
     "text": [
      "2023-10-24 08:21:02,904 | Train Epoch: 126 [0/50000 (0%)]\tLoss: 4.314866\n",
      "2023-10-24 08:21:55,769 | Train Epoch: 126 [5000/50000 (10%)]\tLoss: 2.837356\n",
      "2023-10-24 08:22:49,169 | Train Epoch: 126 [10000/50000 (20%)]\tLoss: 3.443893\n",
      "2023-10-24 08:23:42,466 | Train Epoch: 126 [15000/50000 (30%)]\tLoss: 2.806785\n",
      "2023-10-24 08:24:36,017 | Train Epoch: 126 [20000/50000 (40%)]\tLoss: 3.266570\n",
      "2023-10-24 08:25:29,249 | Train Epoch: 126 [25000/50000 (50%)]\tLoss: 3.248583\n",
      "2023-10-24 08:26:22,719 | Train Epoch: 126 [30000/50000 (60%)]\tLoss: 3.537278\n",
      "2023-10-24 08:27:16,130 | Train Epoch: 126 [35000/50000 (70%)]\tLoss: 3.848020\n",
      "2023-10-24 08:28:10,894 | Train Epoch: 126 [40000/50000 (80%)]\tLoss: 2.812747\n",
      "2023-10-24 08:29:04,927 | Train Epoch: 126 [45000/50000 (90%)]\tLoss: 4.046614\n"
     ]
    },
    {
     "name": "stdout",
     "output_type": "stream",
     "text": [
      "================================================================\n"
     ]
    },
    {
     "name": "stderr",
     "output_type": "stream",
     "text": [
      "2023-10-24 08:30:20,456 | Test: Average loss: 0.2976, Accuracy: 9012/10000 (90%),PDG clean accuracy: 117/128 (91.41%), Robust accuracy 79/128 (61.72%)\n"
     ]
    },
    {
     "name": "stdout",
     "output_type": "stream",
     "text": [
      "================================================================\n"
     ]
    },
    {
     "name": "stderr",
     "output_type": "stream",
     "text": [
      "2023-10-24 08:30:21,180 | Train Epoch: 127 [0/50000 (0%)]\tLoss: 3.358097\n",
      "2023-10-24 08:31:15,045 | Train Epoch: 127 [5000/50000 (10%)]\tLoss: 3.852084\n",
      "2023-10-24 08:32:08,213 | Train Epoch: 127 [10000/50000 (20%)]\tLoss: 4.018676\n",
      "2023-10-24 08:33:01,131 | Train Epoch: 127 [15000/50000 (30%)]\tLoss: 4.298685\n",
      "2023-10-24 08:33:54,601 | Train Epoch: 127 [20000/50000 (40%)]\tLoss: 2.961315\n",
      "2023-10-24 08:34:47,771 | Train Epoch: 127 [25000/50000 (50%)]\tLoss: 2.713498\n",
      "2023-10-24 08:35:40,636 | Train Epoch: 127 [30000/50000 (60%)]\tLoss: 2.906638\n",
      "2023-10-24 08:36:33,010 | Train Epoch: 127 [35000/50000 (70%)]\tLoss: 4.338730\n",
      "2023-10-24 08:37:25,840 | Train Epoch: 127 [40000/50000 (80%)]\tLoss: 3.236360\n",
      "2023-10-24 08:38:18,343 | Train Epoch: 127 [45000/50000 (90%)]\tLoss: 3.047659\n"
     ]
    },
    {
     "name": "stdout",
     "output_type": "stream",
     "text": [
      "================================================================\n"
     ]
    },
    {
     "name": "stderr",
     "output_type": "stream",
     "text": [
      "2023-10-24 08:39:35,610 | Test: Average loss: 0.3036, Accuracy: 8999/10000 (90%),PDG clean accuracy: 117/128 (91.41%), Robust accuracy 81/128 (63.28%)\n"
     ]
    },
    {
     "name": "stdout",
     "output_type": "stream",
     "text": [
      "================================================================\n"
     ]
    },
    {
     "name": "stderr",
     "output_type": "stream",
     "text": [
      "2023-10-24 08:39:36,284 | Train Epoch: 128 [0/50000 (0%)]\tLoss: 2.942712\n",
      "2023-10-24 08:40:28,539 | Train Epoch: 128 [5000/50000 (10%)]\tLoss: 3.438493\n",
      "2023-10-24 08:41:21,924 | Train Epoch: 128 [10000/50000 (20%)]\tLoss: 3.982549\n",
      "2023-10-24 08:42:15,993 | Train Epoch: 128 [15000/50000 (30%)]\tLoss: 2.791354\n",
      "2023-10-24 08:43:09,669 | Train Epoch: 128 [20000/50000 (40%)]\tLoss: 3.758080\n",
      "2023-10-24 08:44:02,783 | Train Epoch: 128 [25000/50000 (50%)]\tLoss: 4.060130\n",
      "2023-10-24 08:44:55,152 | Train Epoch: 128 [30000/50000 (60%)]\tLoss: 3.667627\n",
      "2023-10-24 08:45:48,004 | Train Epoch: 128 [35000/50000 (70%)]\tLoss: 3.182878\n",
      "2023-10-24 08:46:41,309 | Train Epoch: 128 [40000/50000 (80%)]\tLoss: 3.457363\n",
      "2023-10-24 08:47:34,179 | Train Epoch: 128 [45000/50000 (90%)]\tLoss: 4.121418\n"
     ]
    },
    {
     "name": "stdout",
     "output_type": "stream",
     "text": [
      "================================================================\n"
     ]
    },
    {
     "name": "stderr",
     "output_type": "stream",
     "text": [
      "2023-10-24 08:48:51,787 | Test: Average loss: 0.2987, Accuracy: 9008/10000 (90%),PDG clean accuracy: 117/128 (91.41%), Robust accuracy 74/128 (57.81%)\n"
     ]
    },
    {
     "name": "stdout",
     "output_type": "stream",
     "text": [
      "================================================================\n"
     ]
    },
    {
     "name": "stderr",
     "output_type": "stream",
     "text": [
      "2023-10-24 08:48:52,511 | Train Epoch: 129 [0/50000 (0%)]\tLoss: 3.031731\n",
      "2023-10-24 08:49:47,354 | Train Epoch: 129 [5000/50000 (10%)]\tLoss: 3.112268\n",
      "2023-10-24 08:50:40,315 | Train Epoch: 129 [10000/50000 (20%)]\tLoss: 3.461231\n",
      "2023-10-24 08:51:33,097 | Train Epoch: 129 [15000/50000 (30%)]\tLoss: 3.110893\n",
      "2023-10-24 08:52:25,538 | Train Epoch: 129 [20000/50000 (40%)]\tLoss: 3.675539\n",
      "2023-10-24 08:53:17,835 | Train Epoch: 129 [25000/50000 (50%)]\tLoss: 2.529130\n",
      "2023-10-24 08:54:10,261 | Train Epoch: 129 [30000/50000 (60%)]\tLoss: 2.947660\n",
      "2023-10-24 08:55:02,936 | Train Epoch: 129 [35000/50000 (70%)]\tLoss: 3.960072\n",
      "2023-10-24 08:55:56,990 | Train Epoch: 129 [40000/50000 (80%)]\tLoss: 2.737256\n",
      "2023-10-24 08:56:50,458 | Train Epoch: 129 [45000/50000 (90%)]\tLoss: 3.994294\n"
     ]
    },
    {
     "name": "stdout",
     "output_type": "stream",
     "text": [
      "================================================================\n"
     ]
    },
    {
     "name": "stderr",
     "output_type": "stream",
     "text": [
      "2023-10-24 08:58:07,528 | Test: Average loss: 0.3047, Accuracy: 9006/10000 (90%),PDG clean accuracy: 118/128 (92.19%), Robust accuracy 79/128 (61.72%)\n"
     ]
    },
    {
     "name": "stdout",
     "output_type": "stream",
     "text": [
      "================================================================\n"
     ]
    },
    {
     "name": "stderr",
     "output_type": "stream",
     "text": [
      "2023-10-24 08:58:08,234 | Train Epoch: 130 [0/50000 (0%)]\tLoss: 4.061237\n",
      "2023-10-24 08:59:01,896 | Train Epoch: 130 [5000/50000 (10%)]\tLoss: 4.191827\n",
      "2023-10-24 08:59:54,528 | Train Epoch: 130 [10000/50000 (20%)]\tLoss: 3.674696\n",
      "2023-10-24 09:00:47,357 | Train Epoch: 130 [15000/50000 (30%)]\tLoss: 3.841065\n",
      "2023-10-24 09:01:40,605 | Train Epoch: 130 [20000/50000 (40%)]\tLoss: 3.648394\n",
      "2023-10-24 09:02:33,791 | Train Epoch: 130 [25000/50000 (50%)]\tLoss: 3.707226\n",
      "2023-10-24 09:03:27,026 | Train Epoch: 130 [30000/50000 (60%)]\tLoss: 3.034794\n",
      "2023-10-24 09:04:19,715 | Train Epoch: 130 [35000/50000 (70%)]\tLoss: 2.881176\n",
      "2023-10-24 09:05:12,894 | Train Epoch: 130 [40000/50000 (80%)]\tLoss: 3.812732\n",
      "2023-10-24 09:06:05,959 | Train Epoch: 130 [45000/50000 (90%)]\tLoss: 3.502419\n"
     ]
    },
    {
     "name": "stdout",
     "output_type": "stream",
     "text": [
      "================================================================\n"
     ]
    },
    {
     "name": "stderr",
     "output_type": "stream",
     "text": [
      "2023-10-24 09:07:23,260 | Test: Average loss: 0.2973, Accuracy: 9035/10000 (90%),PDG clean accuracy: 118/128 (92.19%), Robust accuracy 79/128 (61.72%)\n"
     ]
    },
    {
     "name": "stdout",
     "output_type": "stream",
     "text": [
      "================================================================\n"
     ]
    },
    {
     "name": "stderr",
     "output_type": "stream",
     "text": [
      "2023-10-24 09:07:23,983 | Train Epoch: 131 [0/50000 (0%)]\tLoss: 4.534961\n",
      "2023-10-24 09:08:17,776 | Train Epoch: 131 [5000/50000 (10%)]\tLoss: 4.103425\n",
      "2023-10-24 09:09:11,323 | Train Epoch: 131 [10000/50000 (20%)]\tLoss: 3.871243\n",
      "2023-10-24 09:10:04,778 | Train Epoch: 131 [15000/50000 (30%)]\tLoss: 3.221051\n",
      "2023-10-24 09:10:58,035 | Train Epoch: 131 [20000/50000 (40%)]\tLoss: 4.301093\n",
      "2023-10-24 09:11:49,605 | Train Epoch: 131 [25000/50000 (50%)]\tLoss: 2.994339\n",
      "2023-10-24 09:12:42,576 | Train Epoch: 131 [30000/50000 (60%)]\tLoss: 3.110798\n",
      "2023-10-24 09:13:35,449 | Train Epoch: 131 [35000/50000 (70%)]\tLoss: 3.346421\n",
      "2023-10-24 09:14:28,392 | Train Epoch: 131 [40000/50000 (80%)]\tLoss: 3.793021\n",
      "2023-10-24 09:15:20,847 | Train Epoch: 131 [45000/50000 (90%)]\tLoss: 3.079244\n"
     ]
    },
    {
     "name": "stdout",
     "output_type": "stream",
     "text": [
      "================================================================\n"
     ]
    },
    {
     "name": "stderr",
     "output_type": "stream",
     "text": [
      "2023-10-24 09:16:37,771 | Test: Average loss: 0.2966, Accuracy: 9027/10000 (90%),PDG clean accuracy: 118/128 (92.19%), Robust accuracy 81/128 (63.28%)\n"
     ]
    },
    {
     "name": "stdout",
     "output_type": "stream",
     "text": [
      "================================================================\n"
     ]
    },
    {
     "name": "stderr",
     "output_type": "stream",
     "text": [
      "2023-10-24 09:16:38,482 | Train Epoch: 132 [0/50000 (0%)]\tLoss: 2.979557\n",
      "2023-10-24 09:17:30,780 | Train Epoch: 132 [5000/50000 (10%)]\tLoss: 2.899101\n",
      "2023-10-24 09:18:22,389 | Train Epoch: 132 [10000/50000 (20%)]\tLoss: 4.085274\n",
      "2023-10-24 09:19:15,796 | Train Epoch: 132 [15000/50000 (30%)]\tLoss: 2.414395\n",
      "2023-10-24 09:20:08,920 | Train Epoch: 132 [20000/50000 (40%)]\tLoss: 3.636689\n",
      "2023-10-24 09:21:02,445 | Train Epoch: 132 [25000/50000 (50%)]\tLoss: 3.669201\n",
      "2023-10-24 09:21:55,745 | Train Epoch: 132 [30000/50000 (60%)]\tLoss: 4.512228\n",
      "2023-10-24 09:22:48,899 | Train Epoch: 132 [35000/50000 (70%)]\tLoss: 3.664548\n",
      "2023-10-24 09:23:42,395 | Train Epoch: 132 [40000/50000 (80%)]\tLoss: 3.645805\n",
      "2023-10-24 09:24:35,614 | Train Epoch: 132 [45000/50000 (90%)]\tLoss: 3.270032\n"
     ]
    },
    {
     "name": "stdout",
     "output_type": "stream",
     "text": [
      "================================================================\n"
     ]
    },
    {
     "name": "stderr",
     "output_type": "stream",
     "text": [
      "2023-10-24 09:25:53,474 | Test: Average loss: 0.2943, Accuracy: 9030/10000 (90%),PDG clean accuracy: 118/128 (92.19%), Robust accuracy 81/128 (63.28%)\n"
     ]
    },
    {
     "name": "stdout",
     "output_type": "stream",
     "text": [
      "================================================================\n"
     ]
    },
    {
     "name": "stderr",
     "output_type": "stream",
     "text": [
      "2023-10-24 09:25:54,206 | Train Epoch: 133 [0/50000 (0%)]\tLoss: 3.630986\n",
      "2023-10-24 09:26:47,296 | Train Epoch: 133 [5000/50000 (10%)]\tLoss: 2.423268\n",
      "2023-10-24 09:27:39,957 | Train Epoch: 133 [10000/50000 (20%)]\tLoss: 2.502802\n",
      "2023-10-24 09:28:33,421 | Train Epoch: 133 [15000/50000 (30%)]\tLoss: 2.527020\n",
      "2023-10-24 09:29:26,957 | Train Epoch: 133 [20000/50000 (40%)]\tLoss: 2.960616\n",
      "2023-10-24 09:30:19,942 | Train Epoch: 133 [25000/50000 (50%)]\tLoss: 4.055504\n",
      "2023-10-24 09:31:14,273 | Train Epoch: 133 [30000/50000 (60%)]\tLoss: 4.275846\n",
      "2023-10-24 09:32:08,126 | Train Epoch: 133 [35000/50000 (70%)]\tLoss: 3.831094\n",
      "2023-10-24 09:33:02,182 | Train Epoch: 133 [40000/50000 (80%)]\tLoss: 4.142729\n",
      "2023-10-24 09:33:55,666 | Train Epoch: 133 [45000/50000 (90%)]\tLoss: 3.886125\n"
     ]
    },
    {
     "name": "stdout",
     "output_type": "stream",
     "text": [
      "================================================================\n"
     ]
    },
    {
     "name": "stderr",
     "output_type": "stream",
     "text": [
      "2023-10-24 09:35:14,907 | Test: Average loss: 0.2942, Accuracy: 9028/10000 (90%),PDG clean accuracy: 118/128 (92.19%), Robust accuracy 81/128 (63.28%)\n"
     ]
    },
    {
     "name": "stdout",
     "output_type": "stream",
     "text": [
      "================================================================\n"
     ]
    },
    {
     "name": "stderr",
     "output_type": "stream",
     "text": [
      "2023-10-24 09:35:15,623 | Train Epoch: 134 [0/50000 (0%)]\tLoss: 4.078172\n",
      "2023-10-24 09:36:09,071 | Train Epoch: 134 [5000/50000 (10%)]\tLoss: 2.962922\n",
      "2023-10-24 09:37:02,152 | Train Epoch: 134 [10000/50000 (20%)]\tLoss: 3.148000\n",
      "2023-10-24 09:37:55,896 | Train Epoch: 134 [15000/50000 (30%)]\tLoss: 4.384891\n",
      "2023-10-24 09:38:48,911 | Train Epoch: 134 [20000/50000 (40%)]\tLoss: 3.611094\n",
      "2023-10-24 09:39:42,157 | Train Epoch: 134 [25000/50000 (50%)]\tLoss: 3.345792\n",
      "2023-10-24 09:40:34,750 | Train Epoch: 134 [30000/50000 (60%)]\tLoss: 2.635183\n",
      "2023-10-24 09:41:26,963 | Train Epoch: 134 [35000/50000 (70%)]\tLoss: 2.907032\n",
      "2023-10-24 09:42:19,782 | Train Epoch: 134 [40000/50000 (80%)]\tLoss: 4.222755\n",
      "2023-10-24 09:43:12,733 | Train Epoch: 134 [45000/50000 (90%)]\tLoss: 3.888356\n"
     ]
    },
    {
     "name": "stdout",
     "output_type": "stream",
     "text": [
      "================================================================\n"
     ]
    },
    {
     "name": "stderr",
     "output_type": "stream",
     "text": [
      "2023-10-24 09:44:30,165 | Test: Average loss: 0.2939, Accuracy: 9030/10000 (90%),PDG clean accuracy: 118/128 (92.19%), Robust accuracy 81/128 (63.28%)\n"
     ]
    },
    {
     "name": "stdout",
     "output_type": "stream",
     "text": [
      "================================================================\n"
     ]
    },
    {
     "name": "stderr",
     "output_type": "stream",
     "text": [
      "2023-10-24 09:44:30,893 | Train Epoch: 135 [0/50000 (0%)]\tLoss: 4.316160\n",
      "2023-10-24 09:45:24,645 | Train Epoch: 135 [5000/50000 (10%)]\tLoss: 2.717206\n",
      "2023-10-24 09:46:18,262 | Train Epoch: 135 [10000/50000 (20%)]\tLoss: 2.946690\n",
      "2023-10-24 09:47:11,381 | Train Epoch: 135 [15000/50000 (30%)]\tLoss: 3.888832\n",
      "2023-10-24 09:48:05,058 | Train Epoch: 135 [20000/50000 (40%)]\tLoss: 4.194013\n",
      "2023-10-24 09:48:58,910 | Train Epoch: 135 [25000/50000 (50%)]\tLoss: 4.008893\n",
      "2023-10-24 09:49:51,874 | Train Epoch: 135 [30000/50000 (60%)]\tLoss: 3.815215\n",
      "2023-10-24 09:50:44,811 | Train Epoch: 135 [35000/50000 (70%)]\tLoss: 4.034916\n",
      "2023-10-24 09:51:37,913 | Train Epoch: 135 [40000/50000 (80%)]\tLoss: 3.271636\n",
      "2023-10-24 09:52:31,993 | Train Epoch: 135 [45000/50000 (90%)]\tLoss: 3.621241\n"
     ]
    },
    {
     "name": "stdout",
     "output_type": "stream",
     "text": [
      "================================================================\n"
     ]
    },
    {
     "name": "stderr",
     "output_type": "stream",
     "text": [
      "2023-10-24 09:53:48,855 | Test: Average loss: 0.2939, Accuracy: 9030/10000 (90%),PDG clean accuracy: 118/128 (92.19%), Robust accuracy 81/128 (63.28%)\n"
     ]
    },
    {
     "name": "stdout",
     "output_type": "stream",
     "text": [
      "================================================================\n"
     ]
    },
    {
     "name": "stderr",
     "output_type": "stream",
     "text": [
      "2023-10-24 09:53:49,564 | Train Epoch: 136 [0/50000 (0%)]\tLoss: 3.681902\n",
      "2023-10-24 09:54:42,595 | Train Epoch: 136 [5000/50000 (10%)]\tLoss: 3.811156\n",
      "2023-10-24 09:55:35,793 | Train Epoch: 136 [10000/50000 (20%)]\tLoss: 3.009561\n",
      "2023-10-24 09:56:28,561 | Train Epoch: 136 [15000/50000 (30%)]\tLoss: 3.120551\n",
      "2023-10-24 09:57:21,891 | Train Epoch: 136 [20000/50000 (40%)]\tLoss: 3.942463\n",
      "2023-10-24 09:58:15,009 | Train Epoch: 136 [25000/50000 (50%)]\tLoss: 4.306976\n",
      "2023-10-24 09:59:07,215 | Train Epoch: 136 [30000/50000 (60%)]\tLoss: 3.894018\n",
      "2023-10-24 09:59:59,769 | Train Epoch: 136 [35000/50000 (70%)]\tLoss: 4.098145\n",
      "2023-10-24 10:00:52,855 | Train Epoch: 136 [40000/50000 (80%)]\tLoss: 2.694022\n",
      "2023-10-24 10:01:45,435 | Train Epoch: 136 [45000/50000 (90%)]\tLoss: 3.388809\n"
     ]
    },
    {
     "name": "stdout",
     "output_type": "stream",
     "text": [
      "================================================================\n"
     ]
    },
    {
     "name": "stderr",
     "output_type": "stream",
     "text": [
      "2023-10-24 10:03:03,775 | Test: Average loss: 0.2920, Accuracy: 9037/10000 (90%),PDG clean accuracy: 118/128 (92.19%), Robust accuracy 81/128 (63.28%)\n"
     ]
    },
    {
     "name": "stdout",
     "output_type": "stream",
     "text": [
      "================================================================\n"
     ]
    },
    {
     "name": "stderr",
     "output_type": "stream",
     "text": [
      "2023-10-24 10:03:04,472 | Train Epoch: 137 [0/50000 (0%)]\tLoss: 3.889347\n",
      "2023-10-24 10:03:57,654 | Train Epoch: 137 [5000/50000 (10%)]\tLoss: 3.638767\n",
      "2023-10-24 10:04:51,179 | Train Epoch: 137 [10000/50000 (20%)]\tLoss: 4.533343\n",
      "2023-10-24 10:05:44,923 | Train Epoch: 137 [15000/50000 (30%)]\tLoss: 3.790360\n",
      "2023-10-24 10:06:37,426 | Train Epoch: 137 [20000/50000 (40%)]\tLoss: 3.532207\n",
      "2023-10-24 10:07:30,011 | Train Epoch: 137 [25000/50000 (50%)]\tLoss: 3.644137\n",
      "2023-10-24 10:08:23,014 | Train Epoch: 137 [30000/50000 (60%)]\tLoss: 2.753061\n",
      "2023-10-24 10:09:15,794 | Train Epoch: 137 [35000/50000 (70%)]\tLoss: 3.515149\n",
      "2023-10-24 10:10:08,817 | Train Epoch: 137 [40000/50000 (80%)]\tLoss: 4.135552\n",
      "2023-10-24 10:11:01,407 | Train Epoch: 137 [45000/50000 (90%)]\tLoss: 4.332725\n"
     ]
    },
    {
     "name": "stdout",
     "output_type": "stream",
     "text": [
      "================================================================\n"
     ]
    },
    {
     "name": "stderr",
     "output_type": "stream",
     "text": [
      "2023-10-24 10:12:18,377 | Test: Average loss: 0.2919, Accuracy: 9034/10000 (90%),PDG clean accuracy: 118/128 (92.19%), Robust accuracy 81/128 (63.28%)\n"
     ]
    },
    {
     "name": "stdout",
     "output_type": "stream",
     "text": [
      "================================================================\n"
     ]
    },
    {
     "name": "stderr",
     "output_type": "stream",
     "text": [
      "2023-10-24 10:12:19,093 | Train Epoch: 138 [0/50000 (0%)]\tLoss: 4.508390\n",
      "2023-10-24 10:13:12,313 | Train Epoch: 138 [5000/50000 (10%)]\tLoss: 2.641946\n",
      "2023-10-24 10:14:05,070 | Train Epoch: 138 [10000/50000 (20%)]\tLoss: 2.944243\n",
      "2023-10-24 10:14:57,059 | Train Epoch: 138 [15000/50000 (30%)]\tLoss: 2.670200\n",
      "2023-10-24 10:15:49,581 | Train Epoch: 138 [20000/50000 (40%)]\tLoss: 3.789670\n",
      "2023-10-24 10:16:41,834 | Train Epoch: 138 [25000/50000 (50%)]\tLoss: 3.298898\n",
      "2023-10-24 10:17:34,439 | Train Epoch: 138 [30000/50000 (60%)]\tLoss: 3.495809\n",
      "2023-10-24 10:18:27,542 | Train Epoch: 138 [35000/50000 (70%)]\tLoss: 3.996164\n",
      "2023-10-24 10:19:20,708 | Train Epoch: 138 [40000/50000 (80%)]\tLoss: 3.753934\n",
      "2023-10-24 10:20:12,825 | Train Epoch: 138 [45000/50000 (90%)]\tLoss: 2.670349\n"
     ]
    },
    {
     "name": "stdout",
     "output_type": "stream",
     "text": [
      "================================================================\n"
     ]
    },
    {
     "name": "stderr",
     "output_type": "stream",
     "text": [
      "2023-10-24 10:21:29,840 | Test: Average loss: 0.2924, Accuracy: 9032/10000 (90%),PDG clean accuracy: 118/128 (92.19%), Robust accuracy 80/128 (62.50%)\n"
     ]
    },
    {
     "name": "stdout",
     "output_type": "stream",
     "text": [
      "================================================================\n"
     ]
    },
    {
     "name": "stderr",
     "output_type": "stream",
     "text": [
      "2023-10-24 10:21:30,544 | Train Epoch: 139 [0/50000 (0%)]\tLoss: 4.082708\n",
      "2023-10-24 10:22:24,152 | Train Epoch: 139 [5000/50000 (10%)]\tLoss: 3.367035\n",
      "2023-10-24 10:23:16,876 | Train Epoch: 139 [10000/50000 (20%)]\tLoss: 4.074326\n",
      "2023-10-24 10:24:09,784 | Train Epoch: 139 [15000/50000 (30%)]\tLoss: 3.791215\n",
      "2023-10-24 10:25:03,463 | Train Epoch: 139 [20000/50000 (40%)]\tLoss: 4.160517\n",
      "2023-10-24 10:25:56,668 | Train Epoch: 139 [25000/50000 (50%)]\tLoss: 3.576679\n",
      "2023-10-24 10:26:49,925 | Train Epoch: 139 [30000/50000 (60%)]\tLoss: 2.801553\n",
      "2023-10-24 10:27:43,072 | Train Epoch: 139 [35000/50000 (70%)]\tLoss: 3.188493\n",
      "2023-10-24 10:28:35,682 | Train Epoch: 139 [40000/50000 (80%)]\tLoss: 4.216391\n",
      "2023-10-24 10:29:28,590 | Train Epoch: 139 [45000/50000 (90%)]\tLoss: 3.025344\n"
     ]
    },
    {
     "name": "stdout",
     "output_type": "stream",
     "text": [
      "================================================================\n"
     ]
    },
    {
     "name": "stderr",
     "output_type": "stream",
     "text": [
      "2023-10-24 10:30:45,656 | Test: Average loss: 0.2921, Accuracy: 9033/10000 (90%),PDG clean accuracy: 118/128 (92.19%), Robust accuracy 80/128 (62.50%)\n"
     ]
    },
    {
     "name": "stdout",
     "output_type": "stream",
     "text": [
      "================================================================\n"
     ]
    },
    {
     "name": "stderr",
     "output_type": "stream",
     "text": [
      "2023-10-24 10:30:46,383 | Train Epoch: 140 [0/50000 (0%)]\tLoss: 2.990273\n",
      "2023-10-24 10:31:39,169 | Train Epoch: 140 [5000/50000 (10%)]\tLoss: 3.019624\n",
      "2023-10-24 10:32:32,741 | Train Epoch: 140 [10000/50000 (20%)]\tLoss: 3.978627\n",
      "2023-10-24 10:33:25,511 | Train Epoch: 140 [15000/50000 (30%)]\tLoss: 3.887080\n",
      "2023-10-24 10:34:18,760 | Train Epoch: 140 [20000/50000 (40%)]\tLoss: 3.575712\n",
      "2023-10-24 10:35:11,942 | Train Epoch: 140 [25000/50000 (50%)]\tLoss: 3.902132\n",
      "2023-10-24 10:36:04,625 | Train Epoch: 140 [30000/50000 (60%)]\tLoss: 3.462225\n",
      "2023-10-24 10:36:58,566 | Train Epoch: 140 [35000/50000 (70%)]\tLoss: 3.937229\n",
      "2023-10-24 10:37:51,132 | Train Epoch: 140 [40000/50000 (80%)]\tLoss: 3.519828\n",
      "2023-10-24 10:38:45,254 | Train Epoch: 140 [45000/50000 (90%)]\tLoss: 3.667748\n"
     ]
    },
    {
     "name": "stdout",
     "output_type": "stream",
     "text": [
      "================================================================\n"
     ]
    },
    {
     "name": "stderr",
     "output_type": "stream",
     "text": [
      "2023-10-24 10:40:03,321 | Test: Average loss: 0.2925, Accuracy: 9035/10000 (90%),PDG clean accuracy: 118/128 (92.19%), Robust accuracy 81/128 (63.28%)\n"
     ]
    },
    {
     "name": "stdout",
     "output_type": "stream",
     "text": [
      "================================================================\n"
     ]
    },
    {
     "name": "stderr",
     "output_type": "stream",
     "text": [
      "2023-10-24 10:40:04,007 | Train Epoch: 141 [0/50000 (0%)]\tLoss: 3.227041\n",
      "2023-10-24 10:40:56,631 | Train Epoch: 141 [5000/50000 (10%)]\tLoss: 3.934842\n",
      "2023-10-24 10:41:49,052 | Train Epoch: 141 [10000/50000 (20%)]\tLoss: 2.963445\n",
      "2023-10-24 10:42:42,253 | Train Epoch: 141 [15000/50000 (30%)]\tLoss: 2.371766\n",
      "2023-10-24 10:43:36,013 | Train Epoch: 141 [20000/50000 (40%)]\tLoss: 3.627008\n",
      "2023-10-24 10:44:29,649 | Train Epoch: 141 [25000/50000 (50%)]\tLoss: 3.909444\n",
      "2023-10-24 10:45:22,973 | Train Epoch: 141 [30000/50000 (60%)]\tLoss: 3.932226\n",
      "2023-10-24 10:46:16,285 | Train Epoch: 141 [35000/50000 (70%)]\tLoss: 3.545513\n",
      "2023-10-24 10:47:09,102 | Train Epoch: 141 [40000/50000 (80%)]\tLoss: 4.173233\n",
      "2023-10-24 10:48:02,873 | Train Epoch: 141 [45000/50000 (90%)]\tLoss: 3.339008\n"
     ]
    },
    {
     "name": "stdout",
     "output_type": "stream",
     "text": [
      "================================================================\n"
     ]
    },
    {
     "name": "stderr",
     "output_type": "stream",
     "text": [
      "2023-10-24 10:49:20,370 | Test: Average loss: 0.2920, Accuracy: 9038/10000 (90%),PDG clean accuracy: 118/128 (92.19%), Robust accuracy 80/128 (62.50%)\n"
     ]
    },
    {
     "name": "stdout",
     "output_type": "stream",
     "text": [
      "================================================================\n"
     ]
    },
    {
     "name": "stderr",
     "output_type": "stream",
     "text": [
      "2023-10-24 10:49:21,071 | Train Epoch: 142 [0/50000 (0%)]\tLoss: 3.730909\n",
      "2023-10-24 10:50:14,736 | Train Epoch: 142 [5000/50000 (10%)]\tLoss: 2.817138\n",
      "2023-10-24 10:51:08,300 | Train Epoch: 142 [10000/50000 (20%)]\tLoss: 3.096518\n",
      "2023-10-24 10:52:01,403 | Train Epoch: 142 [15000/50000 (30%)]\tLoss: 4.225646\n",
      "2023-10-24 10:52:54,070 | Train Epoch: 142 [20000/50000 (40%)]\tLoss: 4.115295\n",
      "2023-10-24 10:53:46,660 | Train Epoch: 142 [25000/50000 (50%)]\tLoss: 3.023345\n",
      "2023-10-24 10:54:39,832 | Train Epoch: 142 [30000/50000 (60%)]\tLoss: 4.052762\n",
      "2023-10-24 10:55:31,849 | Train Epoch: 142 [35000/50000 (70%)]\tLoss: 4.127213\n",
      "2023-10-24 10:56:24,596 | Train Epoch: 142 [40000/50000 (80%)]\tLoss: 3.791863\n",
      "2023-10-24 10:57:17,433 | Train Epoch: 142 [45000/50000 (90%)]\tLoss: 4.258461\n"
     ]
    },
    {
     "name": "stdout",
     "output_type": "stream",
     "text": [
      "================================================================\n"
     ]
    },
    {
     "name": "stderr",
     "output_type": "stream",
     "text": [
      "2023-10-24 10:58:35,234 | Test: Average loss: 0.2917, Accuracy: 9039/10000 (90%),PDG clean accuracy: 118/128 (92.19%), Robust accuracy 81/128 (63.28%)\n"
     ]
    },
    {
     "name": "stdout",
     "output_type": "stream",
     "text": [
      "================================================================\n"
     ]
    },
    {
     "name": "stderr",
     "output_type": "stream",
     "text": [
      "2023-10-24 10:58:35,970 | Train Epoch: 143 [0/50000 (0%)]\tLoss: 3.260708\n",
      "2023-10-24 10:59:28,676 | Train Epoch: 143 [5000/50000 (10%)]\tLoss: 4.066982\n",
      "2023-10-24 11:00:22,394 | Train Epoch: 143 [10000/50000 (20%)]\tLoss: 3.927373\n",
      "2023-10-24 11:01:16,032 | Train Epoch: 143 [15000/50000 (30%)]\tLoss: 2.499739\n",
      "2023-10-24 11:02:09,226 | Train Epoch: 143 [20000/50000 (40%)]\tLoss: 3.206763\n",
      "2023-10-24 11:03:02,543 | Train Epoch: 143 [25000/50000 (50%)]\tLoss: 3.509990\n",
      "2023-10-24 11:03:56,229 | Train Epoch: 143 [30000/50000 (60%)]\tLoss: 3.748497\n",
      "2023-10-24 11:04:48,144 | Train Epoch: 143 [35000/50000 (70%)]\tLoss: 3.366581\n",
      "2023-10-24 11:05:41,063 | Train Epoch: 143 [40000/50000 (80%)]\tLoss: 3.867614\n",
      "2023-10-24 11:06:35,156 | Train Epoch: 143 [45000/50000 (90%)]\tLoss: 2.538511\n"
     ]
    },
    {
     "name": "stdout",
     "output_type": "stream",
     "text": [
      "================================================================\n"
     ]
    },
    {
     "name": "stderr",
     "output_type": "stream",
     "text": [
      "2023-10-24 11:07:52,702 | Test: Average loss: 0.2924, Accuracy: 9033/10000 (90%),PDG clean accuracy: 118/128 (92.19%), Robust accuracy 81/128 (63.28%)\n"
     ]
    },
    {
     "name": "stdout",
     "output_type": "stream",
     "text": [
      "================================================================\n"
     ]
    },
    {
     "name": "stderr",
     "output_type": "stream",
     "text": [
      "2023-10-24 11:07:53,432 | Train Epoch: 144 [0/50000 (0%)]\tLoss: 4.352259\n",
      "2023-10-24 11:08:46,455 | Train Epoch: 144 [5000/50000 (10%)]\tLoss: 4.196365\n",
      "2023-10-24 11:09:40,170 | Train Epoch: 144 [10000/50000 (20%)]\tLoss: 4.149522\n",
      "2023-10-24 11:10:33,442 | Train Epoch: 144 [15000/50000 (30%)]\tLoss: 3.320771\n",
      "2023-10-24 11:11:26,860 | Train Epoch: 144 [20000/50000 (40%)]\tLoss: 3.366641\n",
      "2023-10-24 11:12:20,528 | Train Epoch: 144 [25000/50000 (50%)]\tLoss: 4.003666\n",
      "2023-10-24 11:13:13,591 | Train Epoch: 144 [30000/50000 (60%)]\tLoss: 2.651855\n",
      "2023-10-24 11:14:07,031 | Train Epoch: 144 [35000/50000 (70%)]\tLoss: 3.212182\n",
      "2023-10-24 11:15:00,417 | Train Epoch: 144 [40000/50000 (80%)]\tLoss: 4.020526\n",
      "2023-10-24 11:15:53,654 | Train Epoch: 144 [45000/50000 (90%)]\tLoss: 3.920678\n"
     ]
    },
    {
     "name": "stdout",
     "output_type": "stream",
     "text": [
      "================================================================\n"
     ]
    },
    {
     "name": "stderr",
     "output_type": "stream",
     "text": [
      "2023-10-24 11:17:11,096 | Test: Average loss: 0.2923, Accuracy: 9035/10000 (90%),PDG clean accuracy: 118/128 (92.19%), Robust accuracy 81/128 (63.28%)\n"
     ]
    },
    {
     "name": "stdout",
     "output_type": "stream",
     "text": [
      "================================================================\n"
     ]
    },
    {
     "name": "stderr",
     "output_type": "stream",
     "text": [
      "2023-10-24 11:17:11,765 | Train Epoch: 145 [0/50000 (0%)]\tLoss: 2.943445\n",
      "2023-10-24 11:18:04,389 | Train Epoch: 145 [5000/50000 (10%)]\tLoss: 2.873979\n",
      "2023-10-24 11:18:57,010 | Train Epoch: 145 [10000/50000 (20%)]\tLoss: 4.255745\n",
      "2023-10-24 11:19:50,341 | Train Epoch: 145 [15000/50000 (30%)]\tLoss: 3.644077\n",
      "2023-10-24 11:20:45,097 | Train Epoch: 145 [20000/50000 (40%)]\tLoss: 3.203241\n",
      "2023-10-24 11:21:38,866 | Train Epoch: 145 [25000/50000 (50%)]\tLoss: 3.339617\n",
      "2023-10-24 11:22:32,364 | Train Epoch: 145 [30000/50000 (60%)]\tLoss: 4.072359\n",
      "2023-10-24 11:23:25,902 | Train Epoch: 145 [35000/50000 (70%)]\tLoss: 4.047558\n",
      "2023-10-24 11:24:18,889 | Train Epoch: 145 [40000/50000 (80%)]\tLoss: 3.978631\n",
      "2023-10-24 11:25:11,831 | Train Epoch: 145 [45000/50000 (90%)]\tLoss: 3.658566\n"
     ]
    },
    {
     "name": "stdout",
     "output_type": "stream",
     "text": [
      "================================================================\n"
     ]
    },
    {
     "name": "stderr",
     "output_type": "stream",
     "text": [
      "2023-10-24 11:26:30,075 | Test: Average loss: 0.2914, Accuracy: 9036/10000 (90%),PDG clean accuracy: 118/128 (92.19%), Robust accuracy 81/128 (63.28%)\n"
     ]
    },
    {
     "name": "stdout",
     "output_type": "stream",
     "text": [
      "================================================================\n"
     ]
    },
    {
     "name": "stderr",
     "output_type": "stream",
     "text": [
      "2023-10-24 11:26:30,773 | Train Epoch: 146 [0/50000 (0%)]\tLoss: 3.786002\n",
      "2023-10-24 11:27:23,923 | Train Epoch: 146 [5000/50000 (10%)]\tLoss: 2.711189\n",
      "2023-10-24 11:28:16,789 | Train Epoch: 146 [10000/50000 (20%)]\tLoss: 2.501943\n",
      "2023-10-24 11:29:09,961 | Train Epoch: 146 [15000/50000 (30%)]\tLoss: 3.177336\n",
      "2023-10-24 11:30:02,430 | Train Epoch: 146 [20000/50000 (40%)]\tLoss: 3.832578\n",
      "2023-10-24 11:30:56,316 | Train Epoch: 146 [25000/50000 (50%)]\tLoss: 4.114278\n",
      "2023-10-24 11:31:49,472 | Train Epoch: 146 [30000/50000 (60%)]\tLoss: 2.883707\n",
      "2023-10-24 11:32:42,986 | Train Epoch: 146 [35000/50000 (70%)]\tLoss: 4.042974\n",
      "2023-10-24 11:33:35,897 | Train Epoch: 146 [40000/50000 (80%)]\tLoss: 2.822202\n",
      "2023-10-24 11:34:29,312 | Train Epoch: 146 [45000/50000 (90%)]\tLoss: 3.275149\n"
     ]
    },
    {
     "name": "stdout",
     "output_type": "stream",
     "text": [
      "================================================================\n"
     ]
    },
    {
     "name": "stderr",
     "output_type": "stream",
     "text": [
      "2023-10-24 11:35:46,142 | Test: Average loss: 0.2919, Accuracy: 9035/10000 (90%),PDG clean accuracy: 118/128 (92.19%), Robust accuracy 80/128 (62.50%)\n"
     ]
    },
    {
     "name": "stdout",
     "output_type": "stream",
     "text": [
      "================================================================\n"
     ]
    },
    {
     "name": "stderr",
     "output_type": "stream",
     "text": [
      "2023-10-24 11:35:46,875 | Train Epoch: 147 [0/50000 (0%)]\tLoss: 2.386868\n",
      "2023-10-24 11:36:40,178 | Train Epoch: 147 [5000/50000 (10%)]\tLoss: 3.959777\n",
      "2023-10-24 11:37:32,805 | Train Epoch: 147 [10000/50000 (20%)]\tLoss: 2.518401\n",
      "2023-10-24 11:38:26,598 | Train Epoch: 147 [15000/50000 (30%)]\tLoss: 2.563164\n",
      "2023-10-24 11:39:19,928 | Train Epoch: 147 [20000/50000 (40%)]\tLoss: 3.894265\n",
      "2023-10-24 11:40:12,459 | Train Epoch: 147 [25000/50000 (50%)]\tLoss: 3.868957\n",
      "2023-10-24 11:41:05,813 | Train Epoch: 147 [30000/50000 (60%)]\tLoss: 4.411770\n",
      "2023-10-24 11:41:59,290 | Train Epoch: 147 [35000/50000 (70%)]\tLoss: 3.894937\n",
      "2023-10-24 11:42:52,501 | Train Epoch: 147 [40000/50000 (80%)]\tLoss: 2.966072\n",
      "2023-10-24 11:43:45,046 | Train Epoch: 147 [45000/50000 (90%)]\tLoss: 3.981005\n"
     ]
    },
    {
     "name": "stdout",
     "output_type": "stream",
     "text": [
      "================================================================\n"
     ]
    },
    {
     "name": "stderr",
     "output_type": "stream",
     "text": [
      "2023-10-24 11:45:01,968 | Test: Average loss: 0.2919, Accuracy: 9034/10000 (90%),PDG clean accuracy: 118/128 (92.19%), Robust accuracy 80/128 (62.50%)\n"
     ]
    },
    {
     "name": "stdout",
     "output_type": "stream",
     "text": [
      "================================================================\n"
     ]
    },
    {
     "name": "stderr",
     "output_type": "stream",
     "text": [
      "2023-10-24 11:45:02,706 | Train Epoch: 148 [0/50000 (0%)]\tLoss: 4.213702\n",
      "2023-10-24 11:45:56,029 | Train Epoch: 148 [5000/50000 (10%)]\tLoss: 4.080365\n",
      "2023-10-24 11:46:48,923 | Train Epoch: 148 [10000/50000 (20%)]\tLoss: 4.072923\n",
      "2023-10-24 11:47:41,410 | Train Epoch: 148 [15000/50000 (30%)]\tLoss: 2.711586\n",
      "2023-10-24 11:48:34,402 | Train Epoch: 148 [20000/50000 (40%)]\tLoss: 2.631715\n",
      "2023-10-24 11:49:27,502 | Train Epoch: 148 [25000/50000 (50%)]\tLoss: 2.907120\n",
      "2023-10-24 11:50:20,552 | Train Epoch: 148 [30000/50000 (60%)]\tLoss: 2.984087\n",
      "2023-10-24 11:51:13,287 | Train Epoch: 148 [35000/50000 (70%)]\tLoss: 3.343543\n",
      "2023-10-24 11:52:05,929 | Train Epoch: 148 [40000/50000 (80%)]\tLoss: 4.602960\n",
      "2023-10-24 11:52:59,002 | Train Epoch: 148 [45000/50000 (90%)]\tLoss: 4.032154\n"
     ]
    },
    {
     "name": "stdout",
     "output_type": "stream",
     "text": [
      "================================================================\n"
     ]
    },
    {
     "name": "stderr",
     "output_type": "stream",
     "text": [
      "2023-10-24 11:54:16,570 | Test: Average loss: 0.2917, Accuracy: 9034/10000 (90%),PDG clean accuracy: 118/128 (92.19%), Robust accuracy 81/128 (63.28%)\n"
     ]
    },
    {
     "name": "stdout",
     "output_type": "stream",
     "text": [
      "================================================================\n"
     ]
    },
    {
     "name": "stderr",
     "output_type": "stream",
     "text": [
      "2023-10-24 11:54:17,249 | Train Epoch: 149 [0/50000 (0%)]\tLoss: 2.683794\n",
      "2023-10-24 11:55:09,910 | Train Epoch: 149 [5000/50000 (10%)]\tLoss: 3.926421\n",
      "2023-10-24 11:56:02,740 | Train Epoch: 149 [10000/50000 (20%)]\tLoss: 3.957108\n",
      "2023-10-24 11:56:55,421 | Train Epoch: 149 [15000/50000 (30%)]\tLoss: 3.020185\n",
      "2023-10-24 11:57:47,992 | Train Epoch: 149 [20000/50000 (40%)]\tLoss: 4.123168\n",
      "2023-10-24 11:58:41,742 | Train Epoch: 149 [25000/50000 (50%)]\tLoss: 2.696151\n",
      "2023-10-24 11:59:35,326 | Train Epoch: 149 [30000/50000 (60%)]\tLoss: 3.318903\n",
      "2023-10-24 12:00:27,775 | Train Epoch: 149 [35000/50000 (70%)]\tLoss: 3.234161\n",
      "2023-10-24 12:01:21,169 | Train Epoch: 149 [40000/50000 (80%)]\tLoss: 4.227908\n",
      "2023-10-24 12:02:14,712 | Train Epoch: 149 [45000/50000 (90%)]\tLoss: 3.428628\n"
     ]
    },
    {
     "name": "stdout",
     "output_type": "stream",
     "text": [
      "================================================================\n"
     ]
    },
    {
     "name": "stderr",
     "output_type": "stream",
     "text": [
      "2023-10-24 12:03:31,337 | Test: Average loss: 0.2918, Accuracy: 9033/10000 (90%),PDG clean accuracy: 118/128 (92.19%), Robust accuracy 81/128 (63.28%)\n"
     ]
    },
    {
     "name": "stdout",
     "output_type": "stream",
     "text": [
      "================================================================\n"
     ]
    },
    {
     "name": "stderr",
     "output_type": "stream",
     "text": [
      "2023-10-24 12:03:34,322 | Test: Average loss: 72.3867, Accuracy: 2656/10000 (27%),PDG clean accuracy: 32/128 (25.00%), Robust accuracy 61/128 (47.66%)\n"
     ]
    }
   ],
   "source": [
    "def main():\n",
    "    # init model, ResNet18() can be also used here for training\n",
    "    #os.environ[\"CUDA_VISIBLE_DEVICES\"] = \"1,2,3\"\n",
    "    #device_ids = [1, 2, 3]\n",
    "    #device = torch.device(\"cuda\" if torch.cuda.is_available() else \"cpu\")\n",
    "    num_classes = 10\n",
    "    swa_lr = 0.0001\n",
    "    model = CNN(num_classes=10, isL2 = False, dropRatio = 0.1)\n",
    "    #model = get_model('wrn-28-10', num_classes=num_classes,\n",
    "    #                      normalize_input=False)\n",
    "    #model = model.to(device)\n",
    "\n",
    "    if torch.cuda.device_count() > 1:\n",
    "        model = DataParallel(model)\n",
    "        print(\"Using\", torch.cuda.device_count(), \"GPUs!\")\n",
    "        model = model.to(device)\n",
    "    lr =0.01\n",
    "    print_freq = 50\n",
    "    optimizer = optim.SGD(model.parameters(), lr=lr, momentum=momentum, weight_decay=weight_decay)\n",
    "    #optimizer = SWA(base_optimizer, swa_lr=swa_lr)\n",
    "    swa_optimizer = SWA(optimizer, swa_start=swa_start, swa_freq=swa_freq, swa_lr=swa_lr)\n",
    "    criterion = nn.CrossEntropyLoss()\n",
    "    save_freq = 50\n",
    "    sup_epochs = 150\n",
    "    \n",
    "    \n",
    "    model.train()\n",
    "    optimizer.zero_grad()\n",
    "    \n",
    "    # Forward pass for labeled data\n",
    "    writer = SummaryWriter(\"runs/mixup/fly_soft_cnn_swa70_lowBS_50_50_50k_adversarial\")\n",
    "    for epoch in tqdm(range(sup_epochs)):\n",
    "        lr = adjust_learning_rate(optimizer, epoch)\n",
    "        #train(model, device, labeled_loader, optimizer, swa_optimizer, epoch)\n",
    "        train(model, device, train_loader, optimizer, swa_optimizer, epoch)\n",
    "        \n",
    "        print('================================================================')\n",
    "        cnn_swa_test_loss, cnn_swa_test_accuracy, cnn_swa_test_robust_accuracy = eval_test(model, device, test_loader)\n",
    "        writer.add_scalar('fly_soft_swa70_robust_acc/test', cnn_swa_test_robust_accuracy, epoch)\n",
    "        writer.add_scalar('fly_soft_swa70_clean_acc/test', cnn_swa_test_accuracy, epoch)\n",
    "        print('================================================================')\n",
    "        \n",
    "        \n",
    "        # save checkpoint\n",
    "        if epoch % save_freq == 0:\n",
    "            torch.save(model.state_dict(),\n",
    "                       os.path.join(model_dir, 'fly_soft_swa70_lowBS_50_50_50k_model-cnn-epoch{}.pt'.format(epoch)))\n",
    "            torch.save(optimizer.state_dict(),\n",
    "                       os.path.join(model_dir, 'fly_soft_swa70_lowBS_50_50_50k_opt-cnn-checkpoint_epoch{}.tar'.format(epoch)))\n",
    "    \n",
    "    swa_optimizer.swap_swa_sgd()\n",
    "    best_swa_test_loss, best_swa_test_accuracy, best_swa_test_robust_accuracy = eval_test(model, device, test_loader)\n",
    "        #for x_labeled, y_labeled in labeled_loader:\n",
    "        #    x_labeled, y_labeled = x_labeled.to(device), y_labeled.to(device)\n",
    "        #    labeled_output = model(x_labeled)\n",
    "        #    labeled_loss = criterion(labeled_output, y_labeled)\n",
    "\n",
    "            # Backward pass and optimization\n",
    "        #    labeled_loss.backward()\n",
    "        #    optimizer.step()\n",
    "        #    optimizer.zero_grad()\n",
    "\n",
    "    #writer = SummaryWriter(\"runs/mixup/fly_soft_cnn_swa70_lowBS_50_50_1k_adversarial\")\n",
    "    #for epoch in tqdm(range(1, epochs + 1)):\n",
    "        #lr = adjust_learning_rate(optimizer, epoch)\n",
    "        #train_new(model, device, labeled_loader, unlabeled_loader, optimizer, swa_optimizer, epoch)\n",
    "        #train(model, device, train_loader, optimizer, swa_optimizer, epoch)\n",
    "        \n",
    "        \n",
    "\n",
    "        # evaluation on natural examples\n",
    "        #print('================================================================')\n",
    "        #val_train_loss, val_train_accuracy, val_robust_accuracy = eval_train(model, device, labeled_validation_loader)\n",
    "        #writer.add_scalar('robust_acc/val', val_robust_accuracy, epoch)\n",
    "        #writer.add_scalar('clean_acc/val', val_train_accuracy, epoch)\n",
    "        \n",
    "        #cnn_swa_test_loss, cnn_swa_test_accuracy, cnn_swa_test_robust_accuracy = eval_test(model, device, test_loader)\n",
    "        #writer.add_scalar('fly_soft_swa70_robust_acc/test', cnn_swa_test_robust_accuracy, epoch)\n",
    "       # writer.add_scalar('fly_soft_swa70_clean_acc/test', cnn_swa_test_accuracy, epoch)\n",
    "        #print('================================================================')\n",
    "\n",
    "        \n",
    "       \n",
    "        # save checkpoint\n",
    "        #if epoch % save_freq == 0:\n",
    "        #    torch.save(model.state_dict(),\n",
    "        #               os.path.join(model_dir, 'fly_soft_swa70_lowBS_50_50_1k_model-cnn-epoch{}.pt'.format(epoch)))\n",
    "        #    torch.save(optimizer.state_dict(),\n",
    "        #               os.path.join(model_dir, 'fly_soft_swa70_lowBS_50_50_1k_opt-cnn-checkpoint_epoch{}.tar'.format(epoch)))\n",
    "    \n",
    "    #swa_optimizer.swap_swa_sgd()\n",
    "    #best_swa_test_loss, best_swa_test_accuracy, best_swa_test_robust_accuracy = eval_test(model, device, test_loader)\n",
    "\n",
    "\n",
    "if __name__ == '__main__':\n",
    "    main()"
   ]
  },
  {
   "cell_type": "code",
   "execution_count": null,
   "id": "4f00eee4",
   "metadata": {},
   "outputs": [],
   "source": [
    " from torchcontrib.optim import SWA\n",
    "        base_optimizer = optim.SGD(model.parameters(), lr=lr, momentum=args.momentum, weight_decay=args.wd)\n",
    "        optimizer = SWA(base_optimizer, swa_lr=args.swa_lr)"
   ]
  },
  {
   "cell_type": "code",
   "execution_count": null,
   "id": "e1eef678",
   "metadata": {},
   "outputs": [],
   "source": [
    " # applying swa\n",
    "    if args.swa == 'True':\n",
    "        optimizer.swap_swa_sgd()\n",
    "        optimizer.bn_update(train_loader, model, device)\n",
    "        if args.validation_exp == \"True\":\n",
    "            loss_swa, acc_val_swa = validating(args, model, device, test_loader)"
   ]
  },
  {
   "cell_type": "code",
   "execution_count": null,
   "id": "de967115",
   "metadata": {},
   "outputs": [],
   "source": [
    "if args.swa == 'True':\n",
    "        if epoch > args.swa_start and epoch%args.swa_freq == 0 :\n",
    "            optimizer.update_swa()"
   ]
  },
  {
   "cell_type": "markdown",
   "id": "0c250615",
   "metadata": {},
   "source": [
    "def main():\n",
    "    # init model, ResNet18() can be also used here for training\n",
    "    #os.environ[\"CUDA_VISIBLE_DEVICES\"] = \"1\"\n",
    "    device = torch.device(\"cuda\" if torch.cuda.is_available() else \"cpu\")\n",
    "    num_classes = 10\n",
    "    model = get_model('wrn-28-10', num_classes=num_classes,\n",
    "                          normalize_input=False)\n",
    "    model = model.to(device)\n",
    "\n",
    "    if torch.cuda.device_count() > 1:\n",
    "        print(\"Using\", torch.cuda.device_count(), \"GPUs!\")\n",
    "        model = DataParallel(model)\n",
    "    #model = model.to(device)\n",
    "    lr =0.1\n",
    "    print_freq = 50\n",
    "    optimizer = optim.SGD(model.parameters(), lr=lr, momentum=momentum, weight_decay=weight_decay)\n",
    "    criterion = nn.CrossEntropyLoss()\n",
    "    save_freq = 50\n",
    "    \n",
    "    \n",
    "    model.train()\n",
    "    optimizer.zero_grad()\n",
    "    \n",
    "    # Forward pass for labeled data\n",
    "    for x_labeled, y_labeled in labeled_loader:\n",
    "        x_labeled, y_labeled = x_labeled.to(device), y_labeled.to(device)\n",
    "        labeled_output = model(x_labeled)\n",
    "        labeled_loss = criterion(labeled_output, y_labeled)\n",
    "\n",
    "        # Backward pass and optimization\n",
    "        labeled_loss.backward()\n",
    "        optimizer.step()\n",
    "        optimizer.zero_grad()\n",
    "\n",
    "    writer = SummaryWriter(\"runs/4k_adversarial\")\n",
    "    for epoch in tqdm(range(1, epochs + 1)):\n",
    "        lr = adjust_learning_rate(optimizer, epoch)\n",
    "        train_new(model, device, labeled_loader, unlabeled_loader, optimizer, epoch)\n",
    "\n",
    "        # evaluation on natural examples\n",
    "        print('================================================================')\n",
    "        val_train_loss, val_train_accuracy, val_robust_accuracy = eval_train(model, device, labeled_validation_loader)\n",
    "        writer.add_scalar('robust_acc/val', val_robust_accuracy, epoch)\n",
    "        writer.add_scalar('clean_acc/val', val_train_accuracy, epoch)\n",
    "        \n",
    "        test_loss, test_accuracy, test_robust_accuracy = eval_test(model, device, test_loader)\n",
    "        writer.add_scalar('robust_acc/test', test_robust_accuracy, epoch)\n",
    "        writer.add_scalar('clean_acc/test', test_accuracy, epoch)\n",
    "        print('================================================================')\n",
    "\n",
    "        \n",
    "       \n",
    "        # save checkpoint\n",
    "        if epoch % save_freq == 0:\n",
    "            torch.save(model.state_dict(),\n",
    "                       os.path.join(model_dir, '1_4k_model-wideres-epoch{}.pt'.format(epoch)))\n",
    "            torch.save(optimizer.state_dict(),\n",
    "                       os.path.join(model_dir, '1_4k_opt-wideres-checkpoint_epoch{}.tar'.format(epoch)))\n",
    "\n",
    "\n",
    "if __name__ == '__main__':\n",
    "    main()"
   ]
  },
  {
   "cell_type": "code",
   "execution_count": null,
   "id": "341327f0",
   "metadata": {},
   "outputs": [],
   "source": [
    "model.train()\n",
    "optimizer.zero_grad()\n",
    "\n",
    "writer = SummaryWriter(\"runs/10k_adversarial\")\n",
    "\n",
    "for epoch in tqdm(range(1, epochs + 1)):\n",
    "    # adjust learning rate for SGD\n",
    "    adjust_learning_rate(optimizer, epoch, lr)\n",
    "    \n",
    "    # Forward pass for labeled data\n",
    "    for x_labeled, y_labeled in labeled_loader:\n",
    "        x_labeled, y_labeled = x_labeled.to(device), y_labeled.to(device)\n",
    "        labeled_output = model(x_labeled)\n",
    "        labeled_loss = criterion(labeled_output, y_labeled)\n",
    "\n",
    "        # Backward pass and optimization\n",
    "        labeled_loss.backward()\n",
    "        optimizer.step()\n",
    "        optimizer.zero_grad()\n",
    "\n",
    "    # Generate pseudolabels for unlabeled data batch by batch\n",
    "    model.eval()\n",
    "    for x_unlabeled, _ in unlabeled_loader:\n",
    "        data_array = x_unlabeled.to(device)\n",
    "        unlabeled_output = model(data_array)\n",
    "        pseudo_labels_batch = unlabeled_output.argmax(dim=1)\n",
    "\n",
    "        # Convert data_array and pseudo_labels_batch to tensors\n",
    "        data_array = data_array.cpu().numpy()\n",
    "        pseudo_labels_batch = pseudo_labels_batch.cpu().numpy()\n",
    "\n",
    "        # Perform training with labeled and pseudo-labeled batch\n",
    "        combined_dataset = torch.utils.data.TensorDataset(torch.from_numpy(data_array),\n",
    "                                                         torch.from_numpy(pseudo_labels_batch))\n",
    "        combined_loader = torch.utils.data.DataLoader(combined_dataset,\n",
    "                                                      batch_size=TRAIN_BS,\n",
    "                                                      shuffle=True,\n",
    "                                                      num_workers=2,\n",
    "                                                      collate_fn=my_collate)\n",
    "\n",
    "        train(model, device, combined_loader, optimizer, epoch)\n",
    "\n",
    "    # evaluation on natural examples\n",
    "    print('================================================================')\n",
    "    train_loss, training_accuracy = eval_train(model, device, labeled_loader)\n",
    "    eval_test(model, device, test_loader)\n",
    "    print('================================================================')\n"
   ]
  },
  {
   "cell_type": "code",
   "execution_count": null,
   "id": "0d843893",
   "metadata": {},
   "outputs": [],
   "source": [
    "def main():\n",
    "    # init model, ResNet18() can be also used here for training\n",
    "    #os.environ[\"CUDA_VISIBLE_DEVICES\"] = \"1\"\n",
    "    device = torch.device(\"cuda\" if torch.cuda.is_available() else \"cpu\")\n",
    "    num_classes = 10\n",
    "    model = get_model('wrn-28-10', num_classes=num_classes,\n",
    "                          normalize_input=False)\n",
    "    model = model.to(device)\n",
    "\n",
    "    if torch.cuda.device_count() > 1:\n",
    "        print(\"Using\", torch.cuda.device_count(), \"GPUs!\")\n",
    "        model = DataParallel(model)\n",
    "    #model = model.to(device)\n",
    "    lr =0.1\n",
    "    optimizer = optim.SGD(model.parameters(), lr=lr, momentum=momentum, weight_decay=weight_decay)\n",
    "    criterion = nn.CrossEntropyLoss()\n",
    "    save_freq = 50\n",
    "    # Load the combined_loader\n",
    "    #with open('./data/combined_loader.pkl', 'rb') as f:\n",
    "    #    combined_loader = pickle.load(f)\n",
    "    \n",
    "    model.train()\n",
    "    optimizer.zero_grad()\n",
    "\n",
    "    # Forward pass\n",
    "    for x_labeled, y_labeled in labeled_loader:\n",
    "        x_labeled, y_labeled = x_labeled.to(device), y_labeled.to(device)\n",
    "        labeled_output = model(x_labeled)\n",
    "        labeled_loss = criterion(labeled_output, y_labeled)\n",
    "\n",
    "        # Backward pass and optimization\n",
    "        labeled_loss.backward()\n",
    "        optimizer.step()\n",
    "        optimizer.zero_grad()\n",
    "    \n",
    "    \n",
    "    for epoch in tqdm(range(1, epochs + 1)):\n",
    "        # adjust learning rate for SGD\n",
    "        adjust_learning_rate(optimizer, epoch, lr)\n",
    "        \n",
    "\n",
    "        # Generate pseudo-labels for unlabeled data\n",
    "        model.eval()\n",
    "        pseudo_labels = []\n",
    "        data_array = []\n",
    "        with torch.no_grad():\n",
    "            for x_unlabeled, _ in unlabeled_loader:\n",
    "                data_array.append(x_unlabeled.numpy())\n",
    "                x_unlabeled = x_unlabeled.to(device)\n",
    "                \n",
    "                unlabeled_output = model(x_unlabeled)\n",
    "                pseudo_labels_batch = unlabeled_output.argmax(dim=1)\n",
    "                pseudo_labels.append(pseudo_labels_batch.cpu().numpy())\n",
    "        \n",
    "        \n",
    "        data_array = np.concatenate(data_array)\n",
    "        new_extrapolated_targets = np.concatenate(pseudo_labels)\n",
    "        \n",
    "        # Convert data_array and new_extrapolated_targets to tensors\n",
    "        data_array = torch.from_numpy(data_array)\n",
    "        new_extrapolated_targets = torch.from_numpy(new_extrapolated_targets)\n",
    "        \n",
    "        \n",
    "        # Create a new dataset by combining labeled data and predicted labels\n",
    "        pseudolabel_combined_dataset = torch.utils.data.TensorDataset(data_array, new_extrapolated_targets)\n",
    "\n",
    "        # Create a combined dataloader\n",
    "        pseudolabel_combined_loader = torch.utils.data.DataLoader(pseudolabel_combined_dataset, batch_size=TRAIN_BS, shuffle=True, num_workers=2)\n",
    "        # Combine labeled and pseudo-labeled data\n",
    "        # Create a new pseudo-labels dataset\n",
    "        combined_dataset = torch.utils.data.ConcatDataset([labeled_dataset, pseudolabel_combined_dataset])\n",
    "        combined_loader = torch.utils.data.DataLoader(\n",
    "            combined_dataset, batch_size=TRAIN_BS, shuffle=True, num_workers=2, collate_fn=my_collate)\n",
    "\n",
    "        \n",
    " \n",
    "        \n",
    "        \n",
    "        # adversarial training\n",
    "        train(model, device, combined_loader, optimizer, epoch)\n",
    "\n",
    "        # evaluation on natural examples\n",
    "        print('================================================================')\n",
    "        train_loss, training_accuracy = eval_train(model, device, labeled_loader)\n",
    "        eval_test(model, device, test_loader)\n",
    "        print('================================================================')\n",
    "\n",
    "        \n",
    "        writer.add_scalar('robust_accuracy', np.array(training_accuracy), epoch)\n",
    "        # save checkpoint\n",
    "        if epoch % save_freq == 0:\n",
    "            torch.save(model.state_dict(),\n",
    "                       os.path.join(model_dir, '10k_model-wideres-epoch{}.pt'.format(epoch)))\n",
    "            torch.save(optimizer.state_dict(),\n",
    "                       os.path.join(model_dir, '10k_opt-wideres-checkpoint_epoch{}.tar'.format(epoch)))\n",
    "\n",
    "\n",
    "if __name__ == '__main__':\n",
    "    main()\n",
    "\n",
    "\n",
    "\n"
   ]
  },
  {
   "cell_type": "code",
   "execution_count": null,
   "id": "69443871",
   "metadata": {},
   "outputs": [],
   "source": [
    "len(unlabeled_dataset)"
   ]
  },
  {
   "cell_type": "code",
   "execution_count": null,
   "id": "7e3035de",
   "metadata": {},
   "outputs": [],
   "source": [
    "len(c_dataset)"
   ]
  },
  {
   "cell_type": "code",
   "execution_count": null,
   "id": "2a943829",
   "metadata": {},
   "outputs": [],
   "source": []
  },
  {
   "cell_type": "code",
   "execution_count": null,
   "id": "8581acfd",
   "metadata": {},
   "outputs": [],
   "source": [
    "def train(model, device, train_loader, optimizer, epoch):\n",
    "    model.train()\n",
    "    for batch_idx, (data, target) in enumerate(train_loader):\n",
    "        data, target = data.to(device), target.to(device)\n",
    "\n",
    "        optimizer.zero_grad()\n",
    "\n",
    "        # calculate robust loss\n",
    "        loss = trades_loss(model=model,\n",
    "                           x_natural=data,\n",
    "                           y=target,\n",
    "                           optimizer=optimizer,\n",
    "                           step_size=step_size,\n",
    "                           epsilon=epsilon,\n",
    "                           perturb_steps=num_steps,\n",
    "                           beta=beta)\n",
    "        loss.backward()\n",
    "        optimizer.step()\n",
    "\n",
    "        # print progress\n",
    "        if batch_idx % log_interval == 0:\n",
    "            print('Train Epoch: {} [{}/{} ({:.0f}%)]\\tLoss: {:.6f}'.format(\n",
    "                epoch, batch_idx * len(data), len(train_loader.dataset),\n",
    "                       100. * batch_idx / len(train_loader), loss.item()))"
   ]
  },
  {
   "cell_type": "code",
   "execution_count": null,
   "id": "0c8bbcb8",
   "metadata": {},
   "outputs": [],
   "source": []
  },
  {
   "cell_type": "code",
   "execution_count": null,
   "id": "f42d09b8",
   "metadata": {},
   "outputs": [],
   "source": []
  },
  {
   "cell_type": "code",
   "execution_count": null,
   "id": "d70e4492",
   "metadata": {},
   "outputs": [],
   "source": [
    "class SemiSupervisedSampler(Sampler):\n",
    "    \"\"\"Balanced sampling from the labeled and unlabeled data\"\"\"\n",
    "    def __init__(self, sup_inds, unsup_inds, batch_size, unsup_fraction=0.5,\n",
    "                 num_batches=None):\n",
    "        if unsup_fraction is None or unsup_fraction < 0:\n",
    "            self.sup_inds = sup_inds + unsup_inds\n",
    "            unsup_fraction = 0.0\n",
    "        else:\n",
    "            self.sup_inds = sup_inds\n",
    "            self.unsup_inds = unsup_inds\n",
    "\n",
    "        self.batch_size = batch_size\n",
    "        unsup_batch_size = int(batch_size * unsup_fraction)\n",
    "        self.sup_batch_size = batch_size - unsup_batch_size\n",
    "\n",
    "        if num_batches is not None:\n",
    "            self.num_batches = num_batches\n",
    "        else:\n",
    "            self.num_batches = int(\n",
    "                np.ceil(len(self.sup_inds) / self.sup_batch_size))\n",
    "\n",
    "        super().__init__(None)\n",
    "\n",
    "    def __iter__(self):\n",
    "        batch_counter = 0\n",
    "        while batch_counter < self.num_batches:\n",
    "            sup_inds_shuffled = [self.sup_inds[i]\n",
    "                                 for i in torch.randperm(len(self.sup_inds))]\n",
    "            for sup_k in range(0, len(self.sup_inds), self.sup_batch_size):\n",
    "                if batch_counter == self.num_batches:\n",
    "                    break\n",
    "                batch = sup_inds_shuffled[sup_k:(sup_k + self.sup_batch_size)]\n",
    "                if self.sup_batch_size < self.batch_size:\n",
    "                    batch.extend([self.unsup_inds[i] for i in\n",
    "                                  torch.randint(high=len(self.unsup_inds),\n",
    "                                                size=(\n",
    "                                                    self.batch_size - len(\n",
    "                                                        batch),),\n",
    "                                                dtype=torch.int64)])\n",
    "                # this shuffle operation is very important, without it\n",
    "                # batch-norm / DataParallel hell ensues\n",
    "                np.random.shuffle(batch)\n",
    "                yield batch\n",
    "                batch_counter += 1\n",
    "\n",
    "    def __len__(self):\n",
    "        return self.num_batches\n"
   ]
  },
  {
   "cell_type": "code",
   "execution_count": null,
   "id": "1950e746",
   "metadata": {},
   "outputs": [],
   "source": []
  },
  {
   "cell_type": "code",
   "execution_count": null,
   "id": "c8f71a15",
   "metadata": {},
   "outputs": [],
   "source": [
    "sup_inds = [1, 2, 3, 4, 5]  # Labeled data indices\n",
    "unsup_inds = [6, 7, 8, 9, 10]  # Unlabeled data indices\n",
    "batch_size = 4\n",
    "unsup_fraction = 0.5\n",
    "\n",
    "sampler = SemiSupervisedSampler(sup_inds, unsup_inds, batch_size, unsup_fraction)\n",
    "dataloader = torch.utils.data.DataLoader(dataset, sampler=sampler, batch_size=batch_size)\n",
    "\n",
    "for batch_indices in dataloader:\n",
    "    # Use batch_indices for training\n",
    "    print(batch_indices)"
   ]
  },
  {
   "cell_type": "code",
   "execution_count": null,
   "id": "49c43bd8",
   "metadata": {},
   "outputs": [],
   "source": [
    "for batch_data, batch_labels in combined_loader:\n",
    "    print(\"Batch data shape:\", batch_data.shape)\n",
    "    print(\"Batch labels:\", batch_labels)\n"
   ]
  },
  {
   "cell_type": "code",
   "execution_count": null,
   "id": "80c25330",
   "metadata": {},
   "outputs": [],
   "source": [
    "def train_new(model, device, labeled_loader, unlabeled_loader, optimizer, swa_optimizer, epoch):    \n",
    "\n",
    "    labeled_iter = iter(labeled_loader)    \n",
    "    num_iter = (len(unlabeled_loader.dataset)//TRAIN_BS)+1\n",
    "    for batch_idx, (x_unlabeled, _) in enumerate(unlabeled_loader):      \n",
    "        try:\n",
    "            x_labeled, y_labeled = next(labeled_iter)\n",
    "        except StopIteration:\n",
    "            labeled_iter = iter(labeled_loader)\n",
    "            x_labeled, y_labeled = next(labeled_iter) \n",
    "        model.eval()\n",
    "        with torch.no_grad():\n",
    "            x_unlabeled = x_unlabeled.to(device)\n",
    "            \n",
    "            logits_unlabeled = model(x_unlabeled.to(device))\n",
    "            # Softmax normalization to obtain probabilities for each class\n",
    "            pseudo_labels = F.softmax(logits_unlabeled, dim=1)\n",
    "            \n",
    "            \n",
    "            \n",
    "        \n",
    "        model.train()\n",
    "        \n",
    "        # concatenate (x_labeled, y_labeled) and (x_unlabeled, pseudo_labels)\n",
    "        x_labeled = x_labeled.to(device)\n",
    "        y_labeled = y_labeled.to(device)\n",
    "        #print(y_labeled.shape)\n",
    "        #print(y_labeled[0])\n",
    "        # Add a new dimension to y_labeled to make it compatible for concatenation\n",
    "        num_classes = 10\n",
    "        y_labeled_onehot = F.one_hot(y_labeled, num_classes)\n",
    "        #print(y_labeled_onehot.shape)\n",
    "        #print(y_labeled_onehot[0])\n",
    "        pseudo_labels = pseudo_labels.to(device)\n",
    "        #print(pseudo_labels.shape)\n",
    "        \n",
    "        data = torch.cat([x_labeled,x_unlabeled],dim=0)\n",
    "        target = torch.cat([y_labeled,pseudo_labels],dim=0)\n",
    "        \n",
    "        optimizer.zero_grad()\n",
    "        # calculate robust loss\n",
    "        loss = trades_loss(model=model,\n",
    "                           x_natural=data,\n",
    "                           y=target,\n",
    "                           optimizer=optimizer,\n",
    "                           step_size=0.007,\n",
    "                           epsilon=0.031,\n",
    "                           perturb_steps=10,\n",
    "                           beta=beta)\n",
    "        loss.backward()\n",
    "        optimizer.step()\n"
   ]
  },
  {
   "cell_type": "code",
   "execution_count": null,
   "id": "8cfbd00e",
   "metadata": {},
   "outputs": [],
   "source": [
    "\"\"\"\"\n",
    "for images,labels in combined_loader:\n",
    "         print(type(images))\n",
    "         print(type(labels))\n",
    "         print(images.size())\n",
    "         print(images.dim())\n",
    "\"\"\"\""
   ]
  },
  {
   "cell_type": "code",
   "execution_count": null,
   "id": "86f5b489",
   "metadata": {},
   "outputs": [],
   "source": [
    "\"\"\"\"\n",
    "model_dir= 'rst_adv/pseudolabel_cifar10/10k'\n",
    "epoch = 100\n",
    "normalize_input = False\n",
    "checkpoint = torch.load(os.path.join(model_dir, 'checkpoint-epoch%d.pt' % epoch))\n",
    "num_classes = checkpoint.get('num_classes', 10)\n",
    "normalize_input = checkpoint.get('normalize_input', False)\n",
    "model = get_model('wrn-28-10', \n",
    "                  num_classes=num_classes,\n",
    "                  normalize_input=normalize_input)\n",
    "model = model.to(device)\n",
    "#model = nn.DataParallel(model).cuda()\n",
    "model.load_state_dict(checkpoint['state_dict'])\n",
    "\"\"\""
   ]
  },
  {
   "cell_type": "code",
   "execution_count": null,
   "id": "237ac198",
   "metadata": {},
   "outputs": [],
   "source": [
    "\"\"\"predictions = []\n",
    "data_array = []\n",
    "for i, (batch, _) in enumerate(unlabeled_loader):\n",
    "    data_array.append(batch.numpy())\n",
    "    _, preds = torch.max(model(batch.to(device)), dim=1)\n",
    "    predictions.append(preds.cpu().numpy())\n",
    "    \n",
    "    if (i+1) % 10 == 0:\n",
    "        print('Done %d/%d' % (i+1, len(unlabeled_loader)))\n",
    "data_array = np.concatenate(data_array)\n",
    "new_extrapolated_targets = np.concatenate(predictions)\n",
    "\n",
    "# Convert data_array and new_extrapolated_targets to tensors\n",
    "data_array = torch.from_numpy(data_array)\n",
    "new_extrapolated_targets = torch.from_numpy(new_extrapolated_targets)\n",
    "\n",
    "# Create a new dataset by combining labeled data and predicted labels\n",
    "pseudolabel_combined_dataset = torch.utils.data.TensorDataset(data_array, new_extrapolated_targets)\n",
    "\n",
    "# Create a combined dataloader\n",
    "pseudolabel_combined_loader = torch.utils.data.DataLoader(pseudolabel_combined_dataset, batch_size=TRAIN_BS, shuffle=True, num_workers=2)\n",
    "\n",
    "def my_collate(batch):\n",
    "    \"\"\"Define collate_fn myself because the default_collate_fn throws errors like crazy\"\"\"\n",
    "    # item: a tuple of (img, label)\n",
    "    data = [item[0] for item in batch]\n",
    "    target = [item[1] for item in batch]\n",
    "    data = torch.stack(data)\n",
    "    target = torch.LongTensor(target)\n",
    "    return [data, target]\n",
    "\n",
    "combined_dataset = torch.utils.data.ConcatDataset([labeled_dataset, pseudolabel_combined_dataset])\n",
    "combined_loader = torch.utils.data.DataLoader(\n",
    "    combined_dataset, batch_size=TRAIN_BS, shuffle=True, num_workers=2, collate_fn=my_collate)\n",
    "\n",
    "\n",
    "# Save the combined_loader\n",
    "with open('./data/combined_loader.pkl', 'wb') as f:\n",
    "    pickle.dump(combined_loader, f)\n",
    "    \"\"\""
   ]
  },
  {
   "cell_type": "code",
   "execution_count": null,
   "id": "d0afaede",
   "metadata": {},
   "outputs": [],
   "source": [
    "import torch\n",
    "import torch.nn.functional as F\n",
    "\n",
    "# Example data\n",
    "x_labeled = torch.randn((5, 3, 32, 32))  # Example labeled data\n",
    "y_labeled = torch.tensor([1, 0, 2, 1, 0])  # Example class indices for labeled data\n",
    "\n",
    "x_unlabeled = torch.randn((5, 3, 32, 32))  # Example unlabeled data\n",
    "\n",
    "# Example model\n",
    "class YourModel(torch.nn.Module):\n",
    "    def __init__(self):\n",
    "        super(YourModel, self).__init__()\n",
    "        self.fc = torch.nn.Linear(3 * 32 * 32, 10)\n",
    "\n",
    "    def forward(self, x):\n",
    "        x = x.view(x.size(0), -1)\n",
    "        return self.fc(x)\n",
    "\n",
    "model = YourModel()\n",
    "\n",
    "# Set the model to evaluation mode for pseudo-label generation\n",
    "model.eval()\n",
    "\n",
    "# Generate pseudo-labels\n",
    "with torch.no_grad():\n",
    "    logits_unlabeled = model(x_unlabeled)\n",
    "    pseudo_labels = F.softmax(logits_unlabeled, dim=1)\n",
    "\n",
    "# Ensure y_labeled has the same number of classes as the model\n",
    "num_classes = 10\n",
    "y_labeled = y_labeled.view(-1, 1).long()\n",
    "y_labeled_onehot = F.one_hot(y_labeled, num_classes).float()  # Convert to one-hot encoding\n",
    "\n",
    "# Concatenate class indices and softmax probabilities\n",
    "target = torch.cat([y_labeled_onehot, pseudo_labels], dim=0)\n",
    "\n",
    "print(\"Pseudo Labels:\")\n",
    "print(pseudo_labels)\n",
    "print(\"Target (Concatenated):\")\n",
    "print(target)\n"
   ]
  },
  {
   "cell_type": "code",
   "execution_count": null,
   "id": "b833dd6d",
   "metadata": {},
   "outputs": [],
   "source": [
    "import torch\n",
    "import torch.nn.functional as F\n",
    "\n",
    "# Example hard labels (class indices)\n",
    "hard_labels = torch.tensor([1, 0, 2, 1, 0])  # Example shape: (batch_size,)\n",
    "\n",
    "# Example number of classes\n",
    "num_classes = 10\n",
    "\n",
    "# Convert hard labels to one-hot encoding\n",
    "hard_labels_onehot = F.one_hot(hard_labels, num_classes).float()\n",
    "\n",
    "# Example soft label probabilities\n",
    "soft_labels = F.softmax(torch.randn(5, 10), dim=1)  # Example shape: (batch_size, num_classes)\n",
    "\n",
    "# Concatenate hard labels in one-hot encoding and soft labels\n",
    "concatenated_labels = torch.cat([hard_labels_onehot, soft_labels], dim=0)\n",
    "\n",
    "print(\"Hard Labels (One-Hot):\")\n",
    "print(hard_labels_onehot)\n",
    "print(\"Soft Labels:\")\n",
    "print(soft_labels)\n",
    "print(\"Concatenated Labels:\")\n",
    "print(concatenated_labels)\n"
   ]
  },
  {
   "cell_type": "code",
   "execution_count": null,
   "id": "5bf97331",
   "metadata": {},
   "outputs": [],
   "source": []
  }
 ],
 "metadata": {
  "kernelspec": {
   "display_name": "Python 3 (ipykernel)",
   "language": "python",
   "name": "python3"
  },
  "language_info": {
   "codemirror_mode": {
    "name": "ipython",
    "version": 3
   },
   "file_extension": ".py",
   "mimetype": "text/x-python",
   "name": "python",
   "nbconvert_exporter": "python",
   "pygments_lexer": "ipython3",
   "version": "3.8.16"
  }
 },
 "nbformat": 4,
 "nbformat_minor": 5
}
